{
 "cells": [
  {
   "cell_type": "code",
   "execution_count": 1,
   "metadata": {},
   "outputs": [],
   "source": [
    "import pandas as pd\n",
    "import numpy as np\n",
    "import matplotlib.pyplot as plt\n",
    "import seaborn as sns\n"
   ]
  },
  {
   "cell_type": "code",
   "execution_count": 2,
   "metadata": {},
   "outputs": [
    {
     "data": {
      "text/html": [
       "<div>\n",
       "<style scoped>\n",
       "    .dataframe tbody tr th:only-of-type {\n",
       "        vertical-align: middle;\n",
       "    }\n",
       "\n",
       "    .dataframe tbody tr th {\n",
       "        vertical-align: top;\n",
       "    }\n",
       "\n",
       "    .dataframe thead th {\n",
       "        text-align: right;\n",
       "    }\n",
       "</style>\n",
       "<table border=\"1\" class=\"dataframe\">\n",
       "  <thead>\n",
       "    <tr style=\"text-align: right;\">\n",
       "      <th></th>\n",
       "      <th>ph</th>\n",
       "      <th>Hardness</th>\n",
       "      <th>Solids</th>\n",
       "      <th>Chloramines</th>\n",
       "      <th>Sulfate</th>\n",
       "      <th>Conductivity</th>\n",
       "      <th>Organic_carbon</th>\n",
       "      <th>Trihalomethanes</th>\n",
       "      <th>Turbidity</th>\n",
       "      <th>Potability</th>\n",
       "    </tr>\n",
       "  </thead>\n",
       "  <tbody>\n",
       "    <tr>\n",
       "      <th>0</th>\n",
       "      <td>NaN</td>\n",
       "      <td>204.890455</td>\n",
       "      <td>20791.318981</td>\n",
       "      <td>7.300212</td>\n",
       "      <td>368.516441</td>\n",
       "      <td>564.308654</td>\n",
       "      <td>10.379783</td>\n",
       "      <td>86.990970</td>\n",
       "      <td>2.963135</td>\n",
       "      <td>0</td>\n",
       "    </tr>\n",
       "    <tr>\n",
       "      <th>1</th>\n",
       "      <td>3.716080</td>\n",
       "      <td>129.422921</td>\n",
       "      <td>18630.057858</td>\n",
       "      <td>6.635246</td>\n",
       "      <td>NaN</td>\n",
       "      <td>592.885359</td>\n",
       "      <td>15.180013</td>\n",
       "      <td>56.329076</td>\n",
       "      <td>4.500656</td>\n",
       "      <td>0</td>\n",
       "    </tr>\n",
       "    <tr>\n",
       "      <th>2</th>\n",
       "      <td>8.099124</td>\n",
       "      <td>224.236259</td>\n",
       "      <td>19909.541732</td>\n",
       "      <td>9.275884</td>\n",
       "      <td>NaN</td>\n",
       "      <td>418.606213</td>\n",
       "      <td>16.868637</td>\n",
       "      <td>66.420093</td>\n",
       "      <td>3.055934</td>\n",
       "      <td>0</td>\n",
       "    </tr>\n",
       "    <tr>\n",
       "      <th>3</th>\n",
       "      <td>8.316766</td>\n",
       "      <td>214.373394</td>\n",
       "      <td>22018.417441</td>\n",
       "      <td>8.059332</td>\n",
       "      <td>356.886136</td>\n",
       "      <td>363.266516</td>\n",
       "      <td>18.436524</td>\n",
       "      <td>100.341674</td>\n",
       "      <td>4.628771</td>\n",
       "      <td>0</td>\n",
       "    </tr>\n",
       "    <tr>\n",
       "      <th>4</th>\n",
       "      <td>9.092223</td>\n",
       "      <td>181.101509</td>\n",
       "      <td>17978.986339</td>\n",
       "      <td>6.546600</td>\n",
       "      <td>310.135738</td>\n",
       "      <td>398.410813</td>\n",
       "      <td>11.558279</td>\n",
       "      <td>31.997993</td>\n",
       "      <td>4.075075</td>\n",
       "      <td>0</td>\n",
       "    </tr>\n",
       "    <tr>\n",
       "      <th>...</th>\n",
       "      <td>...</td>\n",
       "      <td>...</td>\n",
       "      <td>...</td>\n",
       "      <td>...</td>\n",
       "      <td>...</td>\n",
       "      <td>...</td>\n",
       "      <td>...</td>\n",
       "      <td>...</td>\n",
       "      <td>...</td>\n",
       "      <td>...</td>\n",
       "    </tr>\n",
       "    <tr>\n",
       "      <th>3271</th>\n",
       "      <td>4.668102</td>\n",
       "      <td>193.681735</td>\n",
       "      <td>47580.991603</td>\n",
       "      <td>7.166639</td>\n",
       "      <td>359.948574</td>\n",
       "      <td>526.424171</td>\n",
       "      <td>13.894419</td>\n",
       "      <td>66.687695</td>\n",
       "      <td>4.435821</td>\n",
       "      <td>1</td>\n",
       "    </tr>\n",
       "    <tr>\n",
       "      <th>3272</th>\n",
       "      <td>7.808856</td>\n",
       "      <td>193.553212</td>\n",
       "      <td>17329.802160</td>\n",
       "      <td>8.061362</td>\n",
       "      <td>NaN</td>\n",
       "      <td>392.449580</td>\n",
       "      <td>19.903225</td>\n",
       "      <td>NaN</td>\n",
       "      <td>2.798243</td>\n",
       "      <td>1</td>\n",
       "    </tr>\n",
       "    <tr>\n",
       "      <th>3273</th>\n",
       "      <td>9.419510</td>\n",
       "      <td>175.762646</td>\n",
       "      <td>33155.578218</td>\n",
       "      <td>7.350233</td>\n",
       "      <td>NaN</td>\n",
       "      <td>432.044783</td>\n",
       "      <td>11.039070</td>\n",
       "      <td>69.845400</td>\n",
       "      <td>3.298875</td>\n",
       "      <td>1</td>\n",
       "    </tr>\n",
       "    <tr>\n",
       "      <th>3274</th>\n",
       "      <td>5.126763</td>\n",
       "      <td>230.603758</td>\n",
       "      <td>11983.869376</td>\n",
       "      <td>6.303357</td>\n",
       "      <td>NaN</td>\n",
       "      <td>402.883113</td>\n",
       "      <td>11.168946</td>\n",
       "      <td>77.488213</td>\n",
       "      <td>4.708658</td>\n",
       "      <td>1</td>\n",
       "    </tr>\n",
       "    <tr>\n",
       "      <th>3275</th>\n",
       "      <td>7.874671</td>\n",
       "      <td>195.102299</td>\n",
       "      <td>17404.177061</td>\n",
       "      <td>7.509306</td>\n",
       "      <td>NaN</td>\n",
       "      <td>327.459760</td>\n",
       "      <td>16.140368</td>\n",
       "      <td>78.698446</td>\n",
       "      <td>2.309149</td>\n",
       "      <td>1</td>\n",
       "    </tr>\n",
       "  </tbody>\n",
       "</table>\n",
       "<p>3276 rows × 10 columns</p>\n",
       "</div>"
      ],
      "text/plain": [
       "            ph    Hardness        Solids  Chloramines     Sulfate  \\\n",
       "0          NaN  204.890455  20791.318981     7.300212  368.516441   \n",
       "1     3.716080  129.422921  18630.057858     6.635246         NaN   \n",
       "2     8.099124  224.236259  19909.541732     9.275884         NaN   \n",
       "3     8.316766  214.373394  22018.417441     8.059332  356.886136   \n",
       "4     9.092223  181.101509  17978.986339     6.546600  310.135738   \n",
       "...        ...         ...           ...          ...         ...   \n",
       "3271  4.668102  193.681735  47580.991603     7.166639  359.948574   \n",
       "3272  7.808856  193.553212  17329.802160     8.061362         NaN   \n",
       "3273  9.419510  175.762646  33155.578218     7.350233         NaN   \n",
       "3274  5.126763  230.603758  11983.869376     6.303357         NaN   \n",
       "3275  7.874671  195.102299  17404.177061     7.509306         NaN   \n",
       "\n",
       "      Conductivity  Organic_carbon  Trihalomethanes  Turbidity  Potability  \n",
       "0       564.308654       10.379783        86.990970   2.963135           0  \n",
       "1       592.885359       15.180013        56.329076   4.500656           0  \n",
       "2       418.606213       16.868637        66.420093   3.055934           0  \n",
       "3       363.266516       18.436524       100.341674   4.628771           0  \n",
       "4       398.410813       11.558279        31.997993   4.075075           0  \n",
       "...            ...             ...              ...        ...         ...  \n",
       "3271    526.424171       13.894419        66.687695   4.435821           1  \n",
       "3272    392.449580       19.903225              NaN   2.798243           1  \n",
       "3273    432.044783       11.039070        69.845400   3.298875           1  \n",
       "3274    402.883113       11.168946        77.488213   4.708658           1  \n",
       "3275    327.459760       16.140368        78.698446   2.309149           1  \n",
       "\n",
       "[3276 rows x 10 columns]"
      ]
     },
     "execution_count": 2,
     "metadata": {},
     "output_type": "execute_result"
    }
   ],
   "source": [
    "df = pd.read_csv('water_potability.csv')\n",
    "df"
   ]
  },
  {
   "cell_type": "code",
   "execution_count": 3,
   "metadata": {},
   "outputs": [],
   "source": [
    "# World Health Organization has set limits for some of the components in the water to determine the portability.\n",
    "\n",
    "# They are \n",
    "# a) ph = (min:6.5, max:8.5)\n",
    "# b) Solids = (max:1000)\n",
    "# c) Chloramines = (max:4)\n",
    "# d) Sulfate = (range(3,30))\n",
    "# e) Conductivity = (max:400)\n",
    "# f) Organic_carbon = (max:2)\n",
    "# g) Trihalomethanes = (max:80)"
   ]
  },
  {
   "cell_type": "code",
   "execution_count": 4,
   "metadata": {},
   "outputs": [
    {
     "name": "stdout",
     "output_type": "stream",
     "text": [
      "<class 'pandas.core.frame.DataFrame'>\n",
      "RangeIndex: 3276 entries, 0 to 3275\n",
      "Data columns (total 10 columns):\n",
      " #   Column           Non-Null Count  Dtype  \n",
      "---  ------           --------------  -----  \n",
      " 0   ph               2785 non-null   float64\n",
      " 1   Hardness         3276 non-null   float64\n",
      " 2   Solids           3276 non-null   float64\n",
      " 3   Chloramines      3276 non-null   float64\n",
      " 4   Sulfate          2495 non-null   float64\n",
      " 5   Conductivity     3276 non-null   float64\n",
      " 6   Organic_carbon   3276 non-null   float64\n",
      " 7   Trihalomethanes  3114 non-null   float64\n",
      " 8   Turbidity        3276 non-null   float64\n",
      " 9   Potability       3276 non-null   int64  \n",
      "dtypes: float64(9), int64(1)\n",
      "memory usage: 256.1 KB\n"
     ]
    }
   ],
   "source": [
    "df.info()"
   ]
  },
  {
   "cell_type": "markdown",
   "metadata": {},
   "source": [
    "### Checking if the Target variable is balanced"
   ]
  },
  {
   "cell_type": "code",
   "execution_count": 5,
   "metadata": {},
   "outputs": [
    {
     "name": "stdout",
     "output_type": "stream",
     "text": [
      "Target Variable Balance:\n",
      " 0    1998\n",
      "1    1278\n",
      "Name: Potability, dtype: int64\n"
     ]
    },
    {
     "data": {
      "text/plain": [
       "Text(0.5, 1.0, 'Potability Distribution')"
      ]
     },
     "execution_count": 5,
     "metadata": {},
     "output_type": "execute_result"
    },
    {
     "data": {
      "image/png": "[encoded data removed]",
      "text/plain": [
       "<Figure size 864x576 with 1 Axes>"
      ]
     },
     "metadata": {
      "needs_background": "light"
     },
     "output_type": "display_data"
    }
   ],
   "source": [
    "class_balance =df['Potability'].value_counts()\n",
    "print('Target Variable Balance:\\n',class_balance)\n",
    "plt.figure(figsize=(12,8))\n",
    "sns.countplot(data = df, x='Potability', palette = 'husl')\n",
    "plt.title('Potability Distribution',size = 15, weight = 'bold')"
   ]
  },
  {
   "cell_type": "markdown",
   "metadata": {},
   "source": [
    "Target Variable has a ratio of 61% to 39% ratio. This dataset is not a highly imbalanced dataset. However balancing the target variable may help in our analysis but I am not performing any technique like SMOTE for this analysis"
   ]
  },
  {
   "cell_type": "markdown",
   "metadata": {},
   "source": [
    "# Handling Missing Values"
   ]
  },
  {
   "cell_type": "code",
   "execution_count": 6,
   "metadata": {},
   "outputs": [],
   "source": [
    "#pip install missingno"
   ]
  },
  {
   "cell_type": "code",
   "execution_count": 7,
   "metadata": {},
   "outputs": [
    {
     "name": "stdout",
     "output_type": "stream",
     "text": [
      "Null Values:\n",
      " ph                 491\n",
      "Hardness             0\n",
      "Solids               0\n",
      "Chloramines          0\n",
      "Sulfate            781\n",
      "Conductivity         0\n",
      "Organic_carbon       0\n",
      "Trihalomethanes    162\n",
      "Turbidity            0\n",
      "Potability           0\n",
      "dtype: int64\n"
     ]
    },
    {
     "data": {
      "image/png": "[encoded data removed]",
      "text/plain": [
       "<Figure size 1800x720 with 2 Axes>"
      ]
     },
     "metadata": {
      "needs_background": "light"
     },
     "output_type": "display_data"
    }
   ],
   "source": [
    "null_info = df.isnull().sum()\n",
    "\n",
    "import missingno as msno\n",
    "\n",
    "fig = msno.matrix(df,color=(0,0.5,0.8))\n",
    "\n",
    "print('Null Values:\\n',null_info)"
   ]
  },
  {
   "cell_type": "markdown",
   "metadata": {},
   "source": [
    "We have null values in 3 variables. Let's deal with them first. We will check how the values are distributed in these columns"
   ]
  },
  {
   "cell_type": "code",
   "execution_count": 8,
   "metadata": {},
   "outputs": [
    {
     "data": {
      "text/plain": [
       "<AxesSubplot:>"
      ]
     },
     "execution_count": 8,
     "metadata": {},
     "output_type": "execute_result"
    },
    {
     "data": {
      "image/png": "[encoded data removed]",
      "text/plain": [
       "<Figure size 432x288 with 1 Axes>"
      ]
     },
     "metadata": {
      "needs_background": "light"
     },
     "output_type": "display_data"
    }
   ],
   "source": [
    "df['ph'].hist()"
   ]
  },
  {
   "cell_type": "code",
   "execution_count": 9,
   "metadata": {},
   "outputs": [
    {
     "data": {
      "text/plain": [
       "<AxesSubplot:>"
      ]
     },
     "execution_count": 9,
     "metadata": {},
     "output_type": "execute_result"
    },
    {
     "data": {
      "image/png": "[encoded data removed]",
      "text/plain": [
       "<Figure size 432x288 with 1 Axes>"
      ]
     },
     "metadata": {
      "needs_background": "light"
     },
     "output_type": "display_data"
    }
   ],
   "source": [
    "df['Sulfate'].hist()"
   ]
  },
  {
   "cell_type": "code",
   "execution_count": 10,
   "metadata": {},
   "outputs": [
    {
     "data": {
      "text/plain": [
       "<AxesSubplot:>"
      ]
     },
     "execution_count": 10,
     "metadata": {},
     "output_type": "execute_result"
    },
    {
     "data": {
      "image/png": "[encoded data removed]",
      "text/plain": [
       "<Figure size 432x288 with 1 Axes>"
      ]
     },
     "metadata": {
      "needs_background": "light"
     },
     "output_type": "display_data"
    }
   ],
   "source": [
    "df['Trihalomethanes'].hist()"
   ]
  },
  {
   "cell_type": "markdown",
   "metadata": {},
   "source": [
    "With the distribution of these columns seen, we can replace the missing values with the mean value."
   ]
  },
  {
   "cell_type": "code",
   "execution_count": 11,
   "metadata": {},
   "outputs": [],
   "source": [
    "df['ph'] = df['ph'].fillna(df['ph'].mean())\n",
    "df['Sulfate'] = df['Sulfate'].fillna(df['Sulfate'].mean())\n",
    "df['Trihalomethanes'] = df['Trihalomethanes'].fillna(df['Trihalomethanes'].mean())\n"
   ]
  },
  {
   "cell_type": "code",
   "execution_count": 12,
   "metadata": {
    "scrolled": true
   },
   "outputs": [
    {
     "data": {
      "text/plain": [
       "<AxesSubplot:>"
      ]
     },
     "execution_count": 12,
     "metadata": {},
     "output_type": "execute_result"
    },
    {
     "data": {
      "image/png": "[encoded data removed]",
      "text/plain": [
       "<Figure size 1440x1080 with 2 Axes>"
      ]
     },
     "metadata": {
      "needs_background": "light"
     },
     "output_type": "display_data"
    }
   ],
   "source": [
    "plt.figure(figsize=(20,15))\n",
    "matrix = np.triu(df.corr())\n",
    "sns.heatmap(df.corr(),annot=True,linewidth=1,mask=matrix,cmap='PiYG')"
   ]
  },
  {
   "cell_type": "markdown",
   "metadata": {},
   "source": [
    "# Splitting the data "
   ]
  },
  {
   "cell_type": "code",
   "execution_count": 13,
   "metadata": {},
   "outputs": [],
   "source": [
    "from sklearn.svm import SVC\n",
    "from sklearn.neural_network import MLPClassifier\n",
    "\n",
    "\n",
    "\n",
    "from sklearn.model_selection import train_test_split,cross_val_score, cross_validate,RandomizedSearchCV, GridSearchCV\n",
    "from sklearn.preprocessing import StandardScaler\n",
    "\n",
    "from sklearn.metrics import accuracy_score,classification_report,confusion_matrix\n",
    "\n",
    "from scipy.stats import uniform"
   ]
  },
  {
   "cell_type": "code",
   "execution_count": 14,
   "metadata": {},
   "outputs": [],
   "source": [
    "# Define our variables and the target label"
   ]
  },
  {
   "cell_type": "code",
   "execution_count": 15,
   "metadata": {},
   "outputs": [],
   "source": [
    "X = df.drop('Potability', axis = 1)\n",
    "y = df['Potability']"
   ]
  },
  {
   "cell_type": "code",
   "execution_count": 16,
   "metadata": {},
   "outputs": [],
   "source": [
    "# Split the original Data into training data and the testing data"
   ]
  },
  {
   "cell_type": "code",
   "execution_count": 17,
   "metadata": {},
   "outputs": [
    {
     "data": {
      "text/plain": [
       "((2784, 9), (2784,))"
      ]
     },
     "execution_count": 17,
     "metadata": {},
     "output_type": "execute_result"
    }
   ],
   "source": [
    "X_train, X_test, y_train, y_test = train_test_split(X,y, test_size = 0.15, random_state = 42)\n",
    "\n",
    "X_train.shape,y_train.shape"
   ]
  },
  {
   "cell_type": "code",
   "execution_count": 18,
   "metadata": {},
   "outputs": [],
   "source": [
    "# Lets keep the test data aside to use this at the end when our models are fully built."
   ]
  },
  {
   "cell_type": "markdown",
   "metadata": {},
   "source": [
    "## Dividing the training data into training and validation data"
   ]
  },
  {
   "cell_type": "code",
   "execution_count": 19,
   "metadata": {},
   "outputs": [],
   "source": [
    "X_train_val, X_test_val, y_train_val, y_test_val = train_test_split(X_train,y_train, test_size = 0.2, random_state = 42)\n"
   ]
  },
  {
   "cell_type": "code",
   "execution_count": 20,
   "metadata": {},
   "outputs": [
    {
     "data": {
      "text/plain": [
       "((2227, 9), (2227,))"
      ]
     },
     "execution_count": 20,
     "metadata": {},
     "output_type": "execute_result"
    }
   ],
   "source": [
    "X_train_val.shape,y_train_val.shape"
   ]
  },
  {
   "cell_type": "code",
   "execution_count": 21,
   "metadata": {},
   "outputs": [
    {
     "data": {
      "text/plain": [
       "((557, 9), (557,))"
      ]
     },
     "execution_count": 21,
     "metadata": {},
     "output_type": "execute_result"
    }
   ],
   "source": [
    "X_test_val.shape,y_test_val.shape"
   ]
  },
  {
   "cell_type": "code",
   "execution_count": 22,
   "metadata": {},
   "outputs": [
    {
     "data": {
      "text/plain": [
       "ph                 0\n",
       "Hardness           0\n",
       "Solids             0\n",
       "Chloramines        0\n",
       "Sulfate            0\n",
       "Conductivity       0\n",
       "Organic_carbon     0\n",
       "Trihalomethanes    0\n",
       "Turbidity          0\n",
       "dtype: int64"
      ]
     },
     "execution_count": 22,
     "metadata": {},
     "output_type": "execute_result"
    }
   ],
   "source": [
    "X_train_val.isnull().sum()"
   ]
  },
  {
   "cell_type": "code",
   "execution_count": 23,
   "metadata": {},
   "outputs": [
    {
     "data": {
      "text/plain": [
       "0    1355\n",
       "1     872\n",
       "Name: Potability, dtype: int64"
      ]
     },
     "execution_count": 23,
     "metadata": {},
     "output_type": "execute_result"
    }
   ],
   "source": [
    "y_train_val.value_counts()"
   ]
  },
  {
   "cell_type": "markdown",
   "metadata": {},
   "source": [
    "# Standardization"
   ]
  },
  {
   "cell_type": "code",
   "execution_count": 24,
   "metadata": {},
   "outputs": [],
   "source": [
    "sc = StandardScaler()\n",
    "X_train_scaled = sc.fit_transform(X_train_val)\n",
    "X_test_scaled = sc.transform(X_test_val)"
   ]
  },
  {
   "cell_type": "code",
   "execution_count": 25,
   "metadata": {},
   "outputs": [
    {
     "data": {
      "text/plain": [
       "(2227, 9)"
      ]
     },
     "execution_count": 25,
     "metadata": {},
     "output_type": "execute_result"
    }
   ],
   "source": [
    "X_train_scaled.shape"
   ]
  },
  {
   "cell_type": "code",
   "execution_count": 26,
   "metadata": {},
   "outputs": [
    {
     "data": {
      "text/plain": [
       "array([[-0.73743358,  2.43381818, -0.09902908, ..., -0.77880437,\n",
       "         1.59935908,  1.43430523],\n",
       "       [-1.04292337, -0.33320927, -0.22323011, ...,  1.27283817,\n",
       "        -1.04883996, -0.3639687 ],\n",
       "       [ 0.85959719,  1.50855095, -1.62001792, ..., -0.06556109,\n",
       "         1.13670945,  0.59559882],\n",
       "       ...,\n",
       "       [ 0.01437914,  1.55285328, -0.36086095, ..., -0.47946153,\n",
       "        -0.37234435,  0.43759931],\n",
       "       [-2.09948052,  0.42787999,  1.22676247, ...,  0.05672309,\n",
       "        -0.483887  ,  0.64436976],\n",
       "       [ 0.45288338, -0.01619849, -0.93271626, ...,  0.77311091,\n",
       "         1.42083579, -1.39211827]])"
      ]
     },
     "execution_count": 26,
     "metadata": {},
     "output_type": "execute_result"
    }
   ],
   "source": [
    "X_train_scaled"
   ]
  },
  {
   "cell_type": "markdown",
   "metadata": {},
   "source": [
    "# SVM Model"
   ]
  },
  {
   "cell_type": "markdown",
   "metadata": {},
   "source": [
    "## Base SVM Model unscaled data"
   ]
  },
  {
   "cell_type": "code",
   "execution_count": 27,
   "metadata": {},
   "outputs": [
    {
     "name": "stdout",
     "output_type": "stream",
     "text": [
      "Initial Training Score : 0.6084418500224518\n",
      "Initial Testing score: 0.6050269299820467\n"
     ]
    }
   ],
   "source": [
    "#Initialize the model\n",
    "SVC_model = SVC(random_state = 0)\n",
    "\n",
    "# Fitting the model to our features and labels\n",
    "SVC_model.fit(X_train_val, y_train_val)\n",
    "\n",
    "# Traning score for the model\n",
    "SVC_train_score = SVC_model.score(X_train_val,y_train_val)\n",
    "print('Initial Training Score :',SVC_train_score)\n",
    "\n",
    "# Predicting the labels for the test dataset\n",
    "prediction = SVC_model.predict(X_test_val)\n",
    "\n",
    "# Calculating the test score\n",
    "SVC_test_score = accuracy_score(y_test_val, prediction)\n",
    "print('Initial Testing score:',SVC_test_score)"
   ]
  },
  {
   "cell_type": "markdown",
   "metadata": {},
   "source": [
    "### Classification Report"
   ]
  },
  {
   "cell_type": "code",
   "execution_count": 28,
   "metadata": {},
   "outputs": [
    {
     "name": "stdout",
     "output_type": "stream",
     "text": [
      "              precision    recall  f1-score   support\n",
      "\n",
      "           0       0.61      1.00      0.75       337\n",
      "           1       1.00      0.00      0.00       220\n",
      "\n",
      "    accuracy                           0.61       557\n",
      "   macro avg       0.80      0.50      0.38       557\n",
      "weighted avg       0.76      0.61      0.46       557\n",
      "\n"
     ]
    }
   ],
   "source": [
    "print(classification_report(y_test_val,prediction, zero_division = True))"
   ]
  },
  {
   "cell_type": "markdown",
   "metadata": {},
   "source": [
    "### Confusion Matrix"
   ]
  },
  {
   "cell_type": "code",
   "execution_count": 29,
   "metadata": {},
   "outputs": [
    {
     "data": {
      "text/plain": [
       "<AxesSubplot:>"
      ]
     },
     "execution_count": 29,
     "metadata": {},
     "output_type": "execute_result"
    },
    {
     "data": {
      "image/png": "[encoded data removed]",
      "text/plain": [
       "<Figure size 432x288 with 2 Axes>"
      ]
     },
     "metadata": {
      "needs_background": "light"
     },
     "output_type": "display_data"
    }
   ],
   "source": [
    "SVC_matrix = confusion_matrix(y_test_val,prediction)\n",
    "sns.heatmap(SVC_matrix/np.sum(SVC_matrix),annot = True, fmt = '0.2%',cmap='Blues')"
   ]
  },
  {
   "cell_type": "code",
   "execution_count": null,
   "metadata": {},
   "outputs": [],
   "source": []
  },
  {
   "cell_type": "markdown",
   "metadata": {},
   "source": [
    "## Base SVM Model scaled data"
   ]
  },
  {
   "cell_type": "code",
   "execution_count": 30,
   "metadata": {},
   "outputs": [
    {
     "name": "stdout",
     "output_type": "stream",
     "text": [
      "Scaled Training Score : 0.7265379434216435\n",
      "Scaled Testing score: 0.6858168761220825\n"
     ]
    }
   ],
   "source": [
    "#Initialize the model\n",
    "SVC_scaled_model = SVC()\n",
    "\n",
    "# Fitting the model to our features and labels\n",
    "SVC_scaled_model.fit(X_train_scaled, y_train_val)\n",
    "\n",
    "# Traning score for the model\n",
    "SVC_scaled_train_score = SVC_scaled_model.score(X_train_scaled,y_train_val)\n",
    "print('Scaled Training Score :',SVC_scaled_train_score)\n",
    "\n",
    "# Predicting the labels for the test dataset\n",
    "scaled_prediction = SVC_scaled_model.predict(X_test_scaled)\n",
    "\n",
    "# Calculating the test score\n",
    "SVC_scaled_test_score = accuracy_score(y_test_val, scaled_prediction)\n",
    "print('Scaled Testing score:',SVC_scaled_test_score)"
   ]
  },
  {
   "cell_type": "code",
   "execution_count": 31,
   "metadata": {},
   "outputs": [],
   "source": [
    "#Classification Report after scaling"
   ]
  },
  {
   "cell_type": "code",
   "execution_count": 32,
   "metadata": {},
   "outputs": [
    {
     "name": "stdout",
     "output_type": "stream",
     "text": [
      "              precision    recall  f1-score   support\n",
      "\n",
      "           0       0.67      0.93      0.78       337\n",
      "           1       0.75      0.30      0.43       220\n",
      "\n",
      "    accuracy                           0.69       557\n",
      "   macro avg       0.71      0.62      0.61       557\n",
      "weighted avg       0.70      0.69      0.64       557\n",
      "\n"
     ]
    }
   ],
   "source": [
    "print(classification_report(y_test_val,scaled_prediction, zero_division = True))"
   ]
  },
  {
   "cell_type": "code",
   "execution_count": 33,
   "metadata": {},
   "outputs": [],
   "source": [
    "#Confusion Matrix after scaling"
   ]
  },
  {
   "cell_type": "code",
   "execution_count": 34,
   "metadata": {},
   "outputs": [
    {
     "data": {
      "text/plain": [
       "<AxesSubplot:>"
      ]
     },
     "execution_count": 34,
     "metadata": {},
     "output_type": "execute_result"
    },
    {
     "data": {
      "image/png": "[encoded data removed]",
      "text/plain": [
       "<Figure size 432x288 with 2 Axes>"
      ]
     },
     "metadata": {
      "needs_background": "light"
     },
     "output_type": "display_data"
    }
   ],
   "source": [
    "SVC_matrix_scaled = confusion_matrix(y_test_val,scaled_prediction)\n",
    "sns.heatmap(SVC_matrix_scaled/np.sum(SVC_matrix_scaled),annot = True, fmt = '0.2%',cmap='Greens')"
   ]
  },
  {
   "cell_type": "markdown",
   "metadata": {},
   "source": [
    "Lets us see if cross validation improves the performance of the our scaled initial model"
   ]
  },
  {
   "cell_type": "code",
   "execution_count": 35,
   "metadata": {},
   "outputs": [
    {
     "data": {
      "text/html": [
       "<div>\n",
       "<style scoped>\n",
       "    .dataframe tbody tr th:only-of-type {\n",
       "        vertical-align: middle;\n",
       "    }\n",
       "\n",
       "    .dataframe tbody tr th {\n",
       "        vertical-align: top;\n",
       "    }\n",
       "\n",
       "    .dataframe thead th {\n",
       "        text-align: right;\n",
       "    }\n",
       "</style>\n",
       "<table border=\"1\" class=\"dataframe\">\n",
       "  <thead>\n",
       "    <tr style=\"text-align: right;\">\n",
       "      <th></th>\n",
       "      <th>fit_time</th>\n",
       "      <th>score_time</th>\n",
       "      <th>test_accuracy</th>\n",
       "      <th>test_precision_weighted</th>\n",
       "      <th>test_recall_weighted</th>\n",
       "      <th>test_f1_weighted</th>\n",
       "    </tr>\n",
       "  </thead>\n",
       "  <tbody>\n",
       "    <tr>\n",
       "      <th>1</th>\n",
       "      <td>0.205214</td>\n",
       "      <td>0.034932</td>\n",
       "      <td>0.677130</td>\n",
       "      <td>0.684004</td>\n",
       "      <td>0.677130</td>\n",
       "      <td>0.637103</td>\n",
       "    </tr>\n",
       "    <tr>\n",
       "      <th>2</th>\n",
       "      <td>0.209466</td>\n",
       "      <td>0.034897</td>\n",
       "      <td>0.663677</td>\n",
       "      <td>0.660164</td>\n",
       "      <td>0.663677</td>\n",
       "      <td>0.626220</td>\n",
       "    </tr>\n",
       "    <tr>\n",
       "      <th>3</th>\n",
       "      <td>0.205752</td>\n",
       "      <td>0.034818</td>\n",
       "      <td>0.663677</td>\n",
       "      <td>0.662146</td>\n",
       "      <td>0.663677</td>\n",
       "      <td>0.623427</td>\n",
       "    </tr>\n",
       "    <tr>\n",
       "      <th>4</th>\n",
       "      <td>0.206238</td>\n",
       "      <td>0.034697</td>\n",
       "      <td>0.663677</td>\n",
       "      <td>0.660164</td>\n",
       "      <td>0.663677</td>\n",
       "      <td>0.626220</td>\n",
       "    </tr>\n",
       "    <tr>\n",
       "      <th>5</th>\n",
       "      <td>0.220179</td>\n",
       "      <td>0.035293</td>\n",
       "      <td>0.627803</td>\n",
       "      <td>0.608099</td>\n",
       "      <td>0.627803</td>\n",
       "      <td>0.580024</td>\n",
       "    </tr>\n",
       "    <tr>\n",
       "      <th>6</th>\n",
       "      <td>0.209017</td>\n",
       "      <td>0.035133</td>\n",
       "      <td>0.690583</td>\n",
       "      <td>0.718748</td>\n",
       "      <td>0.690583</td>\n",
       "      <td>0.646442</td>\n",
       "    </tr>\n",
       "    <tr>\n",
       "      <th>7</th>\n",
       "      <td>0.207630</td>\n",
       "      <td>0.034902</td>\n",
       "      <td>0.677130</td>\n",
       "      <td>0.710541</td>\n",
       "      <td>0.677130</td>\n",
       "      <td>0.622981</td>\n",
       "    </tr>\n",
       "    <tr>\n",
       "      <th>8</th>\n",
       "      <td>0.210533</td>\n",
       "      <td>0.035537</td>\n",
       "      <td>0.693694</td>\n",
       "      <td>0.726754</td>\n",
       "      <td>0.693694</td>\n",
       "      <td>0.647319</td>\n",
       "    </tr>\n",
       "    <tr>\n",
       "      <th>9</th>\n",
       "      <td>0.209494</td>\n",
       "      <td>0.034862</td>\n",
       "      <td>0.666667</td>\n",
       "      <td>0.689459</td>\n",
       "      <td>0.666667</td>\n",
       "      <td>0.609250</td>\n",
       "    </tr>\n",
       "    <tr>\n",
       "      <th>10</th>\n",
       "      <td>0.211424</td>\n",
       "      <td>0.034868</td>\n",
       "      <td>0.662162</td>\n",
       "      <td>0.678014</td>\n",
       "      <td>0.662162</td>\n",
       "      <td>0.605792</td>\n",
       "    </tr>\n",
       "  </tbody>\n",
       "</table>\n",
       "</div>"
      ],
      "text/plain": [
       "    fit_time  score_time  test_accuracy  test_precision_weighted  \\\n",
       "1   0.205214    0.034932       0.677130                 0.684004   \n",
       "2   0.209466    0.034897       0.663677                 0.660164   \n",
       "3   0.205752    0.034818       0.663677                 0.662146   \n",
       "4   0.206238    0.034697       0.663677                 0.660164   \n",
       "5   0.220179    0.035293       0.627803                 0.608099   \n",
       "6   0.209017    0.035133       0.690583                 0.718748   \n",
       "7   0.207630    0.034902       0.677130                 0.710541   \n",
       "8   0.210533    0.035537       0.693694                 0.726754   \n",
       "9   0.209494    0.034862       0.666667                 0.689459   \n",
       "10  0.211424    0.034868       0.662162                 0.678014   \n",
       "\n",
       "    test_recall_weighted  test_f1_weighted  \n",
       "1               0.677130          0.637103  \n",
       "2               0.663677          0.626220  \n",
       "3               0.663677          0.623427  \n",
       "4               0.663677          0.626220  \n",
       "5               0.627803          0.580024  \n",
       "6               0.690583          0.646442  \n",
       "7               0.677130          0.622981  \n",
       "8               0.693694          0.647319  \n",
       "9               0.666667          0.609250  \n",
       "10              0.662162          0.605792  "
      ]
     },
     "execution_count": 35,
     "metadata": {},
     "output_type": "execute_result"
    }
   ],
   "source": [
    "SVC_cv_model = SVC()\n",
    "\n",
    "SVC_cv_scores = cross_validate(SVC_cv_model, X_train_scaled, y_train_val,scoring = ['accuracy','precision_weighted','recall_weighted','f1_weighted'], cv = 10)\n",
    "\n",
    "SVC_cv_scores = pd.DataFrame(SVC_cv_scores, index = range(1,11))\n",
    "\n",
    "SVC_cv_scores"
   ]
  },
  {
   "cell_type": "code",
   "execution_count": 36,
   "metadata": {},
   "outputs": [
    {
     "data": {
      "text/plain": [
       "test_accuracy              0.668620\n",
       "test_precision_weighted    0.679809\n",
       "test_recall_weighted       0.668620\n",
       "test_f1_weighted           0.622478\n",
       "dtype: float64"
      ]
     },
     "execution_count": 36,
     "metadata": {},
     "output_type": "execute_result"
    }
   ],
   "source": [
    "SVC_cv_scores.mean()[2:]"
   ]
  },
  {
   "cell_type": "markdown",
   "metadata": {},
   "source": [
    "It hasn't acheived a great result compared to above model."
   ]
  },
  {
   "cell_type": "markdown",
   "metadata": {},
   "source": [
    "## Hyperparameter Tuning for SVC model"
   ]
  },
  {
   "cell_type": "markdown",
   "metadata": {},
   "source": [
    "Let us try Random Search method to find the best parameter set in the plane."
   ]
  },
  {
   "cell_type": "code",
   "execution_count": 37,
   "metadata": {},
   "outputs": [],
   "source": [
    "# %%time\n",
    "\n",
    "# SVC_random_model = SVC()\n",
    "\n",
    "# parameters = {'C':[0.1,0.3,0.5,0.8,1,3,7],\n",
    "#               # 'C': uniform(1,100),\n",
    "#               'kernel': ['rbf','sigmoid'],\n",
    "#               'gamma':['auto','scale']\n",
    "#              }\n",
    "\n",
    "# random_search = RandomizedSearchCV(estimator = SVC_random_model,\n",
    "#                                    param_distributions = parameters,\n",
    "#                                    cv=3)\n",
    "# random_search.fit(X_train_val, y_train_val)\n",
    "# random_search.best_params_"
   ]
  },
  {
   "cell_type": "markdown",
   "metadata": {},
   "source": [
    "It has been observed that each kernel can choose its parameters easily. Hence each kernel is taken once at a time. And Linear kernel takes a longer time than usual to fit the datapoints. Hence this kernel is skipped in this analysis."
   ]
  },
  {
   "cell_type": "code",
   "execution_count": 38,
   "metadata": {},
   "outputs": [],
   "source": [
    "# sheet = pd.DataFrame(random_search.cv_results_)\n",
    "# sheet[['param_C','param_kernel','mean_test_score']]"
   ]
  },
  {
   "cell_type": "code",
   "execution_count": 39,
   "metadata": {},
   "outputs": [],
   "source": [
    "# random_model = SVC(C= 1,gamma = 'scale', kernel = 'rbf')\n",
    "# random_model.fit(X_train_scaled,y_train_val)\n",
    "# train_random_score=random_model.score(X_train_scaled,y_train_val)\n",
    "# # Calculating the training score\n",
    "# print('Random rbf Training Score :',train_random_score)"
   ]
  },
  {
   "cell_type": "code",
   "execution_count": 40,
   "metadata": {},
   "outputs": [],
   "source": [
    "# %%time\n",
    "\n",
    "# SVC_random_model = SVC()\n",
    "\n",
    "# parameters = {'C':[0.1,0.3,0.5,0.8,1,3,7],\n",
    "#               'kernel': ['poly'],\n",
    "#               'degree':[1,2,3,4,5]\n",
    "#              }\n",
    "\n",
    "# random_search = RandomizedSearchCV(estimator = SVC_random_model,\n",
    "#                                    param_distributions = parameters,\n",
    "#                                    cv=3)\n",
    "# random_search.fit(X_train_val, y_train_val)\n",
    "\n",
    "# random_search.best_params_"
   ]
  },
  {
   "cell_type": "markdown",
   "metadata": {},
   "source": [
    "Let us test the model with the parameters which we found are the best."
   ]
  },
  {
   "cell_type": "code",
   "execution_count": 41,
   "metadata": {},
   "outputs": [],
   "source": [
    "\n",
    "# random_model = SVC(C= 7,gamma = 'scale', kernel = 'poly',degree= 4)\n",
    "# random_model.fit(X_train_scaled,y_train_val)\n",
    "# train_random_score=random_model.score(X_train_scaled,y_train_val)\n",
    "# # Calculating the training score\n",
    "# print('Random poly Training Score :',train_random_score)\n",
    "\n",
    "# # test_random_score = random_model.predict(X_test_scaled)\n",
    "# # test_random_score = accuracy_score(y_test_val, test_random_score)\n",
    "\n",
    "# # # Calculating the test score\n",
    "# # print('Testing score:',test_random_score)"
   ]
  },
  {
   "cell_type": "markdown",
   "metadata": {},
   "source": [
    "From the above two sets of models, we can observe that the poly kernel performs well with this data."
   ]
  },
  {
   "cell_type": "markdown",
   "metadata": {},
   "source": [
    "# Using Grid Search to find the Hyperparameters"
   ]
  },
  {
   "cell_type": "code",
   "execution_count": 42,
   "metadata": {},
   "outputs": [],
   "source": [
    "# %%time\n",
    "\n",
    "# C_range = [0.1,1,10,50]\n",
    "\n",
    "# gamma_range = ['auto','scale']\n",
    "\n",
    "# kernel_range = ['rbf','linear','poly']\n",
    "\n",
    "# degree_range = [1,2,3,4,5]\n",
    "\n",
    "# parameters = dict(gamma = gamma_range, C= C_range, kernel = kernel_range, degree = degree_range)\n",
    "\n",
    "# grid_SVC = SVC()\n",
    "\n",
    "# grid = GridSearchCV(grid_SVC, param_grid= parameters, cv=3)\n",
    "\n",
    "# grid.fit(X_train_scaled, y_train_val)\n",
    "\n",
    "# grid.best_params_"
   ]
  },
  {
   "cell_type": "markdown",
   "metadata": {},
   "source": [
    "Applying this parameters to our model to check the performance."
   ]
  },
  {
   "cell_type": "code",
   "execution_count": 43,
   "metadata": {},
   "outputs": [],
   "source": [
    "# grid_model = SVC(C= 10,gamma = 'auto', kernel = 'poly',degree= 2)\n",
    "# grid_model.fit(X_train_scaled,y_train_val)\n",
    "# train_grid_score=grid_model.score(X_train_scaled,y_train_val)\n",
    "# # Calculating the training score\n",
    "# print('Grid Training Score :',train_grid_score)\n",
    "\n",
    "# # test_grid_score = grid_model.predict(X_test_scaled)\n",
    "# # test_grid_score = accuracy_score(y_test_val, test_grid_score)\n",
    "\n",
    "# # # Calculating the test score\n",
    "# # print('Testing score:',test_grid_score)"
   ]
  },
  {
   "cell_type": "markdown",
   "metadata": {},
   "source": [
    "From the above two models we can choose Random Search model as our final parameters"
   ]
  },
  {
   "cell_type": "code",
   "execution_count": 44,
   "metadata": {},
   "outputs": [],
   "source": [
    "# final_parameters = {'C':[76],\n",
    "#               'kernel': ['rbf'],\n",
    "#               'gamma':['auto'],\n",
    "#               'degree':[2]\n",
    "#              }"
   ]
  },
  {
   "cell_type": "markdown",
   "metadata": {},
   "source": [
    "## Best Model"
   ]
  },
  {
   "cell_type": "code",
   "execution_count": null,
   "metadata": {},
   "outputs": [],
   "source": []
  },
  {
   "cell_type": "code",
   "execution_count": 45,
   "metadata": {},
   "outputs": [],
   "source": [
    "# %%time\n",
    "\n",
    "# best_SVC_model = SVC(C= 1,gamma = 'scale', kernel = 'poly',degree= 4)\n",
    "# best_SVC_model.fit(X_train_scaled,y_train_val)\n",
    "# train_best_SVC_score=best_SVC_model.score(X_train_scaled,y_train_val)\n",
    "# # Calculating the training score\n",
    "# print('Training Score :',train_best_SVC_score)\n",
    "\n",
    "# # test_best_score = best_model.predict(X_test_scaled)\n",
    "# # test_best_score = accuracy_score(y_test_val, test_best_score)\n",
    "\n",
    "# # # Calculating the test score\n",
    "# # print('Testing score:',test_final_score)"
   ]
  },
  {
   "cell_type": "markdown",
   "metadata": {},
   "source": [
    "Our final model is ready and lets apply this on our test data set."
   ]
  },
  {
   "cell_type": "markdown",
   "metadata": {},
   "source": [
    "# Standardise the test data set"
   ]
  },
  {
   "cell_type": "code",
   "execution_count": 46,
   "metadata": {},
   "outputs": [],
   "source": [
    "# scs = StandardScaler()\n",
    "# X_train = scs.fit_transform(X_train)\n",
    "# X_test = scs.transform(X_test)"
   ]
  },
  {
   "cell_type": "code",
   "execution_count": null,
   "metadata": {},
   "outputs": [],
   "source": []
  },
  {
   "cell_type": "markdown",
   "metadata": {},
   "source": [
    "# Running our test model and checking our accuracy"
   ]
  },
  {
   "cell_type": "code",
   "execution_count": null,
   "metadata": {},
   "outputs": [],
   "source": []
  },
  {
   "cell_type": "code",
   "execution_count": null,
   "metadata": {},
   "outputs": [],
   "source": [
    "\n"
   ]
  },
  {
   "cell_type": "code",
   "execution_count": 47,
   "metadata": {},
   "outputs": [],
   "source": [
    "# %%time\n",
    "\n",
    "# # final_SVC_model = SVC(C= 1,gamma = 'auto', kernel = 'rbf',degree= 2)\n",
    "# # final_SVC_model.fit(X_train,y_train)\n",
    "# # train_final_SVC_score=final_SVC_model.score(X_train,y_train)\n",
    "# # # Calculating the training score\n",
    "# # print('Training Score :',train_final_SVC_score)\n",
    "\n",
    "# test_final_SVC = best_SVC_model.predict(X_test)\n",
    "# test_final_SVC_score = accuracy_score(y_test, test_final_SVC)\n",
    "\n",
    "# # Calculating the test score\n",
    "# print('Final Model Testing score:',test_final_SVC_score)"
   ]
  },
  {
   "cell_type": "markdown",
   "metadata": {},
   "source": [
    "# MLP Model"
   ]
  },
  {
   "cell_type": "code",
   "execution_count": 48,
   "metadata": {},
   "outputs": [],
   "source": [
    "# pip install skorch"
   ]
  },
  {
   "cell_type": "code",
   "execution_count": 49,
   "metadata": {},
   "outputs": [],
   "source": [
    "import torch\n",
    "from torch import nn\n",
    "import torch.nn.functional as F\n",
    "import torch.optim as optim\n",
    "\n",
    "from skorch import NeuralNetClassifier\n",
    "from skorch.callbacks import EarlyStopping"
   ]
  },
  {
   "cell_type": "markdown",
   "metadata": {},
   "source": [
    "### We will define the initial parameters needed for our multilayer perceptron"
   ]
  },
  {
   "cell_type": "code",
   "execution_count": 50,
   "metadata": {},
   "outputs": [],
   "source": [
    "input_dim = X_train_val.shape[1]\n",
    "hidden_dim = 100\n",
    "output_dim = 2\n",
    "dropout = 0.5\n",
    "activation = F.relu\n",
    "device ='cpu'"
   ]
  },
  {
   "cell_type": "code",
   "execution_count": 51,
   "metadata": {},
   "outputs": [
    {
     "name": "stdout",
     "output_type": "stream",
     "text": [
      "Input Size: 9 Hidden Size: 100 Output Size: 2\n"
     ]
    }
   ],
   "source": [
    "print('Input Size:',input_dim,\n",
    "      'Hidden Size:', hidden_dim,\n",
    "      'Output Size:',output_dim)"
   ]
  },
  {
   "cell_type": "markdown",
   "metadata": {},
   "source": [
    "### Building a basic neural network"
   ]
  },
  {
   "cell_type": "code",
   "execution_count": 52,
   "metadata": {},
   "outputs": [],
   "source": [
    "class MLP(nn.Module):\n",
    "    def __init__(\n",
    "            self,\n",
    "            input_size = input_dim,\n",
    "            hidden_size = hidden_dim,\n",
    "            output_size = output_dim,\n",
    "            dropout = dropout,\n",
    "            activation = activation\n",
    "    ):\n",
    "        super(MLP, self).__init__()\n",
    "        self.dropout = nn.Dropout(dropout)\n",
    "        self.activation = activation\n",
    "        self.fc1 = nn.Linear(input_size, hidden_size)\n",
    "        self.fc2 = nn.Linear(hidden_size, hidden_size)\n",
    "        self.output_size = nn.Linear(hidden_size, output_size)\n",
    "        \n",
    "    def forward(self, X):\n",
    "        X = self.activation(self.fc1(X))\n",
    "        X = self.dropout(X)\n",
    "        X = self.activation(self.fc2(X))\n",
    "        X = self.dropout(X)\n",
    "        X = F.softmax(self.output_size(X), dim = -1)\n",
    "        \n",
    "        return X"
   ]
  },
  {
   "cell_type": "markdown",
   "metadata": {},
   "source": [
    "Building a model using the network"
   ]
  },
  {
   "cell_type": "code",
   "execution_count": 53,
   "metadata": {},
   "outputs": [],
   "source": [
    "torch.manual_seed(0)\n",
    "\n",
    "MLP_model = NeuralNetClassifier(\n",
    "    MLP,\n",
    "    max_epochs = 20,\n",
    "    lr = 0.1,\n",
    "    device = device)"
   ]
  },
  {
   "cell_type": "markdown",
   "metadata": {},
   "source": [
    "Converting the double datatype to float datatype"
   ]
  },
  {
   "cell_type": "code",
   "execution_count": 54,
   "metadata": {},
   "outputs": [],
   "source": [
    "\n",
    "X_train_scaled = X_train_scaled.astype(np.float32)\n",
    "X_test_scaled = X_test_scaled.astype(np.float32)\n"
   ]
  },
  {
   "cell_type": "markdown",
   "metadata": {},
   "source": [
    "Fit the model into our dataset"
   ]
  },
  {
   "cell_type": "code",
   "execution_count": 55,
   "metadata": {},
   "outputs": [
    {
     "name": "stdout",
     "output_type": "stream",
     "text": [
      "  epoch    train_loss    valid_acc    valid_loss     dur\n",
      "-------  ------------  -----------  ------------  ------\n",
      "      1        \u001b[36m0.6897\u001b[0m       \u001b[32m0.6076\u001b[0m        \u001b[35m0.6728\u001b[0m  0.0362\n",
      "      2        \u001b[36m0.6763\u001b[0m       0.6076        \u001b[35m0.6708\u001b[0m  0.0347\n",
      "      3        0.6774       0.6076        \u001b[35m0.6689\u001b[0m  0.0348\n",
      "      4        \u001b[36m0.6723\u001b[0m       0.6076        \u001b[35m0.6678\u001b[0m  0.0343\n",
      "      5        0.6739       0.6076        \u001b[35m0.6667\u001b[0m  0.0343\n",
      "      6        \u001b[36m0.6704\u001b[0m       0.6076        0.6668  0.0344\n",
      "      7        \u001b[36m0.6703\u001b[0m       0.6076        \u001b[35m0.6654\u001b[0m  0.0349\n",
      "      8        \u001b[36m0.6662\u001b[0m       0.6076        \u001b[35m0.6645\u001b[0m  0.0344\n",
      "      9        0.6696       \u001b[32m0.6099\u001b[0m        \u001b[35m0.6633\u001b[0m  0.0351\n",
      "     10        \u001b[36m0.6637\u001b[0m       0.6099        \u001b[35m0.6616\u001b[0m  0.0348\n",
      "     11        0.6666       0.6099        \u001b[35m0.6611\u001b[0m  0.0342\n",
      "     12        0.6641       0.6099        \u001b[35m0.6600\u001b[0m  0.0374\n",
      "     13        \u001b[36m0.6635\u001b[0m       0.6099        \u001b[35m0.6591\u001b[0m  0.0347\n",
      "     14        \u001b[36m0.6634\u001b[0m       0.6099        \u001b[35m0.6585\u001b[0m  0.0342\n",
      "     15        0.6636       0.6099        \u001b[35m0.6578\u001b[0m  0.0342\n",
      "     16        \u001b[36m0.6624\u001b[0m       0.6099        \u001b[35m0.6572\u001b[0m  0.0345\n",
      "     17        \u001b[36m0.6556\u001b[0m       \u001b[32m0.6121\u001b[0m        \u001b[35m0.6558\u001b[0m  0.0343\n",
      "     18        0.6640       0.6099        0.6559  0.0344\n",
      "     19        0.6589       \u001b[32m0.6143\u001b[0m        \u001b[35m0.6549\u001b[0m  0.0344\n",
      "     20        0.6606       0.6121        \u001b[35m0.6543\u001b[0m  0.0341\n"
     ]
    },
    {
     "data": {
      "text/plain": [
       "<class 'skorch.classifier.NeuralNetClassifier'>[initialized](\n",
       "  module_=MLP(\n",
       "    (dropout): Dropout(p=0.5, inplace=False)\n",
       "    (fc1): Linear(in_features=9, out_features=100, bias=True)\n",
       "    (fc2): Linear(in_features=100, out_features=100, bias=True)\n",
       "    (output_size): Linear(in_features=100, out_features=2, bias=True)\n",
       "  ),\n",
       ")"
      ]
     },
     "execution_count": 55,
     "metadata": {},
     "output_type": "execute_result"
    }
   ],
   "source": [
    "MLP_model.fit(X_train_scaled, y_train_val)"
   ]
  },
  {
   "cell_type": "markdown",
   "metadata": {},
   "source": [
    "Let us use this model to predict our target variables and see the predictions on the validation dataset"
   ]
  },
  {
   "cell_type": "code",
   "execution_count": 56,
   "metadata": {},
   "outputs": [
    {
     "name": "stdout",
     "output_type": "stream",
     "text": [
      "Initial Testing Score: 0.6211849192100538\n"
     ]
    }
   ],
   "source": [
    "mlp_pred = MLP_model.predict(X_test_scaled)\n",
    "\n",
    "mlp_pred_score = accuracy_score(y_test_val, mlp_pred)\n",
    "\n",
    "print('Initial Testing Score:',mlp_pred_score)"
   ]
  },
  {
   "cell_type": "markdown",
   "metadata": {},
   "source": [
    "Early Stopping is found to be useful many scenarios. Hence we will try this on our model"
   ]
  },
  {
   "cell_type": "code",
   "execution_count": 57,
   "metadata": {},
   "outputs": [],
   "source": [
    "MLP_model = NeuralNetClassifier(\n",
    "    MLP,\n",
    "    lr = 1,\n",
    "    max_epochs = 100,\n",
    "    callbacks = [EarlyStopping()]\n",
    "    )"
   ]
  },
  {
   "cell_type": "code",
   "execution_count": 58,
   "metadata": {},
   "outputs": [
    {
     "name": "stdout",
     "output_type": "stream",
     "text": [
      "  epoch    train_loss    valid_acc    valid_loss     dur\n",
      "-------  ------------  -----------  ------------  ------\n",
      "      1        \u001b[36m0.6919\u001b[0m       \u001b[32m0.6076\u001b[0m        \u001b[35m0.6842\u001b[0m  0.0344\n",
      "      2        \u001b[36m0.6686\u001b[0m       0.6076        \u001b[35m0.6707\u001b[0m  0.0343\n",
      "      3        \u001b[36m0.6647\u001b[0m       0.6076        \u001b[35m0.6632\u001b[0m  0.0340\n",
      "      4        \u001b[36m0.6523\u001b[0m       \u001b[32m0.6233\u001b[0m        \u001b[35m0.6552\u001b[0m  0.0344\n",
      "      5        \u001b[36m0.6488\u001b[0m       \u001b[32m0.6323\u001b[0m        \u001b[35m0.6458\u001b[0m  0.0341\n",
      "      6        \u001b[36m0.6423\u001b[0m       0.6233        \u001b[35m0.6408\u001b[0m  0.0339\n",
      "      7        0.6437       \u001b[32m0.6413\u001b[0m        \u001b[35m0.6348\u001b[0m  0.0340\n",
      "      8        0.6470       0.6368        0.6362  0.0338\n",
      "      9        \u001b[36m0.6331\u001b[0m       0.6323        0.6403  0.0340\n",
      "     10        0.6356       0.6390        \u001b[35m0.6331\u001b[0m  0.0362\n",
      "     11        0.6355       \u001b[32m0.6525\u001b[0m        \u001b[35m0.6296\u001b[0m  0.0340\n",
      "     12        0.6398       0.6435        0.6337  0.0342\n",
      "     13        \u001b[36m0.6214\u001b[0m       \u001b[32m0.6547\u001b[0m        0.6322  0.0340\n",
      "     14        \u001b[36m0.6149\u001b[0m       0.6457        0.6380  0.0339\n",
      "     15        0.6209       \u001b[32m0.6592\u001b[0m        0.6306  0.0340\n",
      "Stopping since valid_loss has not improved in the last 5 epochs.\n"
     ]
    },
    {
     "data": {
      "text/plain": [
       "<class 'skorch.classifier.NeuralNetClassifier'>[initialized](\n",
       "  module_=MLP(\n",
       "    (dropout): Dropout(p=0.5, inplace=False)\n",
       "    (fc1): Linear(in_features=9, out_features=100, bias=True)\n",
       "    (fc2): Linear(in_features=100, out_features=100, bias=True)\n",
       "    (output_size): Linear(in_features=100, out_features=2, bias=True)\n",
       "  ),\n",
       ")"
      ]
     },
     "execution_count": 58,
     "metadata": {},
     "output_type": "execute_result"
    }
   ],
   "source": [
    "MLP_model.fit(X_train_scaled,y_train_val)"
   ]
  },
  {
   "cell_type": "code",
   "execution_count": 59,
   "metadata": {},
   "outputs": [
    {
     "name": "stdout",
     "output_type": "stream",
     "text": [
      "Testing Score after using Early Stopping: 0.6642728904847397\n"
     ]
    }
   ],
   "source": [
    "mlp_pred = MLP_model.predict(X_test_scaled)\n",
    "\n",
    "mlp_pred_score = accuracy_score(y_test_val, mlp_pred)\n",
    "\n",
    "print('Testing Score after using Early Stopping:',mlp_pred_score)"
   ]
  },
  {
   "cell_type": "markdown",
   "metadata": {},
   "source": [
    "It indeed increased the performance of our model."
   ]
  },
  {
   "cell_type": "markdown",
   "metadata": {},
   "source": [
    "Lets Check if Cross Validation can improve our model."
   ]
  },
  {
   "cell_type": "code",
   "execution_count": 60,
   "metadata": {},
   "outputs": [
    {
     "name": "stdout",
     "output_type": "stream",
     "text": [
      "  epoch    train_loss    valid_acc    valid_loss     dur\n",
      "-------  ------------  -----------  ------------  ------\n",
      "      1        \u001b[36m0.6983\u001b[0m       \u001b[32m0.6078\u001b[0m        \u001b[35m0.6740\u001b[0m  0.0275\n",
      "      2        \u001b[36m0.6741\u001b[0m       \u001b[32m0.6108\u001b[0m        \u001b[35m0.6699\u001b[0m  0.0269\n",
      "      3        \u001b[36m0.6663\u001b[0m       0.6078        \u001b[35m0.6659\u001b[0m  0.0260\n",
      "      4        \u001b[36m0.6589\u001b[0m       \u001b[32m0.6317\u001b[0m        \u001b[35m0.6638\u001b[0m  0.0267\n",
      "      5        \u001b[36m0.6574\u001b[0m       0.6228        0.6683  0.0264\n",
      "      6        \u001b[36m0.6498\u001b[0m       0.6198        0.6648  0.0259\n",
      "      7        \u001b[36m0.6378\u001b[0m       \u001b[32m0.6347\u001b[0m        \u001b[35m0.6486\u001b[0m  0.0267\n",
      "      8        0.6387       \u001b[32m0.6407\u001b[0m        0.6495  0.0263\n",
      "      9        \u001b[36m0.6177\u001b[0m       0.6407        0.6586  0.0262\n",
      "     10        0.6318       \u001b[32m0.6437\u001b[0m        0.6562  0.0262\n",
      "     11        0.6267       0.6347        \u001b[35m0.6450\u001b[0m  0.0265\n",
      "     12        0.6277       0.6437        \u001b[35m0.6409\u001b[0m  0.0263\n",
      "     13        0.6263       \u001b[32m0.6617\u001b[0m        \u001b[35m0.6387\u001b[0m  0.0259\n",
      "     14        \u001b[36m0.6084\u001b[0m       0.6347        0.6515  0.0262\n",
      "     15        \u001b[36m0.5961\u001b[0m       0.6347        0.6475  0.0261\n",
      "     16        0.6073       0.6437        0.6423  0.0259\n",
      "     17        0.6089       0.6497        0.6492  0.0262\n",
      "     18        0.6155       0.6497        \u001b[35m0.6375\u001b[0m  0.0256\n",
      "     19        0.6101       0.6497        0.6382  0.0257\n",
      "     20        0.6100       0.6407        0.6500  0.0262\n",
      "     21        0.5970       0.6437        0.6510  0.0256\n",
      "     22        0.6037       0.6437        0.6404  0.0258\n",
      "Stopping since valid_loss has not improved in the last 5 epochs.\n",
      "  epoch    train_loss    valid_acc    valid_loss     dur\n",
      "-------  ------------  -----------  ------------  ------\n",
      "      1        \u001b[36m0.6971\u001b[0m       \u001b[32m0.6108\u001b[0m        \u001b[35m0.6668\u001b[0m  0.0263\n",
      "      2        \u001b[36m0.6786\u001b[0m       0.6108        \u001b[35m0.6600\u001b[0m  0.0263\n",
      "      3        \u001b[36m0.6705\u001b[0m       \u001b[32m0.6138\u001b[0m        \u001b[35m0.6539\u001b[0m  0.0267\n",
      "      4        \u001b[36m0.6627\u001b[0m       \u001b[32m0.6347\u001b[0m        \u001b[35m0.6498\u001b[0m  0.0267\n",
      "      5        \u001b[36m0.6563\u001b[0m       0.6257        \u001b[35m0.6405\u001b[0m  0.0264\n",
      "      6        \u001b[36m0.6508\u001b[0m       \u001b[32m0.6587\u001b[0m        \u001b[35m0.6279\u001b[0m  0.0259\n",
      "      7        0.6555       0.6527        0.6337  0.0261\n",
      "      8        \u001b[36m0.6368\u001b[0m       \u001b[32m0.6916\u001b[0m        \u001b[35m0.6236\u001b[0m  0.0262\n",
      "      9        \u001b[36m0.6362\u001b[0m       0.6856        \u001b[35m0.6227\u001b[0m  0.0262\n",
      "     10        \u001b[36m0.6347\u001b[0m       0.6886        \u001b[35m0.6169\u001b[0m  0.0259\n",
      "     11        0.6358       \u001b[32m0.6946\u001b[0m        \u001b[35m0.6134\u001b[0m  0.0261\n",
      "     12        \u001b[36m0.6189\u001b[0m       0.6886        \u001b[35m0.6074\u001b[0m  0.0264\n",
      "     13        0.6219       0.6647        0.6144  0.0261\n",
      "     14        0.6360       0.6766        0.6181  0.0414\n",
      "     15        \u001b[36m0.6157\u001b[0m       0.6737        0.6179  0.0270\n",
      "     16        0.6230       0.6856        0.6112  0.0263\n",
      "     17        0.6272       0.6826        \u001b[35m0.5999\u001b[0m  0.0372\n",
      "     18        \u001b[36m0.6136\u001b[0m       0.6916        0.6064  0.0267\n",
      "     19        0.6141       0.6826        0.6088  0.0260\n",
      "     20        0.6219       0.6856        0.6070  0.0262\n",
      "     21        \u001b[36m0.6027\u001b[0m       0.6946        0.6137  0.0274\n",
      "Stopping since valid_loss has not improved in the last 5 epochs.\n",
      "  epoch    train_loss    valid_acc    valid_loss     dur\n",
      "-------  ------------  -----------  ------------  ------\n",
      "      1        \u001b[36m0.6953\u001b[0m       \u001b[32m0.6108\u001b[0m        \u001b[35m0.6644\u001b[0m  0.0252\n",
      "      2        \u001b[36m0.6741\u001b[0m       0.6108        \u001b[35m0.6612\u001b[0m  0.0270\n",
      "      3        \u001b[36m0.6717\u001b[0m       \u001b[32m0.6138\u001b[0m        \u001b[35m0.6529\u001b[0m  0.0261\n",
      "      4        \u001b[36m0.6594\u001b[0m       \u001b[32m0.6257\u001b[0m        \u001b[35m0.6438\u001b[0m  0.0264\n",
      "      5        0.6672       \u001b[32m0.6287\u001b[0m        0.6496  0.0261\n",
      "      6        \u001b[36m0.6573\u001b[0m       \u001b[32m0.6557\u001b[0m        \u001b[35m0.6366\u001b[0m  0.0263\n",
      "      7        \u001b[36m0.6506\u001b[0m       0.6377        \u001b[35m0.6328\u001b[0m  0.0258\n",
      "      8        0.6572       \u001b[32m0.6617\u001b[0m        \u001b[35m0.6323\u001b[0m  0.0262\n",
      "      9        \u001b[36m0.6418\u001b[0m       \u001b[32m0.6677\u001b[0m        \u001b[35m0.6218\u001b[0m  0.0266\n",
      "     10        0.6543       0.6647        \u001b[35m0.6212\u001b[0m  0.0258\n",
      "     11        0.6438       \u001b[32m0.6737\u001b[0m        \u001b[35m0.6178\u001b[0m  0.0259\n",
      "     12        \u001b[36m0.6406\u001b[0m       \u001b[32m0.6766\u001b[0m        0.6191  0.0263\n",
      "     13        0.6437       \u001b[32m0.6856\u001b[0m        \u001b[35m0.6111\u001b[0m  0.0260\n",
      "     14        \u001b[36m0.6385\u001b[0m       \u001b[32m0.6946\u001b[0m        \u001b[35m0.6054\u001b[0m  0.0258\n",
      "     15        0.6390       0.6946        0.6082  0.0259\n",
      "     16        \u001b[36m0.6337\u001b[0m       0.6916        0.6107  0.0263\n",
      "     17        0.6404       0.6886        0.6082  0.0263\n",
      "     18        \u001b[36m0.6223\u001b[0m       0.6886        0.6112  0.0258\n",
      "Stopping since valid_loss has not improved in the last 5 epochs.\n",
      "  epoch    train_loss    valid_acc    valid_loss     dur\n",
      "-------  ------------  -----------  ------------  ------\n",
      "      1        \u001b[36m0.6943\u001b[0m       \u001b[32m0.3910\u001b[0m        \u001b[35m0.9613\u001b[0m  0.0273\n",
      "      2        0.7058       0.3910        \u001b[35m0.7327\u001b[0m  0.0265\n",
      "      3        \u001b[36m0.6732\u001b[0m       0.3910        0.7506  0.0259\n",
      "      4        0.6769       \u001b[32m0.3970\u001b[0m        \u001b[35m0.7197\u001b[0m  0.0261\n",
      "      5        0.6762       \u001b[32m0.4090\u001b[0m        \u001b[35m0.7037\u001b[0m  0.0383\n",
      "      6        \u001b[36m0.6569\u001b[0m       0.4000        0.7816  0.0263\n",
      "      7        0.6735       0.4000        0.7458  0.0259\n",
      "      8        \u001b[36m0.6482\u001b[0m       \u001b[32m0.4328\u001b[0m        0.7753  0.0263\n",
      "      9        0.6646       \u001b[32m0.4627\u001b[0m        0.7342  0.0263\n",
      "     10        0.6493       \u001b[32m0.5433\u001b[0m        \u001b[35m0.6964\u001b[0m  0.0259\n",
      "     11        0.6512       0.5134        0.7057  0.0260\n",
      "     12        \u001b[36m0.6442\u001b[0m       \u001b[32m0.5731\u001b[0m        \u001b[35m0.6866\u001b[0m  0.0261\n",
      "     13        \u001b[36m0.6396\u001b[0m       0.5134        0.7064  0.0257\n",
      "     14        0.6501       0.5463        0.6872  0.0262\n",
      "     15        \u001b[36m0.6381\u001b[0m       0.5672        0.7094  0.0262\n",
      "     16        0.6386       0.5522        0.7160  0.0260\n",
      "     17        0.6568       \u001b[32m0.5761\u001b[0m        \u001b[35m0.6813\u001b[0m  0.0260\n",
      "     18        \u001b[36m0.6378\u001b[0m       0.5672        0.6870  0.0263\n",
      "     19        \u001b[36m0.6370\u001b[0m       0.5642        0.7053  0.0275\n",
      "     20        \u001b[36m0.6298\u001b[0m       0.5582        0.6981  0.0264\n",
      "     21        0.6355       0.5761        0.6854  0.0261\n",
      "Stopping since valid_loss has not improved in the last 5 epochs.\n"
     ]
    }
   ],
   "source": [
    "scores = cross_validate(MLP_model, X_train_scaled, y_train_val, scoring = 'accuracy', cv =4)"
   ]
  },
  {
   "cell_type": "code",
   "execution_count": 61,
   "metadata": {},
   "outputs": [
    {
     "data": {
      "text/plain": [
       "{'fit_time': array([0.62810397, 0.62986803, 0.51697111, 0.61341095]),\n",
       " 'score_time': array([0.0053122 , 0.00527716, 0.00532413, 0.00549102]),\n",
       " 'test_score': array([0.65888689, 0.64452424, 0.68043088, 0.55215827])}"
      ]
     },
     "execution_count": 61,
     "metadata": {},
     "output_type": "execute_result"
    }
   ],
   "source": [
    "scores"
   ]
  },
  {
   "cell_type": "markdown",
   "metadata": {},
   "source": [
    "From the scores of the cross validation process, we can observe that the performance of the model hasn't changed much on an average. "
   ]
  },
  {
   "cell_type": "markdown",
   "metadata": {},
   "source": [
    "# MLP Hyperparameter Optimization"
   ]
  },
  {
   "cell_type": "code",
   "execution_count": 65,
   "metadata": {},
   "outputs": [],
   "source": [
    "# Setting a base model without any parameters\n",
    "\n",
    "#criterion = nn.BCELoss()\n",
    "criterion = nn.CrossEntropyLoss()\n",
    "\n",
    "MLP_model = NeuralNetClassifier(\n",
    "    MLP,\n",
    "    criterion = criterion,\n",
    "    callbacks = [EarlyStopping()]\n",
    "    )"
   ]
  },
  {
   "cell_type": "markdown",
   "metadata": {},
   "source": [
    "## Using Random Search to find the best parameters"
   ]
  },
  {
   "cell_type": "code",
   "execution_count": 66,
   "metadata": {},
   "outputs": [],
   "source": [
    "\n",
    "MLP_model.set_params(verbose=0)\n",
    "\n",
    "params = {   'lr': [0.0001,0.001,0.01],\n",
    "             'batch_size': [250,300,350],\n",
    "             'optimizer':[optim.Adam, optim.SGD],\n",
    "             'module__hidden_size': [50,100,200],\n",
    "             'module__dropout': [0.2,0.3,0.5],\n",
    "             'module__activation':[F.relu, F.selu,F.leaky_relu],\n",
    "             'max_epochs': [200,400,500]\n",
    "         }\n",
    "\n",
    "random_MLP = RandomizedSearchCV(MLP_model,\n",
    "                           params,\n",
    "                           cv=3,\n",
    "                           scoring = 'accuracy')\n",
    "\n",
    "random_MLP.fit(X_train_scaled, y_train_val);"
   ]
  },
  {
   "cell_type": "code",
   "execution_count": 67,
   "metadata": {},
   "outputs": [
    {
     "data": {
      "text/plain": [
       "(0.643025833203339,\n",
       " {'optimizer': torch.optim.adam.Adam,\n",
       "  'module__hidden_size': 100,\n",
       "  'module__dropout': 0.5,\n",
       "  'module__activation': <function torch.nn.functional.relu(input: torch.Tensor, inplace: bool = False) -> torch.Tensor>,\n",
       "  'max_epochs': 400,\n",
       "  'lr': 0.01,\n",
       "  'batch_size': 350})"
      ]
     },
     "execution_count": 67,
     "metadata": {},
     "output_type": "execute_result"
    }
   ],
   "source": [
    "random_MLP.best_score_, random_MLP.best_params_"
   ]
  },
  {
   "cell_type": "markdown",
   "metadata": {},
   "source": [
    "## Using Grid Search to find the best parameters"
   ]
  },
  {
   "cell_type": "code",
   "execution_count": 68,
   "metadata": {},
   "outputs": [
    {
     "name": "stdout",
     "output_type": "stream",
     "text": [
      "CPU times: user 20min 2s, sys: 26 s, total: 20min 28s\n",
      "Wall time: 1h 45min 14s\n"
     ]
    },
    {
     "data": {
      "text/plain": [
       "GridSearchCV(cv=3,\n",
       "             estimator=<class 'skorch.classifier.NeuralNetClassifier'>[uninitialized](\n",
       "  module=<class '__main__.MLP'>,\n",
       "),\n",
       "             param_grid={'batch_size': [250, 300, 350], 'lr': [0.001, 0.01],\n",
       "                         'max_epochs': [500],\n",
       "                         'module__dropout': [0.3, 0.4, 0.5],\n",
       "                         'module__hidden_size': [50, 100, 150],\n",
       "                         'optimizer': [<class 'torch.optim.adam.Adam'>,\n",
       "                                       <class 'torch.optim.sgd.SGD'>]},\n",
       "             scoring='accuracy')"
      ]
     },
     "execution_count": 68,
     "metadata": {},
     "output_type": "execute_result"
    }
   ],
   "source": [
    "%%time\n",
    "MLP_model.set_params()\n",
    "\n",
    "params = {'lr': [0.001,0.01],\n",
    "         'optimizer':[optim.Adam, optim.SGD],\n",
    "         'batch_size': [250,300,350],\n",
    "         'max_epochs': [500],\n",
    "         'module__hidden_size': [50,100,150],\n",
    "         'module__dropout': [0.3,0.4,0.5]\n",
    "         }\n",
    "\n",
    "grid_MLP = GridSearchCV(MLP_model,\n",
    "                       params,\n",
    "                       cv=3,\n",
    "                       scoring = \"accuracy\"\n",
    "                       )\n",
    "\n",
    "\n",
    "grid_MLP.fit(X_train_scaled, y_train_val)"
   ]
  },
  {
   "cell_type": "code",
   "execution_count": 69,
   "metadata": {},
   "outputs": [
    {
     "data": {
      "text/plain": [
       "(0.657395953124641,\n",
       " {'batch_size': 300,\n",
       "  'lr': 0.001,\n",
       "  'max_epochs': 500,\n",
       "  'module__dropout': 0.4,\n",
       "  'module__hidden_size': 150,\n",
       "  'optimizer': torch.optim.adam.Adam})"
      ]
     },
     "execution_count": 69,
     "metadata": {},
     "output_type": "execute_result"
    }
   ],
   "source": [
    "grid_MLP.best_score_, grid_MLP.best_params_"
   ]
  },
  {
   "cell_type": "markdown",
   "metadata": {},
   "source": [
    "# Best Model "
   ]
  },
  {
   "cell_type": "markdown",
   "metadata": {},
   "source": [
    "Let us re build our base model with the values obtained from the GridSearchCV method."
   ]
  },
  {
   "cell_type": "code",
   "execution_count": 70,
   "metadata": {},
   "outputs": [],
   "source": [
    "input_dim = X_train_val.shape[1]\n",
    "hidden_dim = 50\n",
    "output_dim = 2\n",
    "dropout = 0.5\n",
    "activation = F.relu"
   ]
  },
  {
   "cell_type": "code",
   "execution_count": 71,
   "metadata": {},
   "outputs": [],
   "source": [
    "class MLP(nn.Module):\n",
    "    def __init__(\n",
    "            self,\n",
    "            input_size = input_dim,\n",
    "            hidden_size = hidden_dim,\n",
    "            output_size = output_dim,\n",
    "            dropout = dropout,\n",
    "            activation = activation\n",
    "    ):\n",
    "        super(MLP, self).__init__()\n",
    "        self.dropout = nn.Dropout(dropout)\n",
    "        self.activation = activation\n",
    "        self.fc1 = nn.Linear(input_size, hidden_size)\n",
    "        self.fc2 = nn.Linear(hidden_size, hidden_size)\n",
    "        self.output_size = nn.Linear(hidden_size, output_size)\n",
    "        \n",
    "    def forward(self, X):\n",
    "        X = self.activation(self.fc1(X))\n",
    "        X = self.dropout(X)\n",
    "        X = self.activation(self.fc2(X))\n",
    "        X = self.dropout(X)\n",
    "        X = F.softmax(self.output_size(X), dim = -1)\n",
    "        \n",
    "        return X"
   ]
  },
  {
   "cell_type": "markdown",
   "metadata": {},
   "source": [
    "From the above methods we can determine the best parameters suited for our model."
   ]
  },
  {
   "cell_type": "code",
   "execution_count": 72,
   "metadata": {},
   "outputs": [],
   "source": [
    "# Best Parameters\n",
    "batch_size = 250\n",
    "lr = 0.001\n",
    "epochs = 500\n",
    "optimizer = optim.Adam\n",
    "# criterion = nn.BCELoss()\n",
    "criterion = nn.CrossEntropyLoss()"
   ]
  },
  {
   "cell_type": "markdown",
   "metadata": {},
   "source": [
    "Building our final model with the parameters choosen above"
   ]
  },
  {
   "cell_type": "code",
   "execution_count": 73,
   "metadata": {},
   "outputs": [
    {
     "name": "stdout",
     "output_type": "stream",
     "text": [
      "  epoch    train_loss    valid_acc    valid_loss     dur\n",
      "-------  ------------  -----------  ------------  ------\n",
      "      1        \u001b[36m0.6839\u001b[0m       \u001b[32m0.6076\u001b[0m        \u001b[35m0.6812\u001b[0m  0.0397\n",
      "      2        \u001b[36m0.6810\u001b[0m       0.6076        \u001b[35m0.6766\u001b[0m  0.0405\n",
      "      3        \u001b[36m0.6760\u001b[0m       0.6076        \u001b[35m0.6740\u001b[0m  0.0421\n",
      "      4        \u001b[36m0.6757\u001b[0m       0.6076        \u001b[35m0.6723\u001b[0m  0.0301\n",
      "      5        \u001b[36m0.6741\u001b[0m       0.6076        \u001b[35m0.6712\u001b[0m  0.0556\n",
      "      6        0.6744       0.6076        \u001b[35m0.6705\u001b[0m  0.0564\n",
      "      7        \u001b[36m0.6696\u001b[0m       0.6076        \u001b[35m0.6699\u001b[0m  0.0433\n",
      "      8        0.6718       0.6076        \u001b[35m0.6693\u001b[0m  0.0281\n",
      "      9        0.6718       0.6076        \u001b[35m0.6688\u001b[0m  0.0318\n",
      "     10        0.6705       0.6076        \u001b[35m0.6683\u001b[0m  0.0375\n",
      "     11        \u001b[36m0.6694\u001b[0m       0.6076        \u001b[35m0.6677\u001b[0m  0.0289\n",
      "     12        \u001b[36m0.6681\u001b[0m       0.6076        \u001b[35m0.6668\u001b[0m  0.0307\n",
      "     13        0.6689       0.6076        \u001b[35m0.6659\u001b[0m  0.0276\n",
      "     14        \u001b[36m0.6665\u001b[0m       0.6076        \u001b[35m0.6650\u001b[0m  0.0281\n",
      "     15        \u001b[36m0.6639\u001b[0m       0.6076        \u001b[35m0.6641\u001b[0m  0.0278\n",
      "     16        0.6680       0.6076        \u001b[35m0.6632\u001b[0m  0.0281\n",
      "     17        0.6644       0.6031        \u001b[35m0.6622\u001b[0m  0.0277\n",
      "     18        0.6662       0.6054        \u001b[35m0.6614\u001b[0m  0.0286\n",
      "     19        0.6644       \u001b[32m0.6099\u001b[0m        \u001b[35m0.6606\u001b[0m  0.0279\n",
      "     20        \u001b[36m0.6637\u001b[0m       0.6099        \u001b[35m0.6598\u001b[0m  0.0274\n",
      "     21        0.6655       0.6099        \u001b[35m0.6587\u001b[0m  0.0273\n",
      "     22        \u001b[36m0.6608\u001b[0m       0.6099        \u001b[35m0.6577\u001b[0m  0.0273\n",
      "     23        \u001b[36m0.6600\u001b[0m       \u001b[32m0.6143\u001b[0m        \u001b[35m0.6568\u001b[0m  0.0272\n",
      "     24        0.6612       \u001b[32m0.6256\u001b[0m        \u001b[35m0.6555\u001b[0m  0.0273\n",
      "     25        \u001b[36m0.6562\u001b[0m       0.6256        \u001b[35m0.6543\u001b[0m  0.0272\n",
      "     26        0.6591       \u001b[32m0.6278\u001b[0m        \u001b[35m0.6531\u001b[0m  0.0274\n",
      "     27        \u001b[36m0.6520\u001b[0m       0.6233        \u001b[35m0.6518\u001b[0m  0.0272\n",
      "     28        0.6566       \u001b[32m0.6300\u001b[0m        \u001b[35m0.6504\u001b[0m  0.0287\n",
      "     29        0.6563       0.6278        \u001b[35m0.6489\u001b[0m  0.0375\n",
      "     30        \u001b[36m0.6506\u001b[0m       \u001b[32m0.6345\u001b[0m        \u001b[35m0.6474\u001b[0m  0.0297\n",
      "     31        0.6542       \u001b[32m0.6435\u001b[0m        \u001b[35m0.6461\u001b[0m  0.0292\n",
      "     32        \u001b[36m0.6495\u001b[0m       0.6435        \u001b[35m0.6451\u001b[0m  0.0291\n",
      "     33        0.6511       0.6435        \u001b[35m0.6439\u001b[0m  0.0284\n",
      "     34        \u001b[36m0.6466\u001b[0m       \u001b[32m0.6502\u001b[0m        \u001b[35m0.6429\u001b[0m  0.0285\n",
      "     35        0.6491       0.6502        \u001b[35m0.6424\u001b[0m  0.0284\n",
      "     36        0.6469       \u001b[32m0.6525\u001b[0m        \u001b[35m0.6419\u001b[0m  0.0288\n",
      "     37        0.6466       0.6525        \u001b[35m0.6411\u001b[0m  0.0301\n",
      "     38        0.6472       \u001b[32m0.6547\u001b[0m        \u001b[35m0.6403\u001b[0m  0.0295\n",
      "     39        0.6477       \u001b[32m0.6637\u001b[0m        \u001b[35m0.6396\u001b[0m  0.0455\n",
      "     40        0.6494       \u001b[32m0.6682\u001b[0m        \u001b[35m0.6386\u001b[0m  0.0339\n",
      "     41        \u001b[36m0.6436\u001b[0m       \u001b[32m0.6704\u001b[0m        \u001b[35m0.6374\u001b[0m  0.0321\n",
      "     42        0.6496       0.6682        \u001b[35m0.6369\u001b[0m  0.0356\n",
      "     43        \u001b[36m0.6371\u001b[0m       0.6659        \u001b[35m0.6366\u001b[0m  0.0323\n",
      "     44        0.6453       0.6704        \u001b[35m0.6360\u001b[0m  0.0292\n",
      "     45        0.6442       0.6659        \u001b[35m0.6358\u001b[0m  0.0285\n",
      "     46        0.6411       0.6682        \u001b[35m0.6353\u001b[0m  0.0283\n",
      "     47        0.6387       0.6637        \u001b[35m0.6347\u001b[0m  0.0289\n",
      "     48        0.6387       0.6637        \u001b[35m0.6340\u001b[0m  0.0290\n",
      "     49        0.6378       0.6637        \u001b[35m0.6333\u001b[0m  0.0284\n",
      "     50        \u001b[36m0.6296\u001b[0m       0.6659        \u001b[35m0.6328\u001b[0m  0.0279\n",
      "     51        0.6399       0.6637        \u001b[35m0.6322\u001b[0m  0.0280\n",
      "     52        0.6325       0.6659        \u001b[35m0.6319\u001b[0m  0.0281\n",
      "     53        0.6387       0.6659        \u001b[35m0.6318\u001b[0m  0.0277\n",
      "     54        0.6364       0.6659        \u001b[35m0.6318\u001b[0m  0.0276\n",
      "     55        0.6338       0.6637        \u001b[35m0.6312\u001b[0m  0.0277\n",
      "     56        0.6342       0.6682        \u001b[35m0.6309\u001b[0m  0.0285\n",
      "     57        \u001b[36m0.6294\u001b[0m       0.6614        \u001b[35m0.6306\u001b[0m  0.0279\n",
      "     58        0.6295       0.6525        \u001b[35m0.6304\u001b[0m  0.0276\n",
      "     59        0.6305       0.6592        \u001b[35m0.6300\u001b[0m  0.0280\n",
      "     60        0.6330       0.6570        \u001b[35m0.6299\u001b[0m  0.0276\n",
      "     61        0.6324       0.6592        \u001b[35m0.6295\u001b[0m  0.0277\n",
      "     62        0.6306       0.6592        \u001b[35m0.6291\u001b[0m  0.0279\n",
      "     63        0.6303       0.6570        \u001b[35m0.6287\u001b[0m  0.0403\n",
      "     64        0.6299       0.6614        \u001b[35m0.6285\u001b[0m  0.0645\n",
      "     65        \u001b[36m0.6281\u001b[0m       0.6592        0.6285  0.0283\n",
      "     66        0.6304       0.6570        \u001b[35m0.6285\u001b[0m  0.0301\n",
      "     67        \u001b[36m0.6263\u001b[0m       0.6525        0.6287  0.0281\n",
      "     68        \u001b[36m0.6241\u001b[0m       0.6502        0.6291  0.0282\n",
      "Stopping since valid_loss has not improved in the last 5 epochs.\n"
     ]
    },
    {
     "data": {
      "text/plain": [
       "<class 'skorch.classifier.NeuralNetClassifier'>[initialized](\n",
       "  module_=MLP(\n",
       "    (dropout): Dropout(p=0.5, inplace=False)\n",
       "    (fc1): Linear(in_features=9, out_features=50, bias=True)\n",
       "    (fc2): Linear(in_features=50, out_features=50, bias=True)\n",
       "    (output_size): Linear(in_features=50, out_features=2, bias=True)\n",
       "  ),\n",
       ")"
      ]
     },
     "execution_count": 73,
     "metadata": {},
     "output_type": "execute_result"
    }
   ],
   "source": [
    "torch.manual_seed(0)\n",
    "\n",
    "MLP_best = NeuralNetClassifier(\n",
    "            MLP,\n",
    "            max_epochs = epochs,\n",
    "            batch_size = batch_size,\n",
    "            optimizer = optimizer,\n",
    "            criterion = criterion,\n",
    "            lr = lr,\n",
    "            callbacks = [EarlyStopping()]\n",
    "            )\n",
    "MLP_best.fit(X_train_scaled, y_train_val)"
   ]
  },
  {
   "cell_type": "code",
   "execution_count": 75,
   "metadata": {},
   "outputs": [
    {
     "name": "stdout",
     "output_type": "stream",
     "text": [
      "Final Testing Score on train data: 0.6912028725314183\n"
     ]
    }
   ],
   "source": [
    "MLP_best_pred = MLP_best.predict(X_test_scaled)\n",
    "\n",
    "MLP_best_pred_score = accuracy_score(y_test_val, MLP_best_pred)\n",
    "\n",
    "print('Final Testing Score on train data:',MLP_best_pred_score)"
   ]
  },
  {
   "cell_type": "markdown",
   "metadata": {},
   "source": [
    "# Standardise the test data set"
   ]
  },
  {
   "cell_type": "code",
   "execution_count": 76,
   "metadata": {},
   "outputs": [],
   "source": [
    "scs = StandardScaler()\n",
    "X_train = scs.fit_transform(X_train)\n",
    "X_test = scs.transform(X_test)"
   ]
  },
  {
   "cell_type": "code",
   "execution_count": 78,
   "metadata": {},
   "outputs": [],
   "source": [
    "X_train = X_train.astype(np.float32)\n",
    "X_test = X_test.astype(np.float32)"
   ]
  },
  {
   "cell_type": "code",
   "execution_count": null,
   "metadata": {},
   "outputs": [],
   "source": []
  },
  {
   "cell_type": "markdown",
   "metadata": {},
   "source": [
    "# Running our test model and checking our accuracy"
   ]
  },
  {
   "cell_type": "code",
   "execution_count": 80,
   "metadata": {},
   "outputs": [
    {
     "name": "stdout",
     "output_type": "stream",
     "text": [
      "Final Testing Score on testing data: 0.676829268292683\n"
     ]
    }
   ],
   "source": [
    "final_MLP_model = MLP_best.predict(X_test)\n",
    "\n",
    "final_MLP_model_score = accuracy_score(y_test, final_MLP_model)\n",
    "\n",
    "print('Final Testing Score on testing data:',final_MLP_model_score)\n",
    "\n"
   ]
  },
  {
   "cell_type": "markdown",
   "metadata": {},
   "source": [
    "Final Results from both the models"
   ]
  },
  {
   "cell_type": "code",
   "execution_count": 81,
   "metadata": {},
   "outputs": [
    {
     "ename": "NameError",
     "evalue": "name 'test_final_SVC_score' is not defined",
     "output_type": "error",
     "traceback": [
      "\u001b[0;31m---------------------------------------------------------------------------\u001b[0m",
      "\u001b[0;31mNameError\u001b[0m                                 Traceback (most recent call last)",
      "\u001b[0;32m<ipython-input-81-e2f43cc89e8d>\u001b[0m in \u001b[0;36m<module>\u001b[0;34m\u001b[0m\n\u001b[0;32m----> 1\u001b[0;31m \u001b[0mprint\u001b[0m\u001b[0;34m(\u001b[0m\u001b[0;34m'Final Model Testing score:'\u001b[0m\u001b[0;34m,\u001b[0m\u001b[0mtest_final_SVC_score\u001b[0m\u001b[0;34m)\u001b[0m\u001b[0;34m\u001b[0m\u001b[0;34m\u001b[0m\u001b[0m\n\u001b[0m\u001b[1;32m      2\u001b[0m \u001b[0mprint\u001b[0m\u001b[0;34m(\u001b[0m\u001b[0;34m'Final Testing Score on testing data:'\u001b[0m\u001b[0;34m,\u001b[0m\u001b[0mfinal_MLP_model_score\u001b[0m\u001b[0;34m)\u001b[0m\u001b[0;34m\u001b[0m\u001b[0;34m\u001b[0m\u001b[0m\n",
      "\u001b[0;31mNameError\u001b[0m: name 'test_final_SVC_score' is not defined"
     ]
    }
   ],
   "source": [
    "print('Final Model Testing score:',test_final_SVC_score)\n",
    "print('Final Testing Score on testing data:',final_MLP_model_score)\n"
   ]
  },
  {
   "cell_type": "markdown",
   "metadata": {},
   "source": [
    "# "
   ]
  }
 ],
 "metadata": {
  "kernelspec": {
   "display_name": "Python 3",
   "language": "python",
   "name": "python3"
  },
  "language_info": {
   "codemirror_mode": {
    "name": "ipython",
    "version": 3
   },
   "file_extension": ".py",
   "mimetype": "text/x-python",
   "name": "python",
   "nbconvert_exporter": "python",
   "pygments_lexer": "ipython3",
   "version": "3.8.5"
  }
 },
 "nbformat": 4,
 "nbformat_minor": 4
}
