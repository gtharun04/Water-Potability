{
 "cells": [
  {
   "cell_type": "code",
   "execution_count": 1,
   "metadata": {},
   "outputs": [],
   "source": [
    "import pandas as pd\n",
    "import numpy as np\n",
    "import matplotlib.pyplot as plt\n",
    "import seaborn as sns\n"
   ]
  },
  {
   "cell_type": "code",
   "execution_count": 2,
   "metadata": {},
   "outputs": [
    {
     "data": {
      "text/html": [
       "<div>\n",
       "<style scoped>\n",
       "    .dataframe tbody tr th:only-of-type {\n",
       "        vertical-align: middle;\n",
       "    }\n",
       "\n",
       "    .dataframe tbody tr th {\n",
       "        vertical-align: top;\n",
       "    }\n",
       "\n",
       "    .dataframe thead th {\n",
       "        text-align: right;\n",
       "    }\n",
       "</style>\n",
       "<table border=\"1\" class=\"dataframe\">\n",
       "  <thead>\n",
       "    <tr style=\"text-align: right;\">\n",
       "      <th></th>\n",
       "      <th>ph</th>\n",
       "      <th>Hardness</th>\n",
       "      <th>Solids</th>\n",
       "      <th>Chloramines</th>\n",
       "      <th>Sulfate</th>\n",
       "      <th>Conductivity</th>\n",
       "      <th>Organic_carbon</th>\n",
       "      <th>Trihalomethanes</th>\n",
       "      <th>Turbidity</th>\n",
       "      <th>Potability</th>\n",
       "    </tr>\n",
       "  </thead>\n",
       "  <tbody>\n",
       "    <tr>\n",
       "      <th>0</th>\n",
       "      <td>NaN</td>\n",
       "      <td>204.890455</td>\n",
       "      <td>20791.318981</td>\n",
       "      <td>7.300212</td>\n",
       "      <td>368.516441</td>\n",
       "      <td>564.308654</td>\n",
       "      <td>10.379783</td>\n",
       "      <td>86.990970</td>\n",
       "      <td>2.963135</td>\n",
       "      <td>0</td>\n",
       "    </tr>\n",
       "    <tr>\n",
       "      <th>1</th>\n",
       "      <td>3.716080</td>\n",
       "      <td>129.422921</td>\n",
       "      <td>18630.057858</td>\n",
       "      <td>6.635246</td>\n",
       "      <td>NaN</td>\n",
       "      <td>592.885359</td>\n",
       "      <td>15.180013</td>\n",
       "      <td>56.329076</td>\n",
       "      <td>4.500656</td>\n",
       "      <td>0</td>\n",
       "    </tr>\n",
       "    <tr>\n",
       "      <th>2</th>\n",
       "      <td>8.099124</td>\n",
       "      <td>224.236259</td>\n",
       "      <td>19909.541732</td>\n",
       "      <td>9.275884</td>\n",
       "      <td>NaN</td>\n",
       "      <td>418.606213</td>\n",
       "      <td>16.868637</td>\n",
       "      <td>66.420093</td>\n",
       "      <td>3.055934</td>\n",
       "      <td>0</td>\n",
       "    </tr>\n",
       "    <tr>\n",
       "      <th>3</th>\n",
       "      <td>8.316766</td>\n",
       "      <td>214.373394</td>\n",
       "      <td>22018.417441</td>\n",
       "      <td>8.059332</td>\n",
       "      <td>356.886136</td>\n",
       "      <td>363.266516</td>\n",
       "      <td>18.436524</td>\n",
       "      <td>100.341674</td>\n",
       "      <td>4.628771</td>\n",
       "      <td>0</td>\n",
       "    </tr>\n",
       "    <tr>\n",
       "      <th>4</th>\n",
       "      <td>9.092223</td>\n",
       "      <td>181.101509</td>\n",
       "      <td>17978.986339</td>\n",
       "      <td>6.546600</td>\n",
       "      <td>310.135738</td>\n",
       "      <td>398.410813</td>\n",
       "      <td>11.558279</td>\n",
       "      <td>31.997993</td>\n",
       "      <td>4.075075</td>\n",
       "      <td>0</td>\n",
       "    </tr>\n",
       "    <tr>\n",
       "      <th>...</th>\n",
       "      <td>...</td>\n",
       "      <td>...</td>\n",
       "      <td>...</td>\n",
       "      <td>...</td>\n",
       "      <td>...</td>\n",
       "      <td>...</td>\n",
       "      <td>...</td>\n",
       "      <td>...</td>\n",
       "      <td>...</td>\n",
       "      <td>...</td>\n",
       "    </tr>\n",
       "    <tr>\n",
       "      <th>3271</th>\n",
       "      <td>4.668102</td>\n",
       "      <td>193.681735</td>\n",
       "      <td>47580.991603</td>\n",
       "      <td>7.166639</td>\n",
       "      <td>359.948574</td>\n",
       "      <td>526.424171</td>\n",
       "      <td>13.894419</td>\n",
       "      <td>66.687695</td>\n",
       "      <td>4.435821</td>\n",
       "      <td>1</td>\n",
       "    </tr>\n",
       "    <tr>\n",
       "      <th>3272</th>\n",
       "      <td>7.808856</td>\n",
       "      <td>193.553212</td>\n",
       "      <td>17329.802160</td>\n",
       "      <td>8.061362</td>\n",
       "      <td>NaN</td>\n",
       "      <td>392.449580</td>\n",
       "      <td>19.903225</td>\n",
       "      <td>NaN</td>\n",
       "      <td>2.798243</td>\n",
       "      <td>1</td>\n",
       "    </tr>\n",
       "    <tr>\n",
       "      <th>3273</th>\n",
       "      <td>9.419510</td>\n",
       "      <td>175.762646</td>\n",
       "      <td>33155.578218</td>\n",
       "      <td>7.350233</td>\n",
       "      <td>NaN</td>\n",
       "      <td>432.044783</td>\n",
       "      <td>11.039070</td>\n",
       "      <td>69.845400</td>\n",
       "      <td>3.298875</td>\n",
       "      <td>1</td>\n",
       "    </tr>\n",
       "    <tr>\n",
       "      <th>3274</th>\n",
       "      <td>5.126763</td>\n",
       "      <td>230.603758</td>\n",
       "      <td>11983.869376</td>\n",
       "      <td>6.303357</td>\n",
       "      <td>NaN</td>\n",
       "      <td>402.883113</td>\n",
       "      <td>11.168946</td>\n",
       "      <td>77.488213</td>\n",
       "      <td>4.708658</td>\n",
       "      <td>1</td>\n",
       "    </tr>\n",
       "    <tr>\n",
       "      <th>3275</th>\n",
       "      <td>7.874671</td>\n",
       "      <td>195.102299</td>\n",
       "      <td>17404.177061</td>\n",
       "      <td>7.509306</td>\n",
       "      <td>NaN</td>\n",
       "      <td>327.459760</td>\n",
       "      <td>16.140368</td>\n",
       "      <td>78.698446</td>\n",
       "      <td>2.309149</td>\n",
       "      <td>1</td>\n",
       "    </tr>\n",
       "  </tbody>\n",
       "</table>\n",
       "<p>3276 rows × 10 columns</p>\n",
       "</div>"
      ],
      "text/plain": [
       "            ph    Hardness        Solids  Chloramines     Sulfate  \\\n",
       "0          NaN  204.890455  20791.318981     7.300212  368.516441   \n",
       "1     3.716080  129.422921  18630.057858     6.635246         NaN   \n",
       "2     8.099124  224.236259  19909.541732     9.275884         NaN   \n",
       "3     8.316766  214.373394  22018.417441     8.059332  356.886136   \n",
       "4     9.092223  181.101509  17978.986339     6.546600  310.135738   \n",
       "...        ...         ...           ...          ...         ...   \n",
       "3271  4.668102  193.681735  47580.991603     7.166639  359.948574   \n",
       "3272  7.808856  193.553212  17329.802160     8.061362         NaN   \n",
       "3273  9.419510  175.762646  33155.578218     7.350233         NaN   \n",
       "3274  5.126763  230.603758  11983.869376     6.303357         NaN   \n",
       "3275  7.874671  195.102299  17404.177061     7.509306         NaN   \n",
       "\n",
       "      Conductivity  Organic_carbon  Trihalomethanes  Turbidity  Potability  \n",
       "0       564.308654       10.379783        86.990970   2.963135           0  \n",
       "1       592.885359       15.180013        56.329076   4.500656           0  \n",
       "2       418.606213       16.868637        66.420093   3.055934           0  \n",
       "3       363.266516       18.436524       100.341674   4.628771           0  \n",
       "4       398.410813       11.558279        31.997993   4.075075           0  \n",
       "...            ...             ...              ...        ...         ...  \n",
       "3271    526.424171       13.894419        66.687695   4.435821           1  \n",
       "3272    392.449580       19.903225              NaN   2.798243           1  \n",
       "3273    432.044783       11.039070        69.845400   3.298875           1  \n",
       "3274    402.883113       11.168946        77.488213   4.708658           1  \n",
       "3275    327.459760       16.140368        78.698446   2.309149           1  \n",
       "\n",
       "[3276 rows x 10 columns]"
      ]
     },
     "execution_count": 2,
     "metadata": {},
     "output_type": "execute_result"
    }
   ],
   "source": [
    "df = pd.read_csv('water_potability.csv')\n",
    "df"
   ]
  },
  {
   "cell_type": "code",
   "execution_count": 3,
   "metadata": {},
   "outputs": [],
   "source": [
    "# World Health Organization has set limits for some of the components in the water to determine the portability.\n",
    "\n",
    "# They are \n",
    "# a) ph = (min:6.5, max:8.5)\n",
    "# b) Solids = (max:1000)\n",
    "# c) Chloramines = (max:4)\n",
    "# d) Sulfate = (range(3,30))\n",
    "# e) Conductivity = (max:400)\n",
    "# f) Organic_carbon = (max:2)\n",
    "# g) Trihalomethanes = (max:80)"
   ]
  },
  {
   "cell_type": "code",
   "execution_count": 4,
   "metadata": {},
   "outputs": [
    {
     "name": "stdout",
     "output_type": "stream",
     "text": [
      "<class 'pandas.core.frame.DataFrame'>\n",
      "RangeIndex: 3276 entries, 0 to 3275\n",
      "Data columns (total 10 columns):\n",
      " #   Column           Non-Null Count  Dtype  \n",
      "---  ------           --------------  -----  \n",
      " 0   ph               2785 non-null   float64\n",
      " 1   Hardness         3276 non-null   float64\n",
      " 2   Solids           3276 non-null   float64\n",
      " 3   Chloramines      3276 non-null   float64\n",
      " 4   Sulfate          2495 non-null   float64\n",
      " 5   Conductivity     3276 non-null   float64\n",
      " 6   Organic_carbon   3276 non-null   float64\n",
      " 7   Trihalomethanes  3114 non-null   float64\n",
      " 8   Turbidity        3276 non-null   float64\n",
      " 9   Potability       3276 non-null   int64  \n",
      "dtypes: float64(9), int64(1)\n",
      "memory usage: 256.1 KB\n"
     ]
    }
   ],
   "source": [
    "df.info()"
   ]
  },
  {
   "cell_type": "markdown",
   "metadata": {},
   "source": [
    "### Checking if the Target variable is balanced"
   ]
  },
  {
   "cell_type": "code",
   "execution_count": 5,
   "metadata": {},
   "outputs": [
    {
     "name": "stdout",
     "output_type": "stream",
     "text": [
      "Target Variable Balance:\n",
      " 0    1998\n",
      "1    1278\n",
      "Name: Potability, dtype: int64\n"
     ]
    },
    {
     "data": {
      "text/plain": [
       "Text(0.5, 1.0, 'Potability Distribution')"
      ]
     },
     "execution_count": 5,
     "metadata": {},
     "output_type": "execute_result"
    },
    {
     "data": {
      "image/png": "[encoded data removed]",
      "text/plain": [
       "<Figure size 864x576 with 1 Axes>"
      ]
     },
     "metadata": {
      "needs_background": "light"
     },
     "output_type": "display_data"
    }
   ],
   "source": [
    "class_balance =df['Potability'].value_counts()\n",
    "print('Target Variable Balance:\\n',class_balance)\n",
    "plt.figure(figsize=(12,8))\n",
    "sns.countplot(data = df, x='Potability', palette = 'husl')\n",
    "plt.title('Potability Distribution',size = 15, weight = 'bold')"
   ]
  },
  {
   "cell_type": "markdown",
   "metadata": {},
   "source": [
    "Target Variable has a ratio of 61% to 39% ratio. This dataset is not a highly imbalanced dataset. However balancing the target variable may help in our analysis but I am not performing any technique like SMOTE for this analysis"
   ]
  },
  {
   "cell_type": "markdown",
   "metadata": {},
   "source": [
    "# Handling Missing Values"
   ]
  },
  {
   "cell_type": "code",
   "execution_count": 6,
   "metadata": {},
   "outputs": [],
   "source": [
    "#pip install missingno"
   ]
  },
  {
   "cell_type": "code",
   "execution_count": 7,
   "metadata": {},
   "outputs": [
    {
     "name": "stdout",
     "output_type": "stream",
     "text": [
      "Null Values:\n",
      " ph                 491\n",
      "Hardness             0\n",
      "Solids               0\n",
      "Chloramines          0\n",
      "Sulfate            781\n",
      "Conductivity         0\n",
      "Organic_carbon       0\n",
      "Trihalomethanes    162\n",
      "Turbidity            0\n",
      "Potability           0\n",
      "dtype: int64\n"
     ]
    },
    {
     "data": {
      "image/png": "[encoded data removed]",
      "text/plain": [
       "<Figure size 1800x720 with 2 Axes>"
      ]
     },
     "metadata": {
      "needs_background": "light"
     },
     "output_type": "display_data"
    }
   ],
   "source": [
    "null_info = df.isnull().sum()\n",
    "\n",
    "import missingno as msno\n",
    "\n",
    "fig = msno.matrix(df,color=(0,0.5,0.8))\n",
    "\n",
    "print('Null Values:\\n',null_info)"
   ]
  },
  {
   "cell_type": "markdown",
   "metadata": {},
   "source": [
    "We have null values in 3 variables. Let's deal with them first. We will check how the values are distributed in these columns"
   ]
  },
  {
   "cell_type": "code",
   "execution_count": 8,
   "metadata": {},
   "outputs": [
    {
     "data": {
      "text/plain": [
       "<AxesSubplot:>"
      ]
     },
     "execution_count": 8,
     "metadata": {},
     "output_type": "execute_result"
    },
    {
     "data": {
      "image/png": "[encoded data removed]",
      "text/plain": [
       "<Figure size 432x288 with 1 Axes>"
      ]
     },
     "metadata": {
      "needs_background": "light"
     },
     "output_type": "display_data"
    }
   ],
   "source": [
    "df['ph'].hist()"
   ]
  },
  {
   "cell_type": "code",
   "execution_count": 9,
   "metadata": {},
   "outputs": [
    {
     "data": {
      "text/plain": [
       "<AxesSubplot:>"
      ]
     },
     "execution_count": 9,
     "metadata": {},
     "output_type": "execute_result"
    },
    {
     "data": {
      "image/png": "[encoded data removed]",
      "text/plain": [
       "<Figure size 432x288 with 1 Axes>"
      ]
     },
     "metadata": {
      "needs_background": "light"
     },
     "output_type": "display_data"
    }
   ],
   "source": [
    "df['Sulfate'].hist()"
   ]
  },
  {
   "cell_type": "code",
   "execution_count": 10,
   "metadata": {},
   "outputs": [
    {
     "data": {
      "text/plain": [
       "<AxesSubplot:>"
      ]
     },
     "execution_count": 10,
     "metadata": {},
     "output_type": "execute_result"
    },
    {
     "data": {
      "image/png": "[encoded data removed]",
      "text/plain": [
       "<Figure size 432x288 with 1 Axes>"
      ]
     },
     "metadata": {
      "needs_background": "light"
     },
     "output_type": "display_data"
    }
   ],
   "source": [
    "df['Trihalomethanes'].hist()"
   ]
  },
  {
   "cell_type": "markdown",
   "metadata": {},
   "source": [
    "With the distribution of these columns seen, we can replace the missing values with the mean value."
   ]
  },
  {
   "cell_type": "code",
   "execution_count": 11,
   "metadata": {},
   "outputs": [],
   "source": [
    "df['ph'] = df['ph'].fillna(df['ph'].mean())\n",
    "df['Sulfate'] = df['Sulfate'].fillna(df['Sulfate'].mean())\n",
    "df['Trihalomethanes'] = df['Trihalomethanes'].fillna(df['Trihalomethanes'].mean())\n"
   ]
  },
  {
   "cell_type": "code",
   "execution_count": 12,
   "metadata": {},
   "outputs": [
    {
     "data": {
      "text/plain": [
       "<AxesSubplot:xlabel='ph', ylabel='Sulfate'>"
      ]
     },
     "execution_count": 12,
     "metadata": {},
     "output_type": "execute_result"
    },
    {
     "data": {
      "image/png": "[encoded data removed]",
      "text/plain": [
       "<Figure size 432x288 with 1 Axes>"
      ]
     },
     "metadata": {
      "needs_background": "light"
     },
     "output_type": "display_data"
    }
   ],
   "source": [
    "sns.scatterplot(data = df, x= 'ph',y='Sulfate',hue = 'Potability')"
   ]
  },
  {
   "cell_type": "code",
   "execution_count": 13,
   "metadata": {},
   "outputs": [],
   "source": [
    "# Outliers"
   ]
  },
  {
   "cell_type": "code",
   "execution_count": 14,
   "metadata": {},
   "outputs": [
    {
     "name": "stdout",
     "output_type": "stream",
     "text": [
      "[[8.46038683e-15 2.59194711e-01 1.39470871e-01 ... 1.30614943e+00\n",
      "  1.28629758e+00 7.99774743e-01]\n",
      " [2.28933938e+00 2.03641367e+00 3.85986650e-01 ... 6.38479983e-01\n",
      "  6.84217891e-01 7.99774743e-01]\n",
      " [6.92867789e-01 8.47664833e-01 2.40047337e-01 ... 1.50940884e-03\n",
      "  1.16736546e+00 7.99774743e-01]\n",
      " ...\n",
      " [1.59125368e+00 6.26829230e-01 1.27080989e+00 ... 2.18748247e-01\n",
      "  8.56006782e-01 1.25035206e+00]\n",
      " [1.32951593e+00 1.04135450e+00 1.14405809e+00 ... 7.03468419e-01\n",
      "  9.50797383e-01 1.25035206e+00]\n",
      " [5.40150905e-01 3.85462310e-02 5.25811937e-01 ... 7.80223466e-01\n",
      "  2.12445866e+00 1.25035206e+00]]\n"
     ]
    }
   ],
   "source": [
    "from scipy import stats\n",
    "import numpy as np\n",
    "\n",
    "z= np.abs(stats.zscore(df))\n",
    "print(z)"
   ]
  },
  {
   "cell_type": "code",
   "execution_count": 15,
   "metadata": {},
   "outputs": [
    {
     "name": "stdout",
     "output_type": "stream",
     "text": [
      "(array([  37,   61,   66,   80,   88,  104,  140,  245,  253,  263,  263,\n",
      "        272,  272,  275,  275,  278,  283,  285,  287,  304,  317,  321,\n",
      "        330,  335,  342,  345,  347,  351,  351,  354,  357,  365,  366,\n",
      "        379,  382,  383,  385,  434,  492,  509,  531,  546,  666,  680,\n",
      "        692,  703,  726,  757,  781,  783,  785,  786,  810,  810,  951,\n",
      "        990, 1031, 1068, 1073, 1075, 1077, 1106, 1123, 1156, 1157, 1186,\n",
      "       1186, 1290, 1292, 1303, 1316, 1343, 1353, 1360, 1366, 1384, 1412,\n",
      "       1490, 1523, 1537, 1542, 1554, 1554, 1563, 1605, 1630, 1642, 1743,\n",
      "       1746, 1766, 1773, 1784, 1792, 1798, 1860, 1892, 1955, 2057, 2075,\n",
      "       2096, 2121, 2134, 2156, 2189, 2204, 2236, 2302, 2318, 2336, 2343,\n",
      "       2350, 2353, 2370, 2376, 2401, 2424, 2446, 2447, 2470, 2497, 2602,\n",
      "       2646, 2646, 2681, 2694, 2699, 2704, 2726, 2757, 2853, 2861, 2868,\n",
      "       2895, 2899, 2921, 2925, 2928, 2945, 2949, 3014, 3014, 3017, 3020,\n",
      "       3035, 3042, 3088, 3094, 3130, 3142, 3150, 3162, 3179, 3184, 3190,\n",
      "       3221, 3226, 3269, 3269]), array([1, 7, 5, 0, 1, 0, 5, 7, 4, 0, 1, 3, 4, 3, 4, 1, 2, 3, 3, 3, 1, 1,\n",
      "       7, 1, 5, 4, 1, 3, 4, 1, 4, 4, 2, 1, 8, 1, 4, 3, 8, 3, 7, 2, 2, 4,\n",
      "       0, 4, 0, 3, 4, 0, 6, 4, 0, 4, 7, 8, 2, 2, 8, 7, 2, 4, 7, 7, 7, 2,\n",
      "       4, 8, 4, 0, 7, 0, 0, 7, 4, 5, 4, 1, 4, 4, 1, 2, 4, 4, 4, 7, 4, 4,\n",
      "       2, 4, 4, 2, 6, 4, 4, 8, 2, 6, 0, 0, 7, 5, 4, 0, 4, 6, 3, 4, 3, 0,\n",
      "       3, 7, 3, 7, 3, 3, 3, 3, 3, 2, 2, 0, 1, 0, 3, 3, 5, 4, 8, 4, 1, 0,\n",
      "       0, 0, 8, 0, 0, 0, 7, 0, 2, 0, 0, 7, 8, 0, 0, 2, 5, 2, 2, 1, 7, 2,\n",
      "       1, 2, 0, 1]))\n"
     ]
    }
   ],
   "source": [
    "print(np.where(z>3))"
   ]
  },
  {
   "cell_type": "code",
   "execution_count": 16,
   "metadata": {},
   "outputs": [
    {
     "name": "stdout",
     "output_type": "stream",
     "text": [
      "3.2811333826435156\n"
     ]
    }
   ],
   "source": [
    "print(z[37][1])"
   ]
  },
  {
   "cell_type": "code",
   "execution_count": 17,
   "metadata": {},
   "outputs": [
    {
     "data": {
      "text/plain": [
       "(3276, 10)"
      ]
     },
     "execution_count": 17,
     "metadata": {},
     "output_type": "execute_result"
    }
   ],
   "source": [
    "df.shape"
   ]
  },
  {
   "cell_type": "code",
   "execution_count": 18,
   "metadata": {},
   "outputs": [],
   "source": [
    "df = df[(z<3).all(axis=1)]"
   ]
  },
  {
   "cell_type": "code",
   "execution_count": 19,
   "metadata": {},
   "outputs": [
    {
     "data": {
      "text/plain": [
       "(3128, 10)"
      ]
     },
     "execution_count": 19,
     "metadata": {},
     "output_type": "execute_result"
    }
   ],
   "source": [
    "df.shape"
   ]
  },
  {
   "cell_type": "code",
   "execution_count": null,
   "metadata": {},
   "outputs": [],
   "source": []
  },
  {
   "cell_type": "code",
   "execution_count": 20,
   "metadata": {
    "scrolled": true
   },
   "outputs": [
    {
     "data": {
      "text/plain": [
       "<AxesSubplot:>"
      ]
     },
     "execution_count": 20,
     "metadata": {},
     "output_type": "execute_result"
    },
    {
     "data": {
      "image/png": "[encoded data removed]",
      "text/plain": [
       "<Figure size 1440x1080 with 2 Axes>"
      ]
     },
     "metadata": {
      "needs_background": "light"
     },
     "output_type": "display_data"
    }
   ],
   "source": [
    "plt.figure(figsize=(20,15))\n",
    "matrix = np.triu(df.corr())\n",
    "sns.heatmap(df.corr(),annot=True,linewidth=1,mask=matrix,cmap='PiYG')"
   ]
  },
  {
   "cell_type": "markdown",
   "metadata": {},
   "source": [
    "# Splitting the data "
   ]
  },
  {
   "cell_type": "code",
   "execution_count": 21,
   "metadata": {},
   "outputs": [],
   "source": [
    "from sklearn.svm import SVC\n",
    "from sklearn.neural_network import MLPClassifier\n",
    "\n",
    "\n",
    "\n",
    "from sklearn.model_selection import train_test_split,cross_val_score, cross_validate,RandomizedSearchCV, GridSearchCV\n",
    "from sklearn.preprocessing import StandardScaler\n",
    "\n",
    "from sklearn.metrics import accuracy_score,classification_report,confusion_matrix, plot_confusion_matrix\n",
    "from sklearn.metrics import plot_precision_recall_curve,plot_roc_curve\n",
    "\n",
    "from scipy.stats import uniform"
   ]
  },
  {
   "cell_type": "code",
   "execution_count": 22,
   "metadata": {},
   "outputs": [],
   "source": [
    "# Define our variables and the target label"
   ]
  },
  {
   "cell_type": "code",
   "execution_count": 23,
   "metadata": {},
   "outputs": [],
   "source": [
    "X = df.drop('Potability', axis = 1)\n",
    "y = df['Potability']"
   ]
  },
  {
   "cell_type": "code",
   "execution_count": 24,
   "metadata": {},
   "outputs": [],
   "source": [
    "# Split the original Data into training data and the testing data"
   ]
  },
  {
   "cell_type": "code",
   "execution_count": 25,
   "metadata": {},
   "outputs": [
    {
     "data": {
      "text/plain": [
       "((2658, 9), (2658,))"
      ]
     },
     "execution_count": 25,
     "metadata": {},
     "output_type": "execute_result"
    }
   ],
   "source": [
    "X_train, X_test, y_train, y_test = train_test_split(X,y, test_size = 0.15, random_state = 42)\n",
    "\n",
    "X_train.shape,y_train.shape"
   ]
  },
  {
   "cell_type": "code",
   "execution_count": 26,
   "metadata": {},
   "outputs": [],
   "source": [
    "X_test_df = pd.DataFrame(X_test)\n",
    "y_test_df = pd.DataFrame(y_test)"
   ]
  },
  {
   "cell_type": "code",
   "execution_count": 27,
   "metadata": {},
   "outputs": [],
   "source": [
    "# Lets keep the test data aside to use this at the end when our models are fully built.\n",
    "# Export the test data which will be used at the end when our models are ready\n",
    "\n",
    "X_test_df.to_csv('X_test_data',index = False)\n",
    "y_test_df.to_csv('y_test_data',index = False)"
   ]
  },
  {
   "cell_type": "markdown",
   "metadata": {},
   "source": [
    "## Dividing the training data into training and validation data"
   ]
  },
  {
   "cell_type": "code",
   "execution_count": 28,
   "metadata": {},
   "outputs": [],
   "source": [
    "X_train_val, X_test_val, y_train_val, y_test_val = train_test_split(X_train,y_train, test_size = 0.2, random_state = 42)\n"
   ]
  },
  {
   "cell_type": "code",
   "execution_count": 29,
   "metadata": {},
   "outputs": [
    {
     "data": {
      "text/plain": [
       "((2126, 9), (2126,))"
      ]
     },
     "execution_count": 29,
     "metadata": {},
     "output_type": "execute_result"
    }
   ],
   "source": [
    "X_train_val.shape,y_train_val.shape"
   ]
  },
  {
   "cell_type": "code",
   "execution_count": 30,
   "metadata": {},
   "outputs": [
    {
     "data": {
      "text/plain": [
       "((532, 9), (532,))"
      ]
     },
     "execution_count": 30,
     "metadata": {},
     "output_type": "execute_result"
    }
   ],
   "source": [
    "X_test_val.shape,y_test_val.shape"
   ]
  },
  {
   "cell_type": "code",
   "execution_count": 31,
   "metadata": {},
   "outputs": [
    {
     "data": {
      "text/plain": [
       "ph                 0\n",
       "Hardness           0\n",
       "Solids             0\n",
       "Chloramines        0\n",
       "Sulfate            0\n",
       "Conductivity       0\n",
       "Organic_carbon     0\n",
       "Trihalomethanes    0\n",
       "Turbidity          0\n",
       "dtype: int64"
      ]
     },
     "execution_count": 31,
     "metadata": {},
     "output_type": "execute_result"
    }
   ],
   "source": [
    "X_train_val.isnull().sum()"
   ]
  },
  {
   "cell_type": "code",
   "execution_count": 32,
   "metadata": {},
   "outputs": [
    {
     "data": {
      "text/plain": [
       "0    1303\n",
       "1     823\n",
       "Name: Potability, dtype: int64"
      ]
     },
     "execution_count": 32,
     "metadata": {},
     "output_type": "execute_result"
    }
   ],
   "source": [
    "y_train_val.value_counts()"
   ]
  },
  {
   "cell_type": "markdown",
   "metadata": {},
   "source": [
    "# Standardization"
   ]
  },
  {
   "cell_type": "code",
   "execution_count": 33,
   "metadata": {},
   "outputs": [],
   "source": [
    "sc = StandardScaler()\n",
    "X_train_scaled = sc.fit_transform(X_train_val)\n",
    "X_test_scaled = sc.transform(X_test_val)"
   ]
  },
  {
   "cell_type": "code",
   "execution_count": 34,
   "metadata": {},
   "outputs": [
    {
     "data": {
      "text/plain": [
       "(2126, 9)"
      ]
     },
     "execution_count": 34,
     "metadata": {},
     "output_type": "execute_result"
    }
   ],
   "source": [
    "X_train_scaled.shape"
   ]
  },
  {
   "cell_type": "code",
   "execution_count": 35,
   "metadata": {},
   "outputs": [
    {
     "data": {
      "text/plain": [
       "array([[ 1.05920333e+00,  1.85310466e+00,  1.11999381e+00, ...,\n",
       "        -1.50741074e-01, -2.09148874e+00,  1.39953968e+00],\n",
       "       [ 5.98924572e-01, -1.90318431e-01, -6.47232702e-01, ...,\n",
       "         1.03103659e+00,  1.04317855e+00, -1.01199799e-01],\n",
       "       [-2.35211772e-03, -1.66938656e+00, -2.25767927e-01, ...,\n",
       "         2.49809306e+00, -8.71059845e-01, -1.37852511e+00],\n",
       "       ...,\n",
       "       [-3.85295244e-01, -1.86537519e-01, -7.80309785e-01, ...,\n",
       "         1.88705487e-01, -3.74631863e-03, -6.79453862e-01],\n",
       "       [ 1.93642354e+00,  1.51104425e+00, -4.68198669e-01, ...,\n",
       "         2.86332180e+00,  4.43050221e-01, -2.80714214e-01],\n",
       "       [-4.60713710e-01, -4.68591906e-01, -4.05164912e-01, ...,\n",
       "        -1.03040192e-01,  4.92523555e-01, -4.16967611e-02]])"
      ]
     },
     "execution_count": 35,
     "metadata": {},
     "output_type": "execute_result"
    }
   ],
   "source": [
    "X_train_scaled"
   ]
  },
  {
   "cell_type": "markdown",
   "metadata": {},
   "source": [
    "# SVM Model"
   ]
  },
  {
   "cell_type": "markdown",
   "metadata": {},
   "source": [
    "## Base SVM Model on unscaled data"
   ]
  },
  {
   "cell_type": "code",
   "execution_count": 36,
   "metadata": {},
   "outputs": [
    {
     "name": "stdout",
     "output_type": "stream",
     "text": [
      "Initial Training Score : 0.6128880526810913\n",
      "Initial Testing score: 0.6071428571428571\n"
     ]
    }
   ],
   "source": [
    "#Initialize the model\n",
    "SVC_model = SVC(random_state = 0)\n",
    "\n",
    "# Fitting the model to our features and labels\n",
    "SVC_model.fit(X_train_val, y_train_val)\n",
    "\n",
    "# Traning score for the model\n",
    "SVC_train_score = SVC_model.score(X_train_val,y_train_val)\n",
    "print('Initial Training Score :',SVC_train_score)\n",
    "\n",
    "# Predicting the labels for the test dataset\n",
    "prediction = SVC_model.predict(X_test_val)\n",
    "\n",
    "# Calculating the test score\n",
    "SVC_test_score = accuracy_score(y_test_val, prediction)\n",
    "print('Initial Testing score:',SVC_test_score)"
   ]
  },
  {
   "cell_type": "markdown",
   "metadata": {},
   "source": [
    "## Base SVM Model on scaled data"
   ]
  },
  {
   "cell_type": "code",
   "execution_count": 37,
   "metadata": {},
   "outputs": [
    {
     "name": "stdout",
     "output_type": "stream",
     "text": [
      "Scaled Training Score : 0.7309501411100658\n",
      "Scaled Testing score: 0.6654135338345865\n"
     ]
    }
   ],
   "source": [
    "#Initialize the model\n",
    "SVC_scaled_model = SVC()\n",
    "\n",
    "# Fitting the model to our features and labels\n",
    "SVC_scaled_model.fit(X_train_scaled, y_train_val)\n",
    "\n",
    "# Traning score for the model\n",
    "SVC_scaled_train_score = SVC_scaled_model.score(X_train_scaled,y_train_val)\n",
    "print('Scaled Training Score :',SVC_scaled_train_score)\n",
    "\n",
    "# Predicting the labels for the test dataset\n",
    "scaled_prediction = SVC_scaled_model.predict(X_test_scaled)\n",
    "\n",
    "# Calculating the test score\n",
    "SVC_scaled_test_score = accuracy_score(y_test_val, scaled_prediction)\n",
    "print('Scaled Testing score:',SVC_scaled_test_score)"
   ]
  },
  {
   "cell_type": "code",
   "execution_count": 38,
   "metadata": {},
   "outputs": [],
   "source": [
    "#Classification Report after scaling"
   ]
  },
  {
   "cell_type": "code",
   "execution_count": 39,
   "metadata": {},
   "outputs": [
    {
     "name": "stdout",
     "output_type": "stream",
     "text": [
      "              precision    recall  f1-score   support\n",
      "\n",
      "           0       0.66      0.94      0.77       323\n",
      "           1       0.73      0.23      0.36       209\n",
      "\n",
      "    accuracy                           0.67       532\n",
      "   macro avg       0.69      0.59      0.56       532\n",
      "weighted avg       0.69      0.67      0.61       532\n",
      "\n"
     ]
    }
   ],
   "source": [
    "print(classification_report(y_test_val,scaled_prediction, zero_division = True))"
   ]
  },
  {
   "cell_type": "code",
   "execution_count": 40,
   "metadata": {},
   "outputs": [],
   "source": [
    "#Confusion Matrix after scaling"
   ]
  },
  {
   "cell_type": "code",
   "execution_count": 41,
   "metadata": {},
   "outputs": [
    {
     "data": {
      "text/plain": [
       "<AxesSubplot:>"
      ]
     },
     "execution_count": 41,
     "metadata": {},
     "output_type": "execute_result"
    },
    {
     "data": {
      "image/png": "[encoded data removed]",
      "text/plain": [
       "<Figure size 432x288 with 2 Axes>"
      ]
     },
     "metadata": {
      "needs_background": "light"
     },
     "output_type": "display_data"
    }
   ],
   "source": [
    "SVC_matrix_scaled = confusion_matrix(y_test_val,scaled_prediction)\n",
    "sns.heatmap(SVC_matrix_scaled/np.sum(SVC_matrix_scaled),annot = True, fmt = '0.2%',cmap='Greens')"
   ]
  },
  {
   "cell_type": "code",
   "execution_count": 42,
   "metadata": {},
   "outputs": [
    {
     "data": {
      "text/plain": [
       "<sklearn.metrics._plot.roc_curve.RocCurveDisplay at 0x7fb8e8239250>"
      ]
     },
     "execution_count": 42,
     "metadata": {},
     "output_type": "execute_result"
    },
    {
     "data": {
      "image/png": "[encoded data removed]",
      "text/plain": [
       "<Figure size 432x288 with 1 Axes>"
      ]
     },
     "metadata": {
      "needs_background": "light"
     },
     "output_type": "display_data"
    }
   ],
   "source": [
    "plot_roc_curve(SVC_scaled_model,X_test_scaled,y_test_val)"
   ]
  },
  {
   "cell_type": "markdown",
   "metadata": {},
   "source": [
    "Lets us see if cross validation improves the performance of the our scaled initial model"
   ]
  },
  {
   "cell_type": "code",
   "execution_count": 43,
   "metadata": {},
   "outputs": [
    {
     "data": {
      "text/html": [
       "<div>\n",
       "<style scoped>\n",
       "    .dataframe tbody tr th:only-of-type {\n",
       "        vertical-align: middle;\n",
       "    }\n",
       "\n",
       "    .dataframe tbody tr th {\n",
       "        vertical-align: top;\n",
       "    }\n",
       "\n",
       "    .dataframe thead th {\n",
       "        text-align: right;\n",
       "    }\n",
       "</style>\n",
       "<table border=\"1\" class=\"dataframe\">\n",
       "  <thead>\n",
       "    <tr style=\"text-align: right;\">\n",
       "      <th></th>\n",
       "      <th>fit_time</th>\n",
       "      <th>score_time</th>\n",
       "      <th>test_accuracy</th>\n",
       "      <th>test_precision_weighted</th>\n",
       "      <th>test_recall_weighted</th>\n",
       "      <th>test_f1_weighted</th>\n",
       "    </tr>\n",
       "  </thead>\n",
       "  <tbody>\n",
       "    <tr>\n",
       "      <th>1</th>\n",
       "      <td>0.177218</td>\n",
       "      <td>0.030689</td>\n",
       "      <td>0.657277</td>\n",
       "      <td>0.656671</td>\n",
       "      <td>0.657277</td>\n",
       "      <td>0.604288</td>\n",
       "    </tr>\n",
       "    <tr>\n",
       "      <th>2</th>\n",
       "      <td>0.174890</td>\n",
       "      <td>0.031592</td>\n",
       "      <td>0.680751</td>\n",
       "      <td>0.695693</td>\n",
       "      <td>0.680751</td>\n",
       "      <td>0.633074</td>\n",
       "    </tr>\n",
       "    <tr>\n",
       "      <th>3</th>\n",
       "      <td>0.175371</td>\n",
       "      <td>0.031961</td>\n",
       "      <td>0.699531</td>\n",
       "      <td>0.712647</td>\n",
       "      <td>0.699531</td>\n",
       "      <td>0.663402</td>\n",
       "    </tr>\n",
       "    <tr>\n",
       "      <th>4</th>\n",
       "      <td>0.173570</td>\n",
       "      <td>0.030758</td>\n",
       "      <td>0.591549</td>\n",
       "      <td>0.540197</td>\n",
       "      <td>0.591549</td>\n",
       "      <td>0.521474</td>\n",
       "    </tr>\n",
       "    <tr>\n",
       "      <th>5</th>\n",
       "      <td>0.172725</td>\n",
       "      <td>0.031834</td>\n",
       "      <td>0.680751</td>\n",
       "      <td>0.703604</td>\n",
       "      <td>0.680751</td>\n",
       "      <td>0.631241</td>\n",
       "    </tr>\n",
       "    <tr>\n",
       "      <th>6</th>\n",
       "      <td>0.197852</td>\n",
       "      <td>0.031086</td>\n",
       "      <td>0.666667</td>\n",
       "      <td>0.664411</td>\n",
       "      <td>0.666667</td>\n",
       "      <td>0.629273</td>\n",
       "    </tr>\n",
       "    <tr>\n",
       "      <th>7</th>\n",
       "      <td>0.166847</td>\n",
       "      <td>0.030181</td>\n",
       "      <td>0.636792</td>\n",
       "      <td>0.635091</td>\n",
       "      <td>0.636792</td>\n",
       "      <td>0.558936</td>\n",
       "    </tr>\n",
       "    <tr>\n",
       "      <th>8</th>\n",
       "      <td>0.168193</td>\n",
       "      <td>0.030258</td>\n",
       "      <td>0.669811</td>\n",
       "      <td>0.682864</td>\n",
       "      <td>0.669811</td>\n",
       "      <td>0.617157</td>\n",
       "    </tr>\n",
       "    <tr>\n",
       "      <th>9</th>\n",
       "      <td>0.167486</td>\n",
       "      <td>0.030739</td>\n",
       "      <td>0.674528</td>\n",
       "      <td>0.694213</td>\n",
       "      <td>0.674528</td>\n",
       "      <td>0.620828</td>\n",
       "    </tr>\n",
       "    <tr>\n",
       "      <th>10</th>\n",
       "      <td>0.169298</td>\n",
       "      <td>0.030601</td>\n",
       "      <td>0.655660</td>\n",
       "      <td>0.650378</td>\n",
       "      <td>0.655660</td>\n",
       "      <td>0.609603</td>\n",
       "    </tr>\n",
       "  </tbody>\n",
       "</table>\n",
       "</div>"
      ],
      "text/plain": [
       "    fit_time  score_time  test_accuracy  test_precision_weighted  \\\n",
       "1   0.177218    0.030689       0.657277                 0.656671   \n",
       "2   0.174890    0.031592       0.680751                 0.695693   \n",
       "3   0.175371    0.031961       0.699531                 0.712647   \n",
       "4   0.173570    0.030758       0.591549                 0.540197   \n",
       "5   0.172725    0.031834       0.680751                 0.703604   \n",
       "6   0.197852    0.031086       0.666667                 0.664411   \n",
       "7   0.166847    0.030181       0.636792                 0.635091   \n",
       "8   0.168193    0.030258       0.669811                 0.682864   \n",
       "9   0.167486    0.030739       0.674528                 0.694213   \n",
       "10  0.169298    0.030601       0.655660                 0.650378   \n",
       "\n",
       "    test_recall_weighted  test_f1_weighted  \n",
       "1               0.657277          0.604288  \n",
       "2               0.680751          0.633074  \n",
       "3               0.699531          0.663402  \n",
       "4               0.591549          0.521474  \n",
       "5               0.680751          0.631241  \n",
       "6               0.666667          0.629273  \n",
       "7               0.636792          0.558936  \n",
       "8               0.669811          0.617157  \n",
       "9               0.674528          0.620828  \n",
       "10              0.655660          0.609603  "
      ]
     },
     "execution_count": 43,
     "metadata": {},
     "output_type": "execute_result"
    }
   ],
   "source": [
    "SVC_cv_model = SVC()\n",
    "\n",
    "SVC_cv_scores = cross_validate(SVC_cv_model, X_train_scaled, y_train_val,scoring = ['accuracy','precision_weighted','recall_weighted','f1_weighted'], cv = 10)\n",
    "\n",
    "SVC_cv_scores = pd.DataFrame(SVC_cv_scores, index = range(1,11))\n",
    "\n",
    "SVC_cv_scores"
   ]
  },
  {
   "cell_type": "code",
   "execution_count": 44,
   "metadata": {},
   "outputs": [
    {
     "data": {
      "text/plain": [
       "test_accuracy              0.661332\n",
       "test_precision_weighted    0.663577\n",
       "test_recall_weighted       0.661332\n",
       "test_f1_weighted           0.608928\n",
       "dtype: float64"
      ]
     },
     "execution_count": 44,
     "metadata": {},
     "output_type": "execute_result"
    }
   ],
   "source": [
    "SVC_cv_scores.mean()[2:]"
   ]
  },
  {
   "cell_type": "markdown",
   "metadata": {},
   "source": [
    "It has decresed our accuracy as most of validation sets resulted in low performance than expected. "
   ]
  },
  {
   "cell_type": "markdown",
   "metadata": {},
   "source": [
    "We haven't choosed any of the parameters as of now while valuating the performance of the model. Let's try parameter tuning to check if it improve the prediction power"
   ]
  },
  {
   "cell_type": "markdown",
   "metadata": {},
   "source": [
    "## Hyperparameter Tuning for SVC model"
   ]
  },
  {
   "cell_type": "markdown",
   "metadata": {},
   "source": [
    "Let us try Random Search method to find the best parameter set in the plane."
   ]
  },
  {
   "cell_type": "code",
   "execution_count": 45,
   "metadata": {},
   "outputs": [
    {
     "name": "stdout",
     "output_type": "stream",
     "text": [
      "CPU times: user 4.39 s, sys: 25.6 ms, total: 4.42 s\n",
      "Wall time: 4.43 s\n"
     ]
    },
    {
     "data": {
      "text/html": [
       "<div>\n",
       "<style scoped>\n",
       "    .dataframe tbody tr th:only-of-type {\n",
       "        vertical-align: middle;\n",
       "    }\n",
       "\n",
       "    .dataframe tbody tr th {\n",
       "        vertical-align: top;\n",
       "    }\n",
       "\n",
       "    .dataframe thead th {\n",
       "        text-align: right;\n",
       "    }\n",
       "</style>\n",
       "<table border=\"1\" class=\"dataframe\">\n",
       "  <thead>\n",
       "    <tr style=\"text-align: right;\">\n",
       "      <th></th>\n",
       "      <th>param_C</th>\n",
       "      <th>param_kernel</th>\n",
       "      <th>param_degree</th>\n",
       "      <th>param_gamma</th>\n",
       "      <th>mean_test_score</th>\n",
       "    </tr>\n",
       "  </thead>\n",
       "  <tbody>\n",
       "    <tr>\n",
       "      <th>0</th>\n",
       "      <td>10</td>\n",
       "      <td>sigmoid</td>\n",
       "      <td>3</td>\n",
       "      <td>auto</td>\n",
       "      <td>0.612888</td>\n",
       "    </tr>\n",
       "    <tr>\n",
       "      <th>1</th>\n",
       "      <td>1.5</td>\n",
       "      <td>sigmoid</td>\n",
       "      <td>4</td>\n",
       "      <td>auto</td>\n",
       "      <td>0.612888</td>\n",
       "    </tr>\n",
       "    <tr>\n",
       "      <th>2</th>\n",
       "      <td>0.1</td>\n",
       "      <td>rbf</td>\n",
       "      <td>2</td>\n",
       "      <td>auto</td>\n",
       "      <td>0.612888</td>\n",
       "    </tr>\n",
       "    <tr>\n",
       "      <th>3</th>\n",
       "      <td>0.1</td>\n",
       "      <td>sigmoid</td>\n",
       "      <td>2</td>\n",
       "      <td>scale</td>\n",
       "      <td>0.598764</td>\n",
       "    </tr>\n",
       "    <tr>\n",
       "      <th>4</th>\n",
       "      <td>1</td>\n",
       "      <td>rbf</td>\n",
       "      <td>4</td>\n",
       "      <td>scale</td>\n",
       "      <td>0.612888</td>\n",
       "    </tr>\n",
       "    <tr>\n",
       "      <th>5</th>\n",
       "      <td>5</td>\n",
       "      <td>sigmoid</td>\n",
       "      <td>3</td>\n",
       "      <td>scale</td>\n",
       "      <td>0.525872</td>\n",
       "    </tr>\n",
       "    <tr>\n",
       "      <th>6</th>\n",
       "      <td>1.5</td>\n",
       "      <td>rbf</td>\n",
       "      <td>2</td>\n",
       "      <td>scale</td>\n",
       "      <td>0.612888</td>\n",
       "    </tr>\n",
       "    <tr>\n",
       "      <th>7</th>\n",
       "      <td>10</td>\n",
       "      <td>rbf</td>\n",
       "      <td>2</td>\n",
       "      <td>scale</td>\n",
       "      <td>0.612888</td>\n",
       "    </tr>\n",
       "    <tr>\n",
       "      <th>8</th>\n",
       "      <td>5</td>\n",
       "      <td>rbf</td>\n",
       "      <td>2</td>\n",
       "      <td>auto</td>\n",
       "      <td>0.612888</td>\n",
       "    </tr>\n",
       "    <tr>\n",
       "      <th>9</th>\n",
       "      <td>0.1</td>\n",
       "      <td>rbf</td>\n",
       "      <td>3</td>\n",
       "      <td>auto</td>\n",
       "      <td>0.612888</td>\n",
       "    </tr>\n",
       "  </tbody>\n",
       "</table>\n",
       "</div>"
      ],
      "text/plain": [
       "  param_C param_kernel param_degree param_gamma  mean_test_score\n",
       "0      10      sigmoid            3        auto         0.612888\n",
       "1     1.5      sigmoid            4        auto         0.612888\n",
       "2     0.1          rbf            2        auto         0.612888\n",
       "3     0.1      sigmoid            2       scale         0.598764\n",
       "4       1          rbf            4       scale         0.612888\n",
       "5       5      sigmoid            3       scale         0.525872\n",
       "6     1.5          rbf            2       scale         0.612888\n",
       "7      10          rbf            2       scale         0.612888\n",
       "8       5          rbf            2        auto         0.612888\n",
       "9     0.1          rbf            3        auto         0.612888"
      ]
     },
     "execution_count": 45,
     "metadata": {},
     "output_type": "execute_result"
    }
   ],
   "source": [
    "%%time\n",
    "\n",
    "SVC_random_model = SVC()\n",
    "\n",
    "parameters = {'C':[0.1,0.5,1,1.5,5,10],\n",
    "              'kernel': ['rbf','sigmoid'],\n",
    "              'gamma':['auto','scale'],\n",
    "              'degree':[2,3,4]\n",
    "             }\n",
    "\n",
    "random_search = RandomizedSearchCV(estimator = SVC_random_model,\n",
    "                                   param_distributions = parameters,\n",
    "                                   cv=3)\n",
    "random_search.fit(X_train_val, y_train_val)\n",
    "sheet = pd.DataFrame(random_search.cv_results_)\n",
    "sheet[['param_C','param_kernel','param_degree','param_gamma','mean_test_score']]\n"
   ]
  },
  {
   "cell_type": "markdown",
   "metadata": {},
   "source": [
    "It has been observed that each kernel can choose its parameters easily. Hence each kernel is taken once at a time. And Linear kernel takes a longer time than usual to fit the datapoints. Hence this kernel is skipped in this analysis."
   ]
  },
  {
   "cell_type": "code",
   "execution_count": 46,
   "metadata": {},
   "outputs": [
    {
     "data": {
      "text/plain": [
       "{'kernel': 'sigmoid', 'gamma': 'auto', 'degree': 3, 'C': 10}"
      ]
     },
     "execution_count": 46,
     "metadata": {},
     "output_type": "execute_result"
    }
   ],
   "source": [
    "random_search.best_params_"
   ]
  },
  {
   "cell_type": "code",
   "execution_count": 47,
   "metadata": {},
   "outputs": [
    {
     "name": "stdout",
     "output_type": "stream",
     "text": [
      "Random rbf Training Score : 0.6114769520225776\n",
      "Testing score: 0.6071428571428571\n"
     ]
    }
   ],
   "source": [
    "random_model = SVC(C= 0.1,gamma = 'scale', kernel = 'sigmoid')\n",
    "random_model.fit(X_train_scaled,y_train_val)\n",
    "train_random_score=random_model.score(X_train_scaled,y_train_val)\n",
    "# Calculating the training score\n",
    "print('Random rbf Training Score :',train_random_score)\n",
    "test_random_predict = random_model.predict(X_test_scaled)\n",
    "test_random_score = accuracy_score(y_test_val, test_random_predict)\n",
    "\n",
    "# Calculating the test score\n",
    "print('Testing score:',test_random_score)"
   ]
  },
  {
   "cell_type": "code",
   "execution_count": 48,
   "metadata": {},
   "outputs": [],
   "source": [
    "# %%time\n",
    "\n",
    "# SVC_random_model = SVC()\n",
    "\n",
    "# parameters = {'C':[0.1,0.3,0.5,0.8,1,3,7],\n",
    "#               'kernel': ['poly'],\n",
    "#               'degree':[1,2,3,4,5]\n",
    "#              }\n",
    "\n",
    "# random_search = RandomizedSearchCV(estimator = SVC_random_model,\n",
    "#                                    param_distributions = parameters,\n",
    "#                                    cv=3)\n",
    "# random_search.fit(X_train_val, y_train_val)\n",
    "\n",
    "# random_search.best_params_"
   ]
  },
  {
   "cell_type": "markdown",
   "metadata": {},
   "source": [
    "Let us test the model with the parameters which we found are the best."
   ]
  },
  {
   "cell_type": "code",
   "execution_count": 49,
   "metadata": {},
   "outputs": [],
   "source": [
    "\n",
    "# random_model = SVC(C= 1, kernel = 'poly',degree= 4)\n",
    "# random_model.fit(X_train_scaled,y_train_val)\n",
    "# train_random_score=random_model.score(X_train_scaled,y_train_val)\n",
    "# # Calculating the training score\n",
    "# print('Random poly Training Score :',train_random_score)\n",
    "\n",
    "# # test_random_score = random_model.predict(X_test_scaled)\n",
    "# # test_random_score = accuracy_score(y_test_val, test_random_score)\n",
    "\n",
    "# # # Calculating the test score\n",
    "# # print('Testing score:',test_random_score)"
   ]
  },
  {
   "cell_type": "markdown",
   "metadata": {},
   "source": [
    "From the above two sets of models, we can observe that the poly kernel performs well with this data."
   ]
  },
  {
   "cell_type": "markdown",
   "metadata": {},
   "source": [
    "# Using Grid Search to find the Hyperparameters"
   ]
  },
  {
   "cell_type": "code",
   "execution_count": 50,
   "metadata": {},
   "outputs": [
    {
     "name": "stdout",
     "output_type": "stream",
     "text": [
      "CPU times: user 16.5 s, sys: 40.7 ms, total: 16.6 s\n",
      "Wall time: 16.6 s\n"
     ]
    },
    {
     "data": {
      "text/plain": [
       "{'C': 1.5, 'gamma': 'scale', 'kernel': 'rbf'}"
      ]
     },
     "execution_count": 50,
     "metadata": {},
     "output_type": "execute_result"
    }
   ],
   "source": [
    "%%time\n",
    "\n",
    "C_range = [0.5,1,1.5,2,2.5]\n",
    "\n",
    "gamma_range = ['auto','scale']\n",
    "\n",
    "kernel_range = ['rbf','sigmoid']\n",
    "\n",
    "parameters = dict(gamma = gamma_range, C= C_range, kernel = kernel_range)\n",
    "\n",
    "grid_SVC = SVC()\n",
    "\n",
    "grid = GridSearchCV(grid_SVC, param_grid= parameters, cv=5)\n",
    "\n",
    "grid.fit(X_train_scaled, y_train_val)\n",
    "\n",
    "grid.best_params_"
   ]
  },
  {
   "cell_type": "code",
   "execution_count": 52,
   "metadata": {},
   "outputs": [
    {
     "data": {
      "text/html": [
       "<div>\n",
       "<style scoped>\n",
       "    .dataframe tbody tr th:only-of-type {\n",
       "        vertical-align: middle;\n",
       "    }\n",
       "\n",
       "    .dataframe tbody tr th {\n",
       "        vertical-align: top;\n",
       "    }\n",
       "\n",
       "    .dataframe thead th {\n",
       "        text-align: right;\n",
       "    }\n",
       "</style>\n",
       "<table border=\"1\" class=\"dataframe\">\n",
       "  <thead>\n",
       "    <tr style=\"text-align: right;\">\n",
       "      <th></th>\n",
       "      <th>param_C</th>\n",
       "      <th>param_kernel</th>\n",
       "      <th>param_gamma</th>\n",
       "      <th>mean_test_score</th>\n",
       "    </tr>\n",
       "  </thead>\n",
       "  <tbody>\n",
       "    <tr>\n",
       "      <th>17</th>\n",
       "      <td>2.5</td>\n",
       "      <td>sigmoid</td>\n",
       "      <td>auto</td>\n",
       "      <td>0.538583</td>\n",
       "    </tr>\n",
       "    <tr>\n",
       "      <th>13</th>\n",
       "      <td>2</td>\n",
       "      <td>sigmoid</td>\n",
       "      <td>auto</td>\n",
       "      <td>0.539054</td>\n",
       "    </tr>\n",
       "    <tr>\n",
       "      <th>19</th>\n",
       "      <td>2.5</td>\n",
       "      <td>sigmoid</td>\n",
       "      <td>scale</td>\n",
       "      <td>0.546107</td>\n",
       "    </tr>\n",
       "    <tr>\n",
       "      <th>9</th>\n",
       "      <td>1.5</td>\n",
       "      <td>sigmoid</td>\n",
       "      <td>auto</td>\n",
       "      <td>0.547046</td>\n",
       "    </tr>\n",
       "    <tr>\n",
       "      <th>15</th>\n",
       "      <td>2</td>\n",
       "      <td>sigmoid</td>\n",
       "      <td>scale</td>\n",
       "      <td>0.549875</td>\n",
       "    </tr>\n",
       "    <tr>\n",
       "      <th>11</th>\n",
       "      <td>1.5</td>\n",
       "      <td>sigmoid</td>\n",
       "      <td>scale</td>\n",
       "      <td>0.551751</td>\n",
       "    </tr>\n",
       "    <tr>\n",
       "      <th>7</th>\n",
       "      <td>1</td>\n",
       "      <td>sigmoid</td>\n",
       "      <td>scale</td>\n",
       "      <td>0.563986</td>\n",
       "    </tr>\n",
       "    <tr>\n",
       "      <th>5</th>\n",
       "      <td>1</td>\n",
       "      <td>sigmoid</td>\n",
       "      <td>auto</td>\n",
       "      <td>0.567274</td>\n",
       "    </tr>\n",
       "    <tr>\n",
       "      <th>1</th>\n",
       "      <td>0.5</td>\n",
       "      <td>sigmoid</td>\n",
       "      <td>auto</td>\n",
       "      <td>0.588906</td>\n",
       "    </tr>\n",
       "    <tr>\n",
       "      <th>3</th>\n",
       "      <td>0.5</td>\n",
       "      <td>sigmoid</td>\n",
       "      <td>scale</td>\n",
       "      <td>0.594556</td>\n",
       "    </tr>\n",
       "    <tr>\n",
       "      <th>2</th>\n",
       "      <td>0.5</td>\n",
       "      <td>rbf</td>\n",
       "      <td>scale</td>\n",
       "      <td>0.658045</td>\n",
       "    </tr>\n",
       "    <tr>\n",
       "      <th>0</th>\n",
       "      <td>0.5</td>\n",
       "      <td>rbf</td>\n",
       "      <td>auto</td>\n",
       "      <td>0.658045</td>\n",
       "    </tr>\n",
       "    <tr>\n",
       "      <th>6</th>\n",
       "      <td>1</td>\n",
       "      <td>rbf</td>\n",
       "      <td>scale</td>\n",
       "      <td>0.658981</td>\n",
       "    </tr>\n",
       "    <tr>\n",
       "      <th>4</th>\n",
       "      <td>1</td>\n",
       "      <td>rbf</td>\n",
       "      <td>auto</td>\n",
       "      <td>0.659452</td>\n",
       "    </tr>\n",
       "    <tr>\n",
       "      <th>18</th>\n",
       "      <td>2.5</td>\n",
       "      <td>rbf</td>\n",
       "      <td>scale</td>\n",
       "      <td>0.665094</td>\n",
       "    </tr>\n",
       "    <tr>\n",
       "      <th>16</th>\n",
       "      <td>2.5</td>\n",
       "      <td>rbf</td>\n",
       "      <td>auto</td>\n",
       "      <td>0.665094</td>\n",
       "    </tr>\n",
       "    <tr>\n",
       "      <th>12</th>\n",
       "      <td>2</td>\n",
       "      <td>rbf</td>\n",
       "      <td>auto</td>\n",
       "      <td>0.665095</td>\n",
       "    </tr>\n",
       "    <tr>\n",
       "      <th>14</th>\n",
       "      <td>2</td>\n",
       "      <td>rbf</td>\n",
       "      <td>scale</td>\n",
       "      <td>0.665095</td>\n",
       "    </tr>\n",
       "    <tr>\n",
       "      <th>8</th>\n",
       "      <td>1.5</td>\n",
       "      <td>rbf</td>\n",
       "      <td>auto</td>\n",
       "      <td>0.665100</td>\n",
       "    </tr>\n",
       "    <tr>\n",
       "      <th>10</th>\n",
       "      <td>1.5</td>\n",
       "      <td>rbf</td>\n",
       "      <td>scale</td>\n",
       "      <td>0.665570</td>\n",
       "    </tr>\n",
       "  </tbody>\n",
       "</table>\n",
       "</div>"
      ],
      "text/plain": [
       "   param_C param_kernel param_gamma  mean_test_score\n",
       "17     2.5      sigmoid        auto         0.538583\n",
       "13       2      sigmoid        auto         0.539054\n",
       "19     2.5      sigmoid       scale         0.546107\n",
       "9      1.5      sigmoid        auto         0.547046\n",
       "15       2      sigmoid       scale         0.549875\n",
       "11     1.5      sigmoid       scale         0.551751\n",
       "7        1      sigmoid       scale         0.563986\n",
       "5        1      sigmoid        auto         0.567274\n",
       "1      0.5      sigmoid        auto         0.588906\n",
       "3      0.5      sigmoid       scale         0.594556\n",
       "2      0.5          rbf       scale         0.658045\n",
       "0      0.5          rbf        auto         0.658045\n",
       "6        1          rbf       scale         0.658981\n",
       "4        1          rbf        auto         0.659452\n",
       "18     2.5          rbf       scale         0.665094\n",
       "16     2.5          rbf        auto         0.665094\n",
       "12       2          rbf        auto         0.665095\n",
       "14       2          rbf       scale         0.665095\n",
       "8      1.5          rbf        auto         0.665100\n",
       "10     1.5          rbf       scale         0.665570"
      ]
     },
     "execution_count": 52,
     "metadata": {},
     "output_type": "execute_result"
    }
   ],
   "source": [
    "pd.set_option('display.max_rows', 100)\n",
    "sheet = pd.DataFrame(grid.cv_results_)\n",
    "sheet[['param_C','param_kernel','param_gamma','mean_test_score']].sort_values(by =['mean_test_score'])"
   ]
  },
  {
   "cell_type": "code",
   "execution_count": 53,
   "metadata": {},
   "outputs": [
    {
     "name": "stdout",
     "output_type": "stream",
     "text": [
      "Grid Training Score Set 1: 0.7525870178739417\n",
      "Testing score Set 1: 0.6578947368421053\n"
     ]
    }
   ],
   "source": [
    "grid_model = SVC(C= 1.5,gamma = 'scale', kernel = 'rbf')\n",
    "#grid_model = SVC(C= 1.5,gamma = 'scale', kernel = 'rbf')\n",
    "\n",
    "grid_model.fit(X_train_scaled,y_train_val)\n",
    "train_grid_score=grid_model.score(X_train_scaled,y_train_val)\n",
    "# Calculating the training score\n",
    "print('Grid Training Score Set 1:',train_grid_score)\n",
    "\n",
    "test_grid_p = grid_model.predict(X_test_scaled)\n",
    "test_grid_score = accuracy_score(y_test_val, test_grid_p)\n",
    "\n",
    "# Calculating the test score\n",
    "print('Testing score Set 1:',test_grid_score)"
   ]
  },
  {
   "cell_type": "code",
   "execution_count": null,
   "metadata": {},
   "outputs": [],
   "source": []
  },
  {
   "cell_type": "code",
   "execution_count": null,
   "metadata": {},
   "outputs": [],
   "source": []
  },
  {
   "cell_type": "code",
   "execution_count": 54,
   "metadata": {},
   "outputs": [
    {
     "name": "stdout",
     "output_type": "stream",
     "text": [
      "CPU times: user 36 s, sys: 152 ms, total: 36.1 s\n",
      "Wall time: 36.4 s\n"
     ]
    },
    {
     "data": {
      "text/plain": [
       "{'C': 1.2, 'degree': 4, 'gamma': 'auto', 'kernel': 'poly'}"
      ]
     },
     "execution_count": 54,
     "metadata": {},
     "output_type": "execute_result"
    }
   ],
   "source": [
    "%%time\n",
    "\n",
    "C_range = [0.5,1.2,1.5,1.7,2.5,5,10]\n",
    "# C_range =  [uniform(1,100)]\n",
    "\n",
    "gamma_range = ['auto','scale']\n",
    "\n",
    "kernel_range = ['poly']\n",
    "\n",
    "degree_range = [3,4,5]\n",
    "\n",
    "parameters = dict(gamma = gamma_range, C= C_range, kernel = kernel_range, degree = degree_range)\n",
    "\n",
    "grid_SVC = SVC()\n",
    "\n",
    "grid = GridSearchCV(grid_SVC, param_grid= parameters, cv=5)\n",
    "\n",
    "grid.fit(X_train_scaled, y_train_val)\n",
    "\n",
    "grid.best_params_"
   ]
  },
  {
   "cell_type": "code",
   "execution_count": 55,
   "metadata": {},
   "outputs": [
    {
     "data": {
      "text/html": [
       "<div>\n",
       "<style scoped>\n",
       "    .dataframe tbody tr th:only-of-type {\n",
       "        vertical-align: middle;\n",
       "    }\n",
       "\n",
       "    .dataframe tbody tr th {\n",
       "        vertical-align: top;\n",
       "    }\n",
       "\n",
       "    .dataframe thead th {\n",
       "        text-align: right;\n",
       "    }\n",
       "</style>\n",
       "<table border=\"1\" class=\"dataframe\">\n",
       "  <thead>\n",
       "    <tr style=\"text-align: right;\">\n",
       "      <th></th>\n",
       "      <th>param_C</th>\n",
       "      <th>param_kernel</th>\n",
       "      <th>param_degree</th>\n",
       "      <th>param_gamma</th>\n",
       "      <th>mean_test_score</th>\n",
       "    </tr>\n",
       "  </thead>\n",
       "  <tbody>\n",
       "    <tr>\n",
       "      <th>41</th>\n",
       "      <td>10</td>\n",
       "      <td>poly</td>\n",
       "      <td>5</td>\n",
       "      <td>scale</td>\n",
       "      <td>0.595009</td>\n",
       "    </tr>\n",
       "    <tr>\n",
       "      <th>40</th>\n",
       "      <td>10</td>\n",
       "      <td>poly</td>\n",
       "      <td>5</td>\n",
       "      <td>auto</td>\n",
       "      <td>0.595009</td>\n",
       "    </tr>\n",
       "    <tr>\n",
       "      <th>34</th>\n",
       "      <td>5</td>\n",
       "      <td>poly</td>\n",
       "      <td>5</td>\n",
       "      <td>auto</td>\n",
       "      <td>0.606766</td>\n",
       "    </tr>\n",
       "    <tr>\n",
       "      <th>35</th>\n",
       "      <td>5</td>\n",
       "      <td>poly</td>\n",
       "      <td>5</td>\n",
       "      <td>scale</td>\n",
       "      <td>0.607237</td>\n",
       "    </tr>\n",
       "    <tr>\n",
       "      <th>23</th>\n",
       "      <td>1.7</td>\n",
       "      <td>poly</td>\n",
       "      <td>5</td>\n",
       "      <td>scale</td>\n",
       "      <td>0.608653</td>\n",
       "    </tr>\n",
       "    <tr>\n",
       "      <th>22</th>\n",
       "      <td>1.7</td>\n",
       "      <td>poly</td>\n",
       "      <td>5</td>\n",
       "      <td>auto</td>\n",
       "      <td>0.608653</td>\n",
       "    </tr>\n",
       "    <tr>\n",
       "      <th>28</th>\n",
       "      <td>2.5</td>\n",
       "      <td>poly</td>\n",
       "      <td>5</td>\n",
       "      <td>auto</td>\n",
       "      <td>0.608654</td>\n",
       "    </tr>\n",
       "    <tr>\n",
       "      <th>37</th>\n",
       "      <td>10</td>\n",
       "      <td>poly</td>\n",
       "      <td>3</td>\n",
       "      <td>scale</td>\n",
       "      <td>0.608662</td>\n",
       "    </tr>\n",
       "    <tr>\n",
       "      <th>36</th>\n",
       "      <td>10</td>\n",
       "      <td>poly</td>\n",
       "      <td>3</td>\n",
       "      <td>auto</td>\n",
       "      <td>0.609131</td>\n",
       "    </tr>\n",
       "    <tr>\n",
       "      <th>29</th>\n",
       "      <td>2.5</td>\n",
       "      <td>poly</td>\n",
       "      <td>5</td>\n",
       "      <td>scale</td>\n",
       "      <td>0.609593</td>\n",
       "    </tr>\n",
       "    <tr>\n",
       "      <th>31</th>\n",
       "      <td>5</td>\n",
       "      <td>poly</td>\n",
       "      <td>3</td>\n",
       "      <td>scale</td>\n",
       "      <td>0.610541</td>\n",
       "    </tr>\n",
       "    <tr>\n",
       "      <th>30</th>\n",
       "      <td>5</td>\n",
       "      <td>poly</td>\n",
       "      <td>3</td>\n",
       "      <td>auto</td>\n",
       "      <td>0.611010</td>\n",
       "    </tr>\n",
       "    <tr>\n",
       "      <th>25</th>\n",
       "      <td>2.5</td>\n",
       "      <td>poly</td>\n",
       "      <td>3</td>\n",
       "      <td>scale</td>\n",
       "      <td>0.611481</td>\n",
       "    </tr>\n",
       "    <tr>\n",
       "      <th>24</th>\n",
       "      <td>2.5</td>\n",
       "      <td>poly</td>\n",
       "      <td>3</td>\n",
       "      <td>auto</td>\n",
       "      <td>0.611481</td>\n",
       "    </tr>\n",
       "    <tr>\n",
       "      <th>17</th>\n",
       "      <td>1.5</td>\n",
       "      <td>poly</td>\n",
       "      <td>5</td>\n",
       "      <td>scale</td>\n",
       "      <td>0.612418</td>\n",
       "    </tr>\n",
       "    <tr>\n",
       "      <th>16</th>\n",
       "      <td>1.5</td>\n",
       "      <td>poly</td>\n",
       "      <td>5</td>\n",
       "      <td>auto</td>\n",
       "      <td>0.612889</td>\n",
       "    </tr>\n",
       "    <tr>\n",
       "      <th>11</th>\n",
       "      <td>1.2</td>\n",
       "      <td>poly</td>\n",
       "      <td>5</td>\n",
       "      <td>scale</td>\n",
       "      <td>0.613363</td>\n",
       "    </tr>\n",
       "    <tr>\n",
       "      <th>12</th>\n",
       "      <td>1.5</td>\n",
       "      <td>poly</td>\n",
       "      <td>3</td>\n",
       "      <td>auto</td>\n",
       "      <td>0.613830</td>\n",
       "    </tr>\n",
       "    <tr>\n",
       "      <th>18</th>\n",
       "      <td>1.7</td>\n",
       "      <td>poly</td>\n",
       "      <td>3</td>\n",
       "      <td>auto</td>\n",
       "      <td>0.613832</td>\n",
       "    </tr>\n",
       "    <tr>\n",
       "      <th>19</th>\n",
       "      <td>1.7</td>\n",
       "      <td>poly</td>\n",
       "      <td>3</td>\n",
       "      <td>scale</td>\n",
       "      <td>0.613832</td>\n",
       "    </tr>\n",
       "    <tr>\n",
       "      <th>13</th>\n",
       "      <td>1.5</td>\n",
       "      <td>poly</td>\n",
       "      <td>3</td>\n",
       "      <td>scale</td>\n",
       "      <td>0.614301</td>\n",
       "    </tr>\n",
       "    <tr>\n",
       "      <th>10</th>\n",
       "      <td>1.2</td>\n",
       "      <td>poly</td>\n",
       "      <td>5</td>\n",
       "      <td>auto</td>\n",
       "      <td>0.614304</td>\n",
       "    </tr>\n",
       "    <tr>\n",
       "      <th>7</th>\n",
       "      <td>1.2</td>\n",
       "      <td>poly</td>\n",
       "      <td>3</td>\n",
       "      <td>scale</td>\n",
       "      <td>0.615243</td>\n",
       "    </tr>\n",
       "    <tr>\n",
       "      <th>6</th>\n",
       "      <td>1.2</td>\n",
       "      <td>poly</td>\n",
       "      <td>3</td>\n",
       "      <td>auto</td>\n",
       "      <td>0.616654</td>\n",
       "    </tr>\n",
       "    <tr>\n",
       "      <th>5</th>\n",
       "      <td>0.5</td>\n",
       "      <td>poly</td>\n",
       "      <td>5</td>\n",
       "      <td>scale</td>\n",
       "      <td>0.619000</td>\n",
       "    </tr>\n",
       "    <tr>\n",
       "      <th>4</th>\n",
       "      <td>0.5</td>\n",
       "      <td>poly</td>\n",
       "      <td>5</td>\n",
       "      <td>auto</td>\n",
       "      <td>0.619000</td>\n",
       "    </tr>\n",
       "    <tr>\n",
       "      <th>0</th>\n",
       "      <td>0.5</td>\n",
       "      <td>poly</td>\n",
       "      <td>3</td>\n",
       "      <td>auto</td>\n",
       "      <td>0.621825</td>\n",
       "    </tr>\n",
       "    <tr>\n",
       "      <th>1</th>\n",
       "      <td>0.5</td>\n",
       "      <td>poly</td>\n",
       "      <td>3</td>\n",
       "      <td>scale</td>\n",
       "      <td>0.621826</td>\n",
       "    </tr>\n",
       "    <tr>\n",
       "      <th>32</th>\n",
       "      <td>5</td>\n",
       "      <td>poly</td>\n",
       "      <td>4</td>\n",
       "      <td>auto</td>\n",
       "      <td>0.632641</td>\n",
       "    </tr>\n",
       "    <tr>\n",
       "      <th>38</th>\n",
       "      <td>10</td>\n",
       "      <td>poly</td>\n",
       "      <td>4</td>\n",
       "      <td>auto</td>\n",
       "      <td>0.632643</td>\n",
       "    </tr>\n",
       "    <tr>\n",
       "      <th>39</th>\n",
       "      <td>10</td>\n",
       "      <td>poly</td>\n",
       "      <td>4</td>\n",
       "      <td>scale</td>\n",
       "      <td>0.633112</td>\n",
       "    </tr>\n",
       "    <tr>\n",
       "      <th>33</th>\n",
       "      <td>5</td>\n",
       "      <td>poly</td>\n",
       "      <td>4</td>\n",
       "      <td>scale</td>\n",
       "      <td>0.633582</td>\n",
       "    </tr>\n",
       "    <tr>\n",
       "      <th>27</th>\n",
       "      <td>2.5</td>\n",
       "      <td>poly</td>\n",
       "      <td>4</td>\n",
       "      <td>scale</td>\n",
       "      <td>0.642052</td>\n",
       "    </tr>\n",
       "    <tr>\n",
       "      <th>26</th>\n",
       "      <td>2.5</td>\n",
       "      <td>poly</td>\n",
       "      <td>4</td>\n",
       "      <td>auto</td>\n",
       "      <td>0.642523</td>\n",
       "    </tr>\n",
       "    <tr>\n",
       "      <th>21</th>\n",
       "      <td>1.7</td>\n",
       "      <td>poly</td>\n",
       "      <td>4</td>\n",
       "      <td>scale</td>\n",
       "      <td>0.646281</td>\n",
       "    </tr>\n",
       "    <tr>\n",
       "      <th>20</th>\n",
       "      <td>1.7</td>\n",
       "      <td>poly</td>\n",
       "      <td>4</td>\n",
       "      <td>auto</td>\n",
       "      <td>0.647222</td>\n",
       "    </tr>\n",
       "    <tr>\n",
       "      <th>3</th>\n",
       "      <td>0.5</td>\n",
       "      <td>poly</td>\n",
       "      <td>4</td>\n",
       "      <td>scale</td>\n",
       "      <td>0.649573</td>\n",
       "    </tr>\n",
       "    <tr>\n",
       "      <th>14</th>\n",
       "      <td>1.5</td>\n",
       "      <td>poly</td>\n",
       "      <td>4</td>\n",
       "      <td>auto</td>\n",
       "      <td>0.649574</td>\n",
       "    </tr>\n",
       "    <tr>\n",
       "      <th>2</th>\n",
       "      <td>0.5</td>\n",
       "      <td>poly</td>\n",
       "      <td>4</td>\n",
       "      <td>auto</td>\n",
       "      <td>0.650044</td>\n",
       "    </tr>\n",
       "    <tr>\n",
       "      <th>15</th>\n",
       "      <td>1.5</td>\n",
       "      <td>poly</td>\n",
       "      <td>4</td>\n",
       "      <td>scale</td>\n",
       "      <td>0.650045</td>\n",
       "    </tr>\n",
       "    <tr>\n",
       "      <th>9</th>\n",
       "      <td>1.2</td>\n",
       "      <td>poly</td>\n",
       "      <td>4</td>\n",
       "      <td>scale</td>\n",
       "      <td>0.650986</td>\n",
       "    </tr>\n",
       "    <tr>\n",
       "      <th>8</th>\n",
       "      <td>1.2</td>\n",
       "      <td>poly</td>\n",
       "      <td>4</td>\n",
       "      <td>auto</td>\n",
       "      <td>0.650986</td>\n",
       "    </tr>\n",
       "  </tbody>\n",
       "</table>\n",
       "</div>"
      ],
      "text/plain": [
       "   param_C param_kernel param_degree param_gamma  mean_test_score\n",
       "41      10         poly            5       scale         0.595009\n",
       "40      10         poly            5        auto         0.595009\n",
       "34       5         poly            5        auto         0.606766\n",
       "35       5         poly            5       scale         0.607237\n",
       "23     1.7         poly            5       scale         0.608653\n",
       "22     1.7         poly            5        auto         0.608653\n",
       "28     2.5         poly            5        auto         0.608654\n",
       "37      10         poly            3       scale         0.608662\n",
       "36      10         poly            3        auto         0.609131\n",
       "29     2.5         poly            5       scale         0.609593\n",
       "31       5         poly            3       scale         0.610541\n",
       "30       5         poly            3        auto         0.611010\n",
       "25     2.5         poly            3       scale         0.611481\n",
       "24     2.5         poly            3        auto         0.611481\n",
       "17     1.5         poly            5       scale         0.612418\n",
       "16     1.5         poly            5        auto         0.612889\n",
       "11     1.2         poly            5       scale         0.613363\n",
       "12     1.5         poly            3        auto         0.613830\n",
       "18     1.7         poly            3        auto         0.613832\n",
       "19     1.7         poly            3       scale         0.613832\n",
       "13     1.5         poly            3       scale         0.614301\n",
       "10     1.2         poly            5        auto         0.614304\n",
       "7      1.2         poly            3       scale         0.615243\n",
       "6      1.2         poly            3        auto         0.616654\n",
       "5      0.5         poly            5       scale         0.619000\n",
       "4      0.5         poly            5        auto         0.619000\n",
       "0      0.5         poly            3        auto         0.621825\n",
       "1      0.5         poly            3       scale         0.621826\n",
       "32       5         poly            4        auto         0.632641\n",
       "38      10         poly            4        auto         0.632643\n",
       "39      10         poly            4       scale         0.633112\n",
       "33       5         poly            4       scale         0.633582\n",
       "27     2.5         poly            4       scale         0.642052\n",
       "26     2.5         poly            4        auto         0.642523\n",
       "21     1.7         poly            4       scale         0.646281\n",
       "20     1.7         poly            4        auto         0.647222\n",
       "3      0.5         poly            4       scale         0.649573\n",
       "14     1.5         poly            4        auto         0.649574\n",
       "2      0.5         poly            4        auto         0.650044\n",
       "15     1.5         poly            4       scale         0.650045\n",
       "9      1.2         poly            4       scale         0.650986\n",
       "8      1.2         poly            4        auto         0.650986"
      ]
     },
     "execution_count": 55,
     "metadata": {},
     "output_type": "execute_result"
    }
   ],
   "source": [
    "pd.set_option('display.max_rows', 100)\n",
    "sheet = pd.DataFrame(grid.cv_results_)\n",
    "sheet[['param_C','param_kernel','param_degree','param_gamma','mean_test_score']].sort_values(by =['mean_test_score'])"
   ]
  },
  {
   "cell_type": "markdown",
   "metadata": {},
   "source": [
    "Applying this parameters to our model to check the performance."
   ]
  },
  {
   "cell_type": "code",
   "execution_count": null,
   "metadata": {},
   "outputs": [],
   "source": [
    "grid_model = SVC(C= 1.2,gamma = 'auto', kernel = 'poly', degree = 4)\n",
    "#grid_model = SVC(C= 1.5,gamma = 'scale', kernel = 'rbf')\n",
    "\n",
    "grid_model.fit(X_train_scaled,y_train_val)\n",
    "train_grid_score=grid_model.score(X_train_scaled,y_train_val)\n",
    "# Calculating the training score\n",
    "print('Grid Training Score :',train_grid_score)\n",
    "\n",
    "test_grid_p = grid_model.predict(X_test_scaled)\n",
    "test_grid_score = accuracy_score(y_test_val, test_grid_p)\n",
    "\n",
    "# Calculating the test score\n",
    "print('Testing score:',test_grid_score)"
   ]
  },
  {
   "cell_type": "code",
   "execution_count": null,
   "metadata": {},
   "outputs": [],
   "source": []
  },
  {
   "cell_type": "code",
   "execution_count": null,
   "metadata": {},
   "outputs": [],
   "source": [
    "plot_roc_curve(grid_model,X_test_scaled,y_test_val)"
   ]
  },
  {
   "cell_type": "markdown",
   "metadata": {},
   "source": [
    "From the above two models we can choose Random Search model as our final parameters"
   ]
  },
  {
   "cell_type": "code",
   "execution_count": null,
   "metadata": {},
   "outputs": [],
   "source": [
    "final_parameters = {'C':[76],\n",
    "              'kernel': ['rbf'],\n",
    "              'gamma':['auto'],\n",
    "              'degree':[2]\n",
    "             }"
   ]
  },
  {
   "cell_type": "markdown",
   "metadata": {},
   "source": [
    "## Best Model"
   ]
  },
  {
   "cell_type": "code",
   "execution_count": null,
   "metadata": {},
   "outputs": [],
   "source": []
  },
  {
   "cell_type": "code",
   "execution_count": null,
   "metadata": {},
   "outputs": [],
   "source": [
    "%%time\n",
    "\n",
    "best_SVC_model = SVC(C= 1,gamma = 'scale', kernel = 'poly',degree= 4)\n",
    "best_SVC_model.fit(X_train_scaled,y_train_val)\n",
    "train_best_SVC_score=best_SVC_model.score(X_train_scaled,y_train_val)\n",
    "# Calculating the training score\n",
    "print('Training Score :',train_best_SVC_score)\n",
    "\n",
    "test_best_predict= best_SVC_model.predict(X_test_scaled)\n",
    "test_best_score = accuracy_score(y_test_val, test_best_predict)\n",
    "\n",
    "# Calculating the test score\n",
    "print('Testing score:',test_best_score)"
   ]
  },
  {
   "cell_type": "code",
   "execution_count": null,
   "metadata": {},
   "outputs": [],
   "source": []
  },
  {
   "cell_type": "code",
   "execution_count": null,
   "metadata": {},
   "outputs": [],
   "source": [
    "best_SVC_matrix = confusion_matrix(y_test_val,test_best_predict)\n",
    "plot_confusion_matrix(best_SVC_model,X_test_scaled,y_test_val)\n",
    "# sns.heatmap(best_SVC_matrix/np.sum(best_SVC_matrix),annot = True, fmt = '0.2%',cmap='Greens')"
   ]
  },
  {
   "cell_type": "code",
   "execution_count": null,
   "metadata": {},
   "outputs": [],
   "source": [
    "plot_roc_curve(best_SVC_model,X_test_scaled,y_test_val)"
   ]
  },
  {
   "cell_type": "code",
   "execution_count": null,
   "metadata": {},
   "outputs": [],
   "source": []
  },
  {
   "cell_type": "markdown",
   "metadata": {},
   "source": [
    "Our final model is ready and lets apply this on our test data set."
   ]
  },
  {
   "cell_type": "markdown",
   "metadata": {},
   "source": [
    "# Standardise the test data set"
   ]
  },
  {
   "cell_type": "code",
   "execution_count": null,
   "metadata": {},
   "outputs": [],
   "source": [
    "check"
   ]
  },
  {
   "cell_type": "code",
   "execution_count": null,
   "metadata": {},
   "outputs": [],
   "source": []
  },
  {
   "cell_type": "markdown",
   "metadata": {},
   "source": [
    "# Running our test model and checking our accuracy"
   ]
  },
  {
   "cell_type": "code",
   "execution_count": null,
   "metadata": {},
   "outputs": [],
   "source": []
  },
  {
   "cell_type": "code",
   "execution_count": null,
   "metadata": {},
   "outputs": [],
   "source": [
    "\n"
   ]
  },
  {
   "cell_type": "code",
   "execution_count": null,
   "metadata": {},
   "outputs": [],
   "source": []
  },
  {
   "cell_type": "markdown",
   "metadata": {},
   "source": [
    "# MLP Model"
   ]
  },
  {
   "cell_type": "code",
   "execution_count": null,
   "metadata": {},
   "outputs": [],
   "source": [
    "# pip install skorch"
   ]
  },
  {
   "cell_type": "code",
   "execution_count": null,
   "metadata": {},
   "outputs": [],
   "source": [
    "import torch\n",
    "from torch import nn\n",
    "import torch.nn.functional as F\n",
    "import torch.optim as optim\n",
    "\n",
    "from skorch import NeuralNetClassifier\n",
    "from skorch.callbacks import EarlyStopping"
   ]
  },
  {
   "cell_type": "markdown",
   "metadata": {},
   "source": [
    "### We will define the initial parameters needed for our multilayer perceptron"
   ]
  },
  {
   "cell_type": "code",
   "execution_count": null,
   "metadata": {},
   "outputs": [],
   "source": [
    "input_dim = X_train_val.shape[1]\n",
    "hidden_dim = 100\n",
    "output_dim = 2\n",
    "dropout = 0.5\n",
    "activation = F.relu\n",
    "device ='cpu'"
   ]
  },
  {
   "cell_type": "code",
   "execution_count": null,
   "metadata": {},
   "outputs": [],
   "source": [
    "print('Input Size:',input_dim,\n",
    "      'Hidden Size:', hidden_dim,\n",
    "      'Output Size:',output_dim)"
   ]
  },
  {
   "cell_type": "markdown",
   "metadata": {},
   "source": [
    "### Building a basic neural network"
   ]
  },
  {
   "cell_type": "code",
   "execution_count": null,
   "metadata": {},
   "outputs": [],
   "source": [
    "class MLP(nn.Module):\n",
    "    def __init__(\n",
    "            self,\n",
    "            input_size = input_dim,\n",
    "            hidden_size = hidden_dim,\n",
    "            output_size = output_dim,\n",
    "            dropout = dropout,\n",
    "            activation = activation\n",
    "    ):\n",
    "        super(MLP, self).__init__()\n",
    "        self.dropout = nn.Dropout(dropout)\n",
    "        self.activation = activation\n",
    "        self.fc1 = nn.Linear(input_size, hidden_size)\n",
    "        self.fc2 = nn.Linear(hidden_size, hidden_size)\n",
    "        self.output_size = nn.Linear(hidden_size, output_size)\n",
    "        \n",
    "    def forward(self, X):\n",
    "        X = self.activation(self.fc1(X))\n",
    "        X = self.dropout(X)\n",
    "        X = self.activation(self.fc2(X))\n",
    "        X = self.dropout(X)\n",
    "        X = F.softmax(self.output_size(X), dim = -1)\n",
    "        \n",
    "        return X"
   ]
  },
  {
   "cell_type": "markdown",
   "metadata": {},
   "source": [
    "Building a model using the network"
   ]
  },
  {
   "cell_type": "code",
   "execution_count": null,
   "metadata": {},
   "outputs": [],
   "source": [
    "torch.manual_seed(0)\n",
    "\n",
    "MLP_model = NeuralNetClassifier(\n",
    "    MLP,\n",
    "    max_epochs = 20,\n",
    "    lr = 0.1,\n",
    "    device = device)"
   ]
  },
  {
   "cell_type": "markdown",
   "metadata": {},
   "source": [
    "Converting the double datatype to float datatype"
   ]
  },
  {
   "cell_type": "code",
   "execution_count": null,
   "metadata": {},
   "outputs": [],
   "source": [
    "\n",
    "X_train_scaled = X_train_scaled.astype(np.float32)\n",
    "X_test_scaled = X_test_scaled.astype(np.float32)\n"
   ]
  },
  {
   "cell_type": "markdown",
   "metadata": {},
   "source": [
    "Fit the model into our dataset"
   ]
  },
  {
   "cell_type": "code",
   "execution_count": null,
   "metadata": {},
   "outputs": [],
   "source": [
    "MLP_model.fit(X_train_scaled, y_train_val)"
   ]
  },
  {
   "cell_type": "markdown",
   "metadata": {},
   "source": [
    "Let us use this model to predict our target variables and see the predictions on the validation dataset"
   ]
  },
  {
   "cell_type": "code",
   "execution_count": null,
   "metadata": {},
   "outputs": [],
   "source": [
    "mlp_pred = MLP_model.predict(X_test_scaled)\n",
    "\n",
    "mlp_pred_score = accuracy_score(y_test_val, mlp_pred)\n",
    "\n",
    "print('Initial Testing Score:',mlp_pred_score)"
   ]
  },
  {
   "cell_type": "markdown",
   "metadata": {},
   "source": [
    "Early Stopping is found to be useful many scenarios. Hence we will try this on our model"
   ]
  },
  {
   "cell_type": "code",
   "execution_count": null,
   "metadata": {},
   "outputs": [],
   "source": [
    "MLP_model = NeuralNetClassifier(\n",
    "    MLP,\n",
    "    lr = 1,\n",
    "    max_epochs = 100,\n",
    "    callbacks = [EarlyStopping()]\n",
    "    )"
   ]
  },
  {
   "cell_type": "code",
   "execution_count": null,
   "metadata": {},
   "outputs": [],
   "source": [
    "MLP_model.fit(X_train_scaled,y_train_val)"
   ]
  },
  {
   "cell_type": "code",
   "execution_count": null,
   "metadata": {},
   "outputs": [],
   "source": [
    "mlp_pred = MLP_model.predict(X_test_scaled)\n",
    "\n",
    "mlp_pred_score = accuracy_score(y_test_val, mlp_pred)\n",
    "\n",
    "print('Testing Score after using Early Stopping:',mlp_pred_score)"
   ]
  },
  {
   "cell_type": "markdown",
   "metadata": {},
   "source": [
    "It indeed increased the performance of our model."
   ]
  },
  {
   "cell_type": "markdown",
   "metadata": {},
   "source": [
    "Lets Check if Cross Validation can improve our model."
   ]
  },
  {
   "cell_type": "code",
   "execution_count": null,
   "metadata": {},
   "outputs": [],
   "source": [
    "scores = cross_validate(MLP_model, X_train_scaled, y_train_val, scoring = 'accuracy', cv =4)"
   ]
  },
  {
   "cell_type": "code",
   "execution_count": null,
   "metadata": {},
   "outputs": [],
   "source": [
    "scores"
   ]
  },
  {
   "cell_type": "markdown",
   "metadata": {},
   "source": [
    "From the scores of the cross validation process, we can observe that the performance of the model hasn't changed much on an average. "
   ]
  },
  {
   "cell_type": "markdown",
   "metadata": {},
   "source": [
    "# MLP Hyperparameter Optimization"
   ]
  },
  {
   "cell_type": "code",
   "execution_count": null,
   "metadata": {},
   "outputs": [],
   "source": [
    "# Setting a base model without any parameters\n",
    "\n",
    "#criterion = nn.BCELoss()\n",
    "criterion = nn.CrossEntropyLoss()\n",
    "\n",
    "MLP_model = NeuralNetClassifier(\n",
    "    MLP,\n",
    "    criterion = criterion,\n",
    "    callbacks = [EarlyStopping()]\n",
    "    )"
   ]
  },
  {
   "cell_type": "markdown",
   "metadata": {},
   "source": [
    "## Using Random Search to find the best parameters"
   ]
  },
  {
   "cell_type": "code",
   "execution_count": null,
   "metadata": {},
   "outputs": [],
   "source": [
    "\n",
    "MLP_model.set_params(verbose=0)\n",
    "\n",
    "params = {   'lr': [0.0001,0.001,0.01],\n",
    "             'batch_size': [250,300,350],\n",
    "             'optimizer':[optim.Adam, optim.SGD],\n",
    "             'module__hidden_size': [50,100,200],\n",
    "             'module__dropout': [0.2,0.3,0.5],\n",
    "             'module__activation':[F.relu, F.selu,F.leaky_relu],\n",
    "             'max_epochs': [200,400,500]\n",
    "         }\n",
    "\n",
    "random_MLP = RandomizedSearchCV(MLP_model,\n",
    "                           params,\n",
    "                           cv=3,\n",
    "                           scoring = 'accuracy')\n",
    "\n",
    "random_MLP.fit(X_train_scaled, y_train_val);"
   ]
  },
  {
   "cell_type": "code",
   "execution_count": null,
   "metadata": {},
   "outputs": [],
   "source": [
    "random_MLP.best_score_, random_MLP.best_params_"
   ]
  },
  {
   "cell_type": "markdown",
   "metadata": {},
   "source": [
    "## Using Grid Search to find the best parameters"
   ]
  },
  {
   "cell_type": "code",
   "execution_count": null,
   "metadata": {},
   "outputs": [],
   "source": [
    "%%time\n",
    "MLP_model.set_params()\n",
    "\n",
    "params = {'lr': [0.001,0.01],\n",
    "         'optimizer':[optim.Adam, optim.SGD],\n",
    "         'batch_size': [250,300,350],\n",
    "         'max_epochs': [500],\n",
    "         'module__hidden_size': [50,100,150],\n",
    "         'module__dropout': [0.3,0.4,0.5]\n",
    "         }\n",
    "\n",
    "grid_MLP = GridSearchCV(MLP_model,\n",
    "                       params,\n",
    "                       cv=3,\n",
    "                       scoring = \"accuracy\"\n",
    "                       )\n",
    "\n",
    "\n",
    "grid_MLP.fit(X_train_scaled, y_train_val)"
   ]
  },
  {
   "cell_type": "code",
   "execution_count": null,
   "metadata": {},
   "outputs": [],
   "source": [
    "grid_MLP.best_score_, grid_MLP.best_params_"
   ]
  },
  {
   "cell_type": "markdown",
   "metadata": {},
   "source": [
    "# Best Model "
   ]
  },
  {
   "cell_type": "markdown",
   "metadata": {},
   "source": [
    "Let us re build our base model with the values obtained from the GridSearchCV method."
   ]
  },
  {
   "cell_type": "code",
   "execution_count": null,
   "metadata": {},
   "outputs": [],
   "source": [
    "input_dim = X_train_val.shape[1]\n",
    "hidden_dim = 50\n",
    "output_dim = 2\n",
    "dropout = 0.5\n",
    "activation = F.relu"
   ]
  },
  {
   "cell_type": "code",
   "execution_count": null,
   "metadata": {},
   "outputs": [],
   "source": [
    "class MLP(nn.Module):\n",
    "    def __init__(\n",
    "            self,\n",
    "            input_size = input_dim,\n",
    "            hidden_size = hidden_dim,\n",
    "            output_size = output_dim,\n",
    "            dropout = dropout,\n",
    "            activation = activation\n",
    "    ):\n",
    "        super(MLP, self).__init__()\n",
    "        self.dropout = nn.Dropout(dropout)\n",
    "        self.activation = activation\n",
    "        self.fc1 = nn.Linear(input_size, hidden_size)\n",
    "        self.fc2 = nn.Linear(hidden_size, hidden_size)\n",
    "        self.output_size = nn.Linear(hidden_size, output_size)\n",
    "        \n",
    "    def forward(self, X):\n",
    "        X = self.activation(self.fc1(X))\n",
    "        X = self.dropout(X)\n",
    "        X = self.activation(self.fc2(X))\n",
    "        X = self.dropout(X)\n",
    "        X = F.softmax(self.output_size(X), dim = -1)\n",
    "        \n",
    "        return X"
   ]
  },
  {
   "cell_type": "markdown",
   "metadata": {},
   "source": [
    "From the above methods we can determine the best parameters suited for our model."
   ]
  },
  {
   "cell_type": "code",
   "execution_count": null,
   "metadata": {},
   "outputs": [],
   "source": [
    "# Best Parameters\n",
    "batch_size = 250\n",
    "lr = 0.001\n",
    "epochs = 500\n",
    "optimizer = optim.Adam\n",
    "# criterion = nn.BCELoss()\n",
    "criterion = nn.CrossEntropyLoss()"
   ]
  },
  {
   "cell_type": "markdown",
   "metadata": {},
   "source": [
    "Building our final model with the parameters choosen above"
   ]
  },
  {
   "cell_type": "code",
   "execution_count": null,
   "metadata": {},
   "outputs": [],
   "source": [
    "torch.manual_seed(0)\n",
    "\n",
    "MLP_best = NeuralNetClassifier(\n",
    "            MLP,\n",
    "            max_epochs = epochs,\n",
    "            batch_size = batch_size,\n",
    "            optimizer = optimizer,\n",
    "            criterion = criterion,\n",
    "            lr = lr,\n",
    "            callbacks = [EarlyStopping()]\n",
    "            )\n",
    "MLP_best.fit(X_train_scaled, y_train_val)"
   ]
  },
  {
   "cell_type": "code",
   "execution_count": null,
   "metadata": {},
   "outputs": [],
   "source": [
    "MLP_best_pred = MLP_best.predict(X_test_scaled)\n",
    "\n",
    "MLP_best_pred_score = accuracy_score(y_test_val, MLP_best_pred)\n",
    "\n",
    "print('Final Testing Score on train data:',MLP_best_pred_score)"
   ]
  },
  {
   "cell_type": "markdown",
   "metadata": {},
   "source": [
    "# Standardise the test data set"
   ]
  },
  {
   "cell_type": "code",
   "execution_count": null,
   "metadata": {},
   "outputs": [],
   "source": [
    "scs = StandardScaler()\n",
    "X_train = scs.fit_transform(X_train)\n",
    "X_test = scs.transform(X_test)"
   ]
  },
  {
   "cell_type": "code",
   "execution_count": null,
   "metadata": {},
   "outputs": [],
   "source": [
    "X_train = X_train.astype(np.float32)\n",
    "X_test = X_test.astype(np.float32)"
   ]
  },
  {
   "cell_type": "code",
   "execution_count": null,
   "metadata": {},
   "outputs": [],
   "source": []
  },
  {
   "cell_type": "markdown",
   "metadata": {},
   "source": [
    "# Running our test model and checking our accuracy"
   ]
  },
  {
   "cell_type": "code",
   "execution_count": null,
   "metadata": {},
   "outputs": [],
   "source": [
    "final_MLP_model = MLP_best.predict(X_test)\n",
    "\n",
    "final_MLP_model_score = accuracy_score(y_test, final_MLP_model)\n",
    "\n",
    "print('Final Testing Score on testing data:',final_MLP_model_score)\n",
    "\n"
   ]
  },
  {
   "cell_type": "code",
   "execution_count": null,
   "metadata": {},
   "outputs": [],
   "source": []
  },
  {
   "cell_type": "code",
   "execution_count": null,
   "metadata": {},
   "outputs": [],
   "source": []
  },
  {
   "cell_type": "code",
   "execution_count": null,
   "metadata": {},
   "outputs": [],
   "source": [
    "# Importing the test data and running our best models."
   ]
  },
  {
   "cell_type": "code",
   "execution_count": null,
   "metadata": {},
   "outputs": [],
   "source": [
    "X_test = pd.read_csv('X_test_data')\n",
    "X_test"
   ]
  },
  {
   "cell_type": "code",
   "execution_count": null,
   "metadata": {},
   "outputs": [],
   "source": []
  },
  {
   "cell_type": "code",
   "execution_count": null,
   "metadata": {},
   "outputs": [],
   "source": []
  },
  {
   "cell_type": "code",
   "execution_count": null,
   "metadata": {},
   "outputs": [],
   "source": [
    "# SVM Final Model"
   ]
  },
  {
   "cell_type": "code",
   "execution_count": null,
   "metadata": {},
   "outputs": [],
   "source": [
    "# scs = StandardScaler()\n",
    "# X_train = scs.fit_transform(X_train)\n",
    "# X_test = scs.transform(X_test)"
   ]
  },
  {
   "cell_type": "code",
   "execution_count": null,
   "metadata": {},
   "outputs": [],
   "source": [
    "# %%time\n",
    "\n",
    "# # final_SVC_model = SVC(C= 1,gamma = 'auto', kernel = 'rbf',degree= 2)\n",
    "# # final_SVC_model.fit(X_train,y_train)\n",
    "# # train_final_SVC_score=final_SVC_model.score(X_train,y_train)\n",
    "# # # Calculating the training score\n",
    "# # print('Training Score :',train_final_SVC_score)\n",
    "\n",
    "# test_final_SVC = best_SVC_model.predict(X_test)\n",
    "# test_final_SVC_score = accuracy_score(y_test, test_final_SVC)\n",
    "\n",
    "# # Calculating the test score\n",
    "# print('Final Model Testing score:',test_final_SVC_score)"
   ]
  },
  {
   "cell_type": "code",
   "execution_count": null,
   "metadata": {},
   "outputs": [],
   "source": []
  },
  {
   "cell_type": "code",
   "execution_count": null,
   "metadata": {},
   "outputs": [],
   "source": []
  },
  {
   "cell_type": "code",
   "execution_count": null,
   "metadata": {},
   "outputs": [],
   "source": []
  },
  {
   "cell_type": "markdown",
   "metadata": {},
   "source": [
    "Final Results from both the models"
   ]
  },
  {
   "cell_type": "code",
   "execution_count": null,
   "metadata": {},
   "outputs": [],
   "source": [
    "print('Final Model Testing score:',test_final_SVC_score)\n",
    "print('Final Testing Score on testing data:',final_MLP_model_score)\n"
   ]
  },
  {
   "cell_type": "markdown",
   "metadata": {},
   "source": [
    "# "
   ]
  }
 ],
 "metadata": {
  "kernelspec": {
   "display_name": "Python 3",
   "language": "python",
   "name": "python3"
  },
  "language_info": {
   "codemirror_mode": {
    "name": "ipython",
    "version": 3
   },
   "file_extension": ".py",
   "mimetype": "text/x-python",
   "name": "python",
   "nbconvert_exporter": "python",
   "pygments_lexer": "ipython3",
   "version": "3.8.5"
  }
 },
 "nbformat": 4,
 "nbformat_minor": 4
}
