{
 "cells": [
  {
   "cell_type": "code",
   "execution_count": 1,
   "metadata": {},
   "outputs": [],
   "source": [
    "import pandas as pd\n",
    "import numpy as np\n",
    "import matplotlib.pyplot as plt\n",
    "import seaborn as sns\n",
    "from sklearn.svm import SVC\n",
    "from sklearn.neural_network import MLPClassifier\n",
    "\n",
    "from sklearn.model_selection import train_test_split,cross_val_score, cross_validate,RandomizedSearchCV, GridSearchCV\n",
    "from sklearn.preprocessing import StandardScaler\n",
    "\n",
    "from sklearn.metrics import accuracy_score,classification_report,confusion_matrix, plot_confusion_matrix\n",
    "from sklearn.metrics import plot_precision_recall_curve,plot_roc_curve\n",
    "from scipy import stats\n",
    "from scipy.stats import uniform\n",
    "\n",
    "import torch\n",
    "from torch import nn\n",
    "import torch.nn.functional as F\n",
    "import torch.optim as optim\n",
    "\n",
    "from skorch import NeuralNetClassifier\n",
    "from skorch.callbacks import EarlyStopping"
   ]
  },
  {
   "cell_type": "code",
   "execution_count": 2,
   "metadata": {},
   "outputs": [],
   "source": [
    "# pip install skorch"
   ]
  },
  {
   "cell_type": "code",
   "execution_count": 3,
   "metadata": {},
   "outputs": [],
   "source": [
    "X_train = pd.read_csv('X_train_data.csv')\n",
    "y_train = pd.read_csv('y_train_data.csv')\n",
    "X_test = pd.read_csv('X_test_data.csv')\n",
    "y_test = pd.read_csv('y_test_data.csv')"
   ]
  },
  {
   "cell_type": "code",
   "execution_count": 4,
   "metadata": {},
   "outputs": [
    {
     "data": {
      "text/html": [
       "<div>\n",
       "<style scoped>\n",
       "    .dataframe tbody tr th:only-of-type {\n",
       "        vertical-align: middle;\n",
       "    }\n",
       "\n",
       "    .dataframe tbody tr th {\n",
       "        vertical-align: top;\n",
       "    }\n",
       "\n",
       "    .dataframe thead th {\n",
       "        text-align: right;\n",
       "    }\n",
       "</style>\n",
       "<table border=\"1\" class=\"dataframe\">\n",
       "  <thead>\n",
       "    <tr style=\"text-align: right;\">\n",
       "      <th></th>\n",
       "      <th>ph</th>\n",
       "      <th>Hardness</th>\n",
       "      <th>Solids</th>\n",
       "      <th>Chloramines</th>\n",
       "      <th>Sulfate</th>\n",
       "      <th>Conductivity</th>\n",
       "      <th>Organic_carbon</th>\n",
       "      <th>Trihalomethanes</th>\n",
       "      <th>Turbidity</th>\n",
       "    </tr>\n",
       "  </thead>\n",
       "  <tbody>\n",
       "    <tr>\n",
       "      <th>0</th>\n",
       "      <td>9.871791</td>\n",
       "      <td>114.371450</td>\n",
       "      <td>27912.908263</td>\n",
       "      <td>8.660269</td>\n",
       "      <td>340.046298</td>\n",
       "      <td>490.451835</td>\n",
       "      <td>8.517762</td>\n",
       "      <td>64.831248</td>\n",
       "      <td>3.652264</td>\n",
       "    </tr>\n",
       "    <tr>\n",
       "      <th>1</th>\n",
       "      <td>8.331553</td>\n",
       "      <td>238.992414</td>\n",
       "      <td>11635.772076</td>\n",
       "      <td>3.923239</td>\n",
       "      <td>276.402280</td>\n",
       "      <td>406.245129</td>\n",
       "      <td>15.410764</td>\n",
       "      <td>66.396293</td>\n",
       "      <td>2.692389</td>\n",
       "    </tr>\n",
       "    <tr>\n",
       "      <th>2</th>\n",
       "      <td>9.534022</td>\n",
       "      <td>201.955208</td>\n",
       "      <td>9472.614920</td>\n",
       "      <td>6.105708</td>\n",
       "      <td>319.576420</td>\n",
       "      <td>259.636803</td>\n",
       "      <td>15.625617</td>\n",
       "      <td>66.396293</td>\n",
       "      <td>2.768239</td>\n",
       "    </tr>\n",
       "    <tr>\n",
       "      <th>3</th>\n",
       "      <td>5.736676</td>\n",
       "      <td>180.290908</td>\n",
       "      <td>12683.483292</td>\n",
       "      <td>7.907877</td>\n",
       "      <td>423.876297</td>\n",
       "      <td>415.006576</td>\n",
       "      <td>12.392869</td>\n",
       "      <td>83.707045</td>\n",
       "      <td>2.741791</td>\n",
       "    </tr>\n",
       "    <tr>\n",
       "      <th>4</th>\n",
       "      <td>6.427721</td>\n",
       "      <td>166.850237</td>\n",
       "      <td>12215.409083</td>\n",
       "      <td>7.696751</td>\n",
       "      <td>376.282617</td>\n",
       "      <td>352.745370</td>\n",
       "      <td>20.130483</td>\n",
       "      <td>66.735044</td>\n",
       "      <td>2.904453</td>\n",
       "    </tr>\n",
       "    <tr>\n",
       "      <th>...</th>\n",
       "      <td>...</td>\n",
       "      <td>...</td>\n",
       "      <td>...</td>\n",
       "      <td>...</td>\n",
       "      <td>...</td>\n",
       "      <td>...</td>\n",
       "      <td>...</td>\n",
       "      <td>...</td>\n",
       "      <td>...</td>\n",
       "    </tr>\n",
       "    <tr>\n",
       "      <th>465</th>\n",
       "      <td>6.363836</td>\n",
       "      <td>207.422436</td>\n",
       "      <td>9844.702293</td>\n",
       "      <td>9.765921</td>\n",
       "      <td>320.630725</td>\n",
       "      <td>466.592544</td>\n",
       "      <td>19.156261</td>\n",
       "      <td>58.265305</td>\n",
       "      <td>4.038984</td>\n",
       "    </tr>\n",
       "    <tr>\n",
       "      <th>466</th>\n",
       "      <td>7.080795</td>\n",
       "      <td>138.525712</td>\n",
       "      <td>17905.480019</td>\n",
       "      <td>7.929303</td>\n",
       "      <td>399.503611</td>\n",
       "      <td>485.423179</td>\n",
       "      <td>17.667366</td>\n",
       "      <td>36.058262</td>\n",
       "      <td>5.437429</td>\n",
       "    </tr>\n",
       "    <tr>\n",
       "      <th>467</th>\n",
       "      <td>8.832142</td>\n",
       "      <td>176.808661</td>\n",
       "      <td>12171.024549</td>\n",
       "      <td>7.475336</td>\n",
       "      <td>321.257628</td>\n",
       "      <td>395.387337</td>\n",
       "      <td>12.481552</td>\n",
       "      <td>65.867189</td>\n",
       "      <td>3.914512</td>\n",
       "    </tr>\n",
       "    <tr>\n",
       "      <th>468</th>\n",
       "      <td>7.080795</td>\n",
       "      <td>181.374651</td>\n",
       "      <td>14579.822073</td>\n",
       "      <td>5.435058</td>\n",
       "      <td>333.775777</td>\n",
       "      <td>308.792515</td>\n",
       "      <td>9.545092</td>\n",
       "      <td>60.214647</td>\n",
       "      <td>4.161749</td>\n",
       "    </tr>\n",
       "    <tr>\n",
       "      <th>469</th>\n",
       "      <td>7.080795</td>\n",
       "      <td>246.239763</td>\n",
       "      <td>6974.225135</td>\n",
       "      <td>9.812468</td>\n",
       "      <td>417.911837</td>\n",
       "      <td>355.532470</td>\n",
       "      <td>13.330091</td>\n",
       "      <td>68.388378</td>\n",
       "      <td>4.138697</td>\n",
       "    </tr>\n",
       "  </tbody>\n",
       "</table>\n",
       "<p>470 rows × 9 columns</p>\n",
       "</div>"
      ],
      "text/plain": [
       "           ph    Hardness        Solids  Chloramines     Sulfate  \\\n",
       "0    9.871791  114.371450  27912.908263     8.660269  340.046298   \n",
       "1    8.331553  238.992414  11635.772076     3.923239  276.402280   \n",
       "2    9.534022  201.955208   9472.614920     6.105708  319.576420   \n",
       "3    5.736676  180.290908  12683.483292     7.907877  423.876297   \n",
       "4    6.427721  166.850237  12215.409083     7.696751  376.282617   \n",
       "..        ...         ...           ...          ...         ...   \n",
       "465  6.363836  207.422436   9844.702293     9.765921  320.630725   \n",
       "466  7.080795  138.525712  17905.480019     7.929303  399.503611   \n",
       "467  8.832142  176.808661  12171.024549     7.475336  321.257628   \n",
       "468  7.080795  181.374651  14579.822073     5.435058  333.775777   \n",
       "469  7.080795  246.239763   6974.225135     9.812468  417.911837   \n",
       "\n",
       "     Conductivity  Organic_carbon  Trihalomethanes  Turbidity  \n",
       "0      490.451835        8.517762        64.831248   3.652264  \n",
       "1      406.245129       15.410764        66.396293   2.692389  \n",
       "2      259.636803       15.625617        66.396293   2.768239  \n",
       "3      415.006576       12.392869        83.707045   2.741791  \n",
       "4      352.745370       20.130483        66.735044   2.904453  \n",
       "..            ...             ...              ...        ...  \n",
       "465    466.592544       19.156261        58.265305   4.038984  \n",
       "466    485.423179       17.667366        36.058262   5.437429  \n",
       "467    395.387337       12.481552        65.867189   3.914512  \n",
       "468    308.792515        9.545092        60.214647   4.161749  \n",
       "469    355.532470       13.330091        68.388378   4.138697  \n",
       "\n",
       "[470 rows x 9 columns]"
      ]
     },
     "execution_count": 4,
     "metadata": {},
     "output_type": "execute_result"
    }
   ],
   "source": [
    "X_test"
   ]
  },
  {
   "cell_type": "code",
   "execution_count": 5,
   "metadata": {},
   "outputs": [
    {
     "data": {
      "text/html": [
       "<div>\n",
       "<style scoped>\n",
       "    .dataframe tbody tr th:only-of-type {\n",
       "        vertical-align: middle;\n",
       "    }\n",
       "\n",
       "    .dataframe tbody tr th {\n",
       "        vertical-align: top;\n",
       "    }\n",
       "\n",
       "    .dataframe thead th {\n",
       "        text-align: right;\n",
       "    }\n",
       "</style>\n",
       "<table border=\"1\" class=\"dataframe\">\n",
       "  <thead>\n",
       "    <tr style=\"text-align: right;\">\n",
       "      <th></th>\n",
       "      <th>Potability</th>\n",
       "    </tr>\n",
       "  </thead>\n",
       "  <tbody>\n",
       "    <tr>\n",
       "      <th>0</th>\n",
       "      <td>0</td>\n",
       "    </tr>\n",
       "    <tr>\n",
       "      <th>1</th>\n",
       "      <td>0</td>\n",
       "    </tr>\n",
       "    <tr>\n",
       "      <th>2</th>\n",
       "      <td>0</td>\n",
       "    </tr>\n",
       "    <tr>\n",
       "      <th>3</th>\n",
       "      <td>1</td>\n",
       "    </tr>\n",
       "    <tr>\n",
       "      <th>4</th>\n",
       "      <td>1</td>\n",
       "    </tr>\n",
       "    <tr>\n",
       "      <th>...</th>\n",
       "      <td>...</td>\n",
       "    </tr>\n",
       "    <tr>\n",
       "      <th>465</th>\n",
       "      <td>0</td>\n",
       "    </tr>\n",
       "    <tr>\n",
       "      <th>466</th>\n",
       "      <td>1</td>\n",
       "    </tr>\n",
       "    <tr>\n",
       "      <th>467</th>\n",
       "      <td>1</td>\n",
       "    </tr>\n",
       "    <tr>\n",
       "      <th>468</th>\n",
       "      <td>0</td>\n",
       "    </tr>\n",
       "    <tr>\n",
       "      <th>469</th>\n",
       "      <td>1</td>\n",
       "    </tr>\n",
       "  </tbody>\n",
       "</table>\n",
       "<p>470 rows × 1 columns</p>\n",
       "</div>"
      ],
      "text/plain": [
       "     Potability\n",
       "0             0\n",
       "1             0\n",
       "2             0\n",
       "3             1\n",
       "4             1\n",
       "..          ...\n",
       "465           0\n",
       "466           1\n",
       "467           1\n",
       "468           0\n",
       "469           1\n",
       "\n",
       "[470 rows x 1 columns]"
      ]
     },
     "execution_count": 5,
     "metadata": {},
     "output_type": "execute_result"
    }
   ],
   "source": [
    "y_test"
   ]
  },
  {
   "cell_type": "code",
   "execution_count": 6,
   "metadata": {},
   "outputs": [],
   "source": [
    "sc = StandardScaler()\n",
    "X_train = sc.fit_transform(X_train)\n",
    "X_test = sc.transform(X_test)"
   ]
  },
  {
   "cell_type": "code",
   "execution_count": 7,
   "metadata": {},
   "outputs": [
    {
     "data": {
      "text/plain": [
       "array([[ 0.63957515, -0.97029563, -0.55683796, ...,  1.33077824,\n",
       "         0.62333532, -0.86514173],\n",
       "       [ 0.74957579,  0.22000504, -1.03225958, ...,  1.21422757,\n",
       "         0.8113433 ,  0.36371152],\n",
       "       [ 2.8731669 ,  1.91297408,  2.6107465 , ..., -0.57048535,\n",
       "        -0.69414009,  1.19732625],\n",
       "       ...,\n",
       "       [-0.56981278, -0.75884719,  2.26772292, ...,  1.35476621,\n",
       "        -0.10512687, -0.33680143],\n",
       "       [ 0.76096198, -0.43759225, -1.33917552, ..., -0.17633472,\n",
       "         0.73604217, -1.82577489],\n",
       "       [-0.05234353, -0.91778607, -0.45676963, ..., -1.09974938,\n",
       "        -1.39059198,  0.17667365]])"
      ]
     },
     "execution_count": 7,
     "metadata": {},
     "output_type": "execute_result"
    }
   ],
   "source": [
    "X_train"
   ]
  },
  {
   "cell_type": "code",
   "execution_count": 8,
   "metadata": {},
   "outputs": [
    {
     "data": {
      "text/plain": [
       "array([[0],\n",
       "       [0],\n",
       "       [0],\n",
       "       ...,\n",
       "       [1],\n",
       "       [0],\n",
       "       [0]])"
      ]
     },
     "execution_count": 8,
     "metadata": {},
     "output_type": "execute_result"
    }
   ],
   "source": [
    "y_train = np.array(y_train)\n",
    "y_test = np.array(y_test)\n",
    "\n",
    "y_train"
   ]
  },
  {
   "cell_type": "markdown",
   "metadata": {},
   "source": [
    "As our data is ready to perform on the model, let us build the same models which we have built in intial analysis"
   ]
  },
  {
   "cell_type": "markdown",
   "metadata": {},
   "source": [
    "# SVM Model"
   ]
  },
  {
   "cell_type": "code",
   "execution_count": 9,
   "metadata": {},
   "outputs": [
    {
     "name": "stderr",
     "output_type": "stream",
     "text": [
      "/Users/tharunguduguntla/opt/anaconda3/lib/python3.8/site-packages/sklearn/utils/validation.py:63: DataConversionWarning: A column-vector y was passed when a 1d array was expected. Please change the shape of y to (n_samples, ), for example using ravel().\n",
      "  return f(*args, **kwargs)\n"
     ]
    },
    {
     "name": "stdout",
     "output_type": "stream",
     "text": [
      "Testing score: 0.7\n",
      "CPU times: user 284 ms, sys: 10.9 ms, total: 295 ms\n",
      "Wall time: 301 ms\n"
     ]
    }
   ],
   "source": [
    "%%time\n",
    "\n",
    "SVC_model = SVC(C= 1.2,gamma = 'scale', kernel = 'poly',degree= 4)\n",
    "\n",
    "# Fitting our data\n",
    "SVC_model.fit(X_train,y_train)\n",
    "\n",
    "# Predicting on our test data\n",
    "SVC_predict= SVC_model.predict(X_test)\n",
    "\n",
    "# Checking the score\n",
    "SVC_score = accuracy_score(y_test, SVC_predict)\n",
    "\n",
    "# Printing the test score\n",
    "print('Testing score:',SVC_score)"
   ]
  },
  {
   "cell_type": "code",
   "execution_count": 10,
   "metadata": {},
   "outputs": [
    {
     "data": {
      "text/plain": [
       "<sklearn.metrics._plot.confusion_matrix.ConfusionMatrixDisplay at 0x7fbdd91de190>"
      ]
     },
     "execution_count": 10,
     "metadata": {},
     "output_type": "execute_result"
    },
    {
     "data": {
      "image/png": "[encoded data removed]",
      "text/plain": [
       "<Figure size 432x288 with 2 Axes>"
      ]
     },
     "metadata": {
      "needs_background": "light"
     },
     "output_type": "display_data"
    }
   ],
   "source": [
    "plot_confusion_matrix(SVC_model,X_test,y_test)"
   ]
  },
  {
   "cell_type": "code",
   "execution_count": 11,
   "metadata": {},
   "outputs": [
    {
     "data": {
      "text/plain": [
       "<sklearn.metrics._plot.roc_curve.RocCurveDisplay at 0x7fbdda96e0d0>"
      ]
     },
     "execution_count": 11,
     "metadata": {},
     "output_type": "execute_result"
    },
    {
     "data": {
      "image/png": "[encoded data removed]",
      "text/plain": [
       "<Figure size 432x288 with 1 Axes>"
      ]
     },
     "metadata": {
      "needs_background": "light"
     },
     "output_type": "display_data"
    }
   ],
   "source": [
    "plot_roc_curve(SVC_model,X_test,y_test)"
   ]
  },
  {
   "cell_type": "markdown",
   "metadata": {},
   "source": [
    "# MLP model"
   ]
  },
  {
   "cell_type": "code",
   "execution_count": 12,
   "metadata": {},
   "outputs": [],
   "source": [
    "# Converting arrays to Tensor\n",
    "X_train = torch.tensor(X_train)\n",
    "X_test = torch.tensor(X_test)"
   ]
  },
  {
   "cell_type": "code",
   "execution_count": 13,
   "metadata": {},
   "outputs": [],
   "source": [
    "# Reducing the array size\n",
    "y_train = y_train.squeeze()\n",
    "y_test = y_test.squeeze()"
   ]
  },
  {
   "cell_type": "code",
   "execution_count": 14,
   "metadata": {},
   "outputs": [],
   "source": [
    "# Converting the reduced array to tensor\n",
    "y_train = torch.tensor(np.array(y_train))\n",
    "y_test = torch.tensor(np.array(y_test))"
   ]
  },
  {
   "cell_type": "code",
   "execution_count": 15,
   "metadata": {},
   "outputs": [
    {
     "data": {
      "text/plain": [
       "torch.Size([470])"
      ]
     },
     "execution_count": 15,
     "metadata": {},
     "output_type": "execute_result"
    }
   ],
   "source": [
    "y_test.shape"
   ]
  },
  {
   "cell_type": "code",
   "execution_count": 16,
   "metadata": {},
   "outputs": [],
   "source": [
    "# Parameters needed for our perceptron network\n",
    "input_dim = X_train.shape[1]\n",
    "hidden_dim = 150\n",
    "output_dim = 2\n",
    "dropout = 0.4\n",
    "activation = F.relu"
   ]
  },
  {
   "cell_type": "code",
   "execution_count": 17,
   "metadata": {},
   "outputs": [],
   "source": [
    "# Building a network\n",
    "class MLP(nn.Module):\n",
    "    def __init__(\n",
    "            self,\n",
    "            input_size = input_dim,\n",
    "            hidden_size = hidden_dim,\n",
    "            output_size = output_dim,\n",
    "            dropout = dropout,\n",
    "            activation = activation\n",
    "    ):\n",
    "        super(MLP, self).__init__()\n",
    "        self.dropout = nn.Dropout(dropout)\n",
    "        self.activation = activation\n",
    "        self.fc1 = nn.Linear(input_size, hidden_size)\n",
    "        self.fc2 = nn.Linear(hidden_size, hidden_size)\n",
    "        self.output_size = nn.Linear(hidden_size, output_size)\n",
    "        \n",
    "    def forward(self, X):\n",
    "        X = self.activation(self.fc1(X))\n",
    "        X = self.dropout(X)\n",
    "        X = self.activation(self.fc2(X))\n",
    "        X = self.dropout(X)\n",
    "        X = F.softmax(self.output_size(X), dim = -1)\n",
    "        \n",
    "        return X\n"
   ]
  },
  {
   "cell_type": "code",
   "execution_count": 18,
   "metadata": {},
   "outputs": [],
   "source": [
    "# Best Parameters we found\n",
    "batch_size = 250\n",
    "lr = 0.001\n",
    "epochs = 400\n",
    "optimizer = optim.Adam\n",
    "criterion = nn.CrossEntropyLoss()"
   ]
  },
  {
   "cell_type": "code",
   "execution_count": 19,
   "metadata": {},
   "outputs": [
    {
     "name": "stdout",
     "output_type": "stream",
     "text": [
      "  epoch    train_loss    valid_acc    valid_loss     dur\n",
      "-------  ------------  -----------  ------------  ------\n",
      "      1        \u001b[36m0.6829\u001b[0m       \u001b[32m0.6128\u001b[0m        \u001b[35m0.6671\u001b[0m  0.0447\n",
      "      2        \u001b[36m0.6707\u001b[0m       0.6128        0.6672  0.0413\n",
      "      3        \u001b[36m0.6687\u001b[0m       0.6128        \u001b[35m0.6649\u001b[0m  0.0398\n",
      "      4        \u001b[36m0.6664\u001b[0m       0.6128        \u001b[35m0.6628\u001b[0m  0.0393\n",
      "      5        \u001b[36m0.6623\u001b[0m       0.6128        \u001b[35m0.6606\u001b[0m  0.0393\n",
      "      6        \u001b[36m0.6618\u001b[0m       \u001b[32m0.6147\u001b[0m        \u001b[35m0.6582\u001b[0m  0.0400\n",
      "      7        \u001b[36m0.6605\u001b[0m       0.6147        \u001b[35m0.6552\u001b[0m  0.0395\n",
      "      8        \u001b[36m0.6552\u001b[0m       \u001b[32m0.6165\u001b[0m        \u001b[35m0.6517\u001b[0m  0.0403\n",
      "      9        \u001b[36m0.6500\u001b[0m       \u001b[32m0.6278\u001b[0m        \u001b[35m0.6469\u001b[0m  0.0405\n",
      "     10        \u001b[36m0.6459\u001b[0m       \u001b[32m0.6429\u001b[0m        \u001b[35m0.6418\u001b[0m  0.0411\n",
      "     11        \u001b[36m0.6434\u001b[0m       \u001b[32m0.6504\u001b[0m        \u001b[35m0.6369\u001b[0m  0.0412\n",
      "     12        \u001b[36m0.6341\u001b[0m       \u001b[32m0.6635\u001b[0m        \u001b[35m0.6320\u001b[0m  0.0422\n",
      "     13        \u001b[36m0.6323\u001b[0m       0.6617        \u001b[35m0.6277\u001b[0m  0.0414\n",
      "     14        \u001b[36m0.6286\u001b[0m       \u001b[32m0.6692\u001b[0m        \u001b[35m0.6247\u001b[0m  0.0413\n",
      "     15        \u001b[36m0.6270\u001b[0m       \u001b[32m0.6729\u001b[0m        \u001b[35m0.6218\u001b[0m  0.0406\n",
      "     16        \u001b[36m0.6267\u001b[0m       \u001b[32m0.6767\u001b[0m        \u001b[35m0.6190\u001b[0m  0.0419\n",
      "     17        \u001b[36m0.6202\u001b[0m       0.6729        \u001b[35m0.6170\u001b[0m  0.0405\n",
      "     18        0.6262       \u001b[32m0.6805\u001b[0m        \u001b[35m0.6154\u001b[0m  0.0422\n",
      "     19        \u001b[36m0.6164\u001b[0m       0.6786        \u001b[35m0.6132\u001b[0m  0.0404\n",
      "     20        0.6191       0.6805        \u001b[35m0.6130\u001b[0m  0.0401\n",
      "     21        0.6172       \u001b[32m0.6823\u001b[0m        \u001b[35m0.6124\u001b[0m  0.0591\n",
      "     22        \u001b[36m0.6152\u001b[0m       0.6786        \u001b[35m0.6118\u001b[0m  0.0423\n",
      "     23        0.6153       0.6767        0.6119  0.0421\n",
      "     24        \u001b[36m0.6090\u001b[0m       0.6823        \u001b[35m0.6090\u001b[0m  0.0502\n",
      "     25        0.6158       \u001b[32m0.6842\u001b[0m        \u001b[35m0.6085\u001b[0m  0.0455\n",
      "     26        0.6139       0.6842        \u001b[35m0.6083\u001b[0m  0.0421\n",
      "     27        0.6116       0.6823        0.6085  0.0407\n",
      "     28        0.6124       0.6692        0.6094  0.0415\n",
      "     29        \u001b[36m0.6088\u001b[0m       0.6767        0.6094  0.0424\n",
      "     30        0.6112       0.6805        \u001b[35m0.6073\u001b[0m  0.0411\n",
      "     31        \u001b[36m0.6081\u001b[0m       0.6823        0.6084  0.0419\n",
      "     32        0.6114       0.6748        0.6075  0.0416\n",
      "     33        \u001b[36m0.6065\u001b[0m       0.6823        \u001b[35m0.6064\u001b[0m  0.0415\n",
      "     34        0.6082       0.6842        \u001b[35m0.6055\u001b[0m  0.0417\n",
      "     35        0.6068       \u001b[32m0.6936\u001b[0m        \u001b[35m0.6049\u001b[0m  0.0420\n",
      "     36        0.6091       0.6842        0.6057  0.0407\n",
      "     37        0.6121       0.6748        \u001b[35m0.6047\u001b[0m  0.0413\n",
      "     38        0.6068       0.6729        0.6049  0.0411\n",
      "     39        0.6112       0.6786        0.6057  0.0411\n",
      "     40        0.6090       0.6842        0.6057  0.0414\n",
      "     41        \u001b[36m0.6031\u001b[0m       0.6786        0.6060  0.0424\n",
      "Stopping since valid_loss has not improved in the last 5 epochs.\n"
     ]
    },
    {
     "data": {
      "text/plain": [
       "<class 'skorch.classifier.NeuralNetClassifier'>[initialized](\n",
       "  module_=MLP(\n",
       "    (dropout): Dropout(p=0.4, inplace=False)\n",
       "    (fc1): Linear(in_features=9, out_features=150, bias=True)\n",
       "    (fc2): Linear(in_features=150, out_features=150, bias=True)\n",
       "    (output_size): Linear(in_features=150, out_features=2, bias=True)\n",
       "  ),\n",
       ")"
      ]
     },
     "execution_count": 19,
     "metadata": {},
     "output_type": "execute_result"
    }
   ],
   "source": [
    "# Fitting the parameters and building the model\n",
    "torch.manual_seed(0)\n",
    "\n",
    "MLP_model = NeuralNetClassifier(MLP,\n",
    "                               max_epochs = epochs,\n",
    "                               batch_size = batch_size,\n",
    "                               optimizer = optimizer,\n",
    "                               criterion = criterion,\n",
    "                               lr = lr,\n",
    "                               callbacks = [EarlyStopping()]\n",
    "                              )\n",
    "# Fitting our model to the data\n",
    "MLP_model.fit(X_train.float(), y_train)"
   ]
  },
  {
   "cell_type": "code",
   "execution_count": 20,
   "metadata": {},
   "outputs": [
    {
     "name": "stdout",
     "output_type": "stream",
     "text": [
      "Testing Score: 0.6957446808510638\n"
     ]
    }
   ],
   "source": [
    "# Making predictions on the test data set\n",
    "MLP_predict = MLP_model.predict(X_test.float())\n",
    "\n",
    "# Checking how well did our model performed\n",
    "MLP_score = accuracy_score(y_test, MLP_predict)\n",
    "# Printing the result\n",
    "print('Testing Score:',MLP_score)"
   ]
  },
  {
   "cell_type": "code",
   "execution_count": 21,
   "metadata": {},
   "outputs": [
    {
     "data": {
      "image/png": "[encoded data removed]",
      "text/plain": [
       "<Figure size 432x288 with 2 Axes>"
      ]
     },
     "metadata": {
      "needs_background": "light"
     },
     "output_type": "display_data"
    }
   ],
   "source": [
    "plot_confusion_matrix(MLP_model,X_test.float(),y_test);"
   ]
  },
  {
   "cell_type": "code",
   "execution_count": 22,
   "metadata": {},
   "outputs": [
    {
     "data": {
      "image/png": "[encoded data removed]",
      "text/plain": [
       "<Figure size 432x288 with 1 Axes>"
      ]
     },
     "metadata": {
      "needs_background": "light"
     },
     "output_type": "display_data"
    }
   ],
   "source": [
    "plot_roc_curve(MLP_model,X_test.float(),y_test);"
   ]
  },
  {
   "cell_type": "markdown",
   "metadata": {},
   "source": [
    "Two models performance has been tested on the test dataset and Confusion Matrices and ROC curves are plotted"
   ]
  }
 ],
 "metadata": {
  "kernelspec": {
   "display_name": "Python 3",
   "language": "python",
   "name": "python3"
  },
  "language_info": {
   "codemirror_mode": {
    "name": "ipython",
    "version": 3
   },
   "file_extension": ".py",
   "mimetype": "text/x-python",
   "name": "python",
   "nbconvert_exporter": "python",
   "pygments_lexer": "ipython3",
   "version": "3.8.5"
  }
 },
 "nbformat": 4,
 "nbformat_minor": 4
}
